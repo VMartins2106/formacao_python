{
  "nbformat": 4,
  "nbformat_minor": 0,
  "metadata": {
    "colab": {
      "provenance": []
    },
    "kernelspec": {
      "name": "python3",
      "display_name": "Python 3"
    },
    "language_info": {
      "name": "python"
    }
  },
  "cells": [
    {
      "cell_type": "markdown",
      "source": [
        "# 1-Utilizando as funções `print()` e `input()`\n",
        "\n",
        "Aulas:\n",
        "\n",
        "[A função print()](https://alunos.empowerdata.com.br/52145-primeiros-passos-com-a-linguagem-python/1150631-a-funcao-print)\n",
        "\n",
        "[A função input()](https://alunos.empowerdata.com.br/52145-primeiros-passos-com-a-linguagem-python/1150634-a-funcao-input)"
      ],
      "metadata": {
        "id": "J0WOBxWxUz1b"
      }
    },
    {
      "cell_type": "markdown",
      "source": [
        "1.1 - Crie um script que solicite ao usuário o seu nome e em seguida imprima a frase: **\"`nome do usuário`, seja muito bem vindo(a)!\"**"
      ],
      "metadata": {
        "id": "3syMgo2DVOJi"
      }
    },
    {
      "cell_type": "code",
      "source": [
        "nome = input('Digite o seu nome: ')\n",
        "print(f'{nome}, seja muito bem vindo(a)!')"
      ],
      "metadata": {
        "id": "vLoggIrlVkIx",
        "colab": {
          "base_uri": "https://localhost:8080/"
        },
        "outputId": "c0d3f8b3-5f1d-4370-f3a7-f1a458390c0e"
      },
      "execution_count": 1,
      "outputs": [
        {
          "output_type": "stream",
          "name": "stdout",
          "text": [
            "Digite o seu nome: Victor\n",
            "Victor, seja muito bem vindo(a)!\n"
          ]
        }
      ]
    },
    {
      "cell_type": "markdown",
      "source": [
        "# 2-Operadores aritméticos\n",
        "\n",
        "Aula:\n",
        "\n",
        "[Operadores aritméticos](https://alunos.empowerdata.com.br/52145-primeiros-passos-com-a-linguagem-python/1150653-operadores-aritmeticos)"
      ],
      "metadata": {
        "id": "NL8RIN2KXQPY"
      }
    },
    {
      "cell_type": "markdown",
      "source": [
        "2.1 - Utilize o Python para calcular a média das notas de uma prova de matemática.\n",
        "\n",
        "- **Nota 1:** 7.8\n",
        "- **Nota 2:** 8.9\n",
        "- **Nota 3:** 8.3"
      ],
      "metadata": {
        "id": "4RdK6FZbXuBD"
      }
    },
    {
      "cell_type": "code",
      "source": [
        "media = (7.8 + 8.9 + 8.3) / 3\n",
        "print(f'Sua média é: {media}') "
      ],
      "metadata": {
        "id": "LX_XlIXKYJms",
        "colab": {
          "base_uri": "https://localhost:8080/"
        },
        "outputId": "613bade1-c21d-4c13-db6b-e7e1bdae199a"
      },
      "execution_count": 5,
      "outputs": [
        {
          "output_type": "stream",
          "name": "stdout",
          "text": [
            "Sua média é: 8.333333333333334\n"
          ]
        }
      ]
    },
    {
      "cell_type": "markdown",
      "source": [
        "2.2 - Sabemos que a fórmula para calcular a área de um retângulo é **A = b.\n",
        "\n",
        "---\n",
        "\n",
        "h**, onde:\n",
        "\n",
        "- **A** é a área a ser calculada\n",
        "- **b** é o comprimento da base \n",
        "- **h** o comprimento da altura. \n",
        "\n",
        "Dado o retângulo abaixo, utilize o Python para calcular a sua área.\n",
        "\n",
        "![image.png](data:image/png;base64,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)"
      ],
      "metadata": {
        "id": "lgc_HjuQYKPX"
      }
    },
    {
      "cell_type": "code",
      "source": [
        "area = 10 * 12\n",
        "print(f'A área do retângulo é de: {area}')"
      ],
      "metadata": {
        "colab": {
          "base_uri": "https://localhost:8080/"
        },
        "id": "mC7IWSFsDXH0",
        "outputId": "51e39d55-d136-4e09-941a-766c5b6feeb6"
      },
      "execution_count": 7,
      "outputs": [
        {
          "output_type": "stream",
          "name": "stdout",
          "text": [
            "A área do retângulo é de: 120\n"
          ]
        }
      ]
    },
    {
      "cell_type": "markdown",
      "source": [
        "2.3 - Utilize a linguagem Python para calcular a seguinte expressão matemática:\n",
        "\n",
        "$$\n",
        "\\begin{aligned}\n",
        "x & = 20 * 7 +  4^2  / 4 \\\\\n",
        "\\end{aligned}\n",
        "$$"
      ],
      "metadata": {
        "id": "q2AXqlQuY-3j"
      }
    },
    {
      "cell_type": "code",
      "source": [
        "x = (20*7) + ((4**2)/4)\n",
        "print(x)"
      ],
      "metadata": {
        "colab": {
          "base_uri": "https://localhost:8080/"
        },
        "id": "T1dK1Ua4Dij4",
        "outputId": "7ce8ee31-9d24-4109-d03b-7f3ea9ae3811"
      },
      "execution_count": 8,
      "outputs": [
        {
          "output_type": "stream",
          "name": "stdout",
          "text": [
            "144.0\n"
          ]
        }
      ]
    },
    {
      "cell_type": "markdown",
      "source": [
        "# 3-Operadores relacionais e lógicos\n",
        "\n",
        "Aula:\n",
        "\n",
        "[Operadores relacionais e lógicos](https://alunos.empowerdata.com.br/52145-primeiros-passos-com-a-linguagem-python/1150678-operadores-relacionais-e-logicos)"
      ],
      "metadata": {
        "id": "C6kDFnLdZYvh"
      }
    },
    {
      "cell_type": "markdown",
      "source": [
        "3.1 - Verifique se 10 é maior ou igual a 15"
      ],
      "metadata": {
        "id": "YzthSS14aQfN"
      }
    },
    {
      "cell_type": "code",
      "source": [
        "10 >= 15"
      ],
      "metadata": {
        "id": "OesUrCLEanrU",
        "colab": {
          "base_uri": "https://localhost:8080/"
        },
        "outputId": "4adb61ff-5b90-4655-9899-32f5b6f37f26"
      },
      "execution_count": 9,
      "outputs": [
        {
          "output_type": "execute_result",
          "data": {
            "text/plain": [
              "False"
            ]
          },
          "metadata": {},
          "execution_count": 9
        }
      ]
    },
    {
      "cell_type": "markdown",
      "source": [
        "3.2 - Verifique se a string **Python** é igual à string **python**"
      ],
      "metadata": {
        "id": "U-_EGuFRaqIt"
      }
    },
    {
      "cell_type": "code",
      "source": [
        "'Python' == 'python'"
      ],
      "metadata": {
        "id": "ci4YHjqNaybe",
        "colab": {
          "base_uri": "https://localhost:8080/"
        },
        "outputId": "ec026e9d-6d45-4239-b4b8-8f784215ad6e"
      },
      "execution_count": 10,
      "outputs": [
        {
          "output_type": "execute_result",
          "data": {
            "text/plain": [
              "False"
            ]
          },
          "metadata": {},
          "execution_count": 10
        }
      ]
    },
    {
      "cell_type": "markdown",
      "source": [
        "3.3 - Verifique se 100 é menor que 59 **E** se 200 é maior ou igual a 159"
      ],
      "metadata": {
        "id": "ZPeYhDm4ay7y"
      }
    },
    {
      "cell_type": "code",
      "source": [
        "100 < 59 and 200 >=159"
      ],
      "metadata": {
        "id": "Kg0jGvZcbVyn",
        "colab": {
          "base_uri": "https://localhost:8080/"
        },
        "outputId": "e0ac25f2-21d6-4f46-da39-c39aad883184"
      },
      "execution_count": 11,
      "outputs": [
        {
          "output_type": "execute_result",
          "data": {
            "text/plain": [
              "False"
            ]
          },
          "metadata": {},
          "execution_count": 11
        }
      ]
    },
    {
      "cell_type": "markdown",
      "source": [
        "3.4 - Verifique se 100 é maior que 48 **OU** a string **Python** é igual à string **python**"
      ],
      "metadata": {
        "id": "c6EP_2UMbW0f"
      }
    },
    {
      "cell_type": "code",
      "source": [
        "100>48 or 'Python' == 'python'"
      ],
      "metadata": {
        "id": "JJq4faC4bujK",
        "colab": {
          "base_uri": "https://localhost:8080/"
        },
        "outputId": "c6ae00b5-b01b-4823-b876-cfe1166aaca7"
      },
      "execution_count": 12,
      "outputs": [
        {
          "output_type": "execute_result",
          "data": {
            "text/plain": [
              "True"
            ]
          },
          "metadata": {},
          "execution_count": 12
        }
      ]
    },
    {
      "cell_type": "markdown",
      "source": [
        "3.5 - Faça a negação da expressão `10 > 3`"
      ],
      "metadata": {
        "id": "YxYevyaabvOX"
      }
    },
    {
      "cell_type": "code",
      "source": [
        "not (10>3)"
      ],
      "metadata": {
        "id": "Rd8QL7ezb2HY",
        "colab": {
          "base_uri": "https://localhost:8080/"
        },
        "outputId": "2e9c8185-33fa-41c5-d50b-a0aea0104e12"
      },
      "execution_count": 13,
      "outputs": [
        {
          "output_type": "execute_result",
          "data": {
            "text/plain": [
              "False"
            ]
          },
          "metadata": {},
          "execution_count": 13
        }
      ]
    },
    {
      "cell_type": "markdown",
      "source": [
        "# 4 - Trabalhando com strings\n",
        "\n",
        "Aulas:\n",
        "\n",
        "[Utilizando f-strings](https://alunos.empowerdata.com.br/52145-primeiros-passos-com-a-linguagem-python/1151004-utilizando-f-strings)\n",
        "\n",
        "[Métodos para manipulação de strings](https://alunos.empowerdata.com.br/52145-primeiros-passos-com-a-linguagem-python/1151012-metodos-para-manipulacao-de-strings)\n",
        "\n",
        "[Utilizando a técnica de fatiamento](https://alunos.empowerdata.com.br/52145-primeiros-passos-com-a-linguagem-python/1151025-utilizando-a-tecnica-de-slicing-fatiamento)"
      ],
      "metadata": {
        "id": "j1ZS20wdb2h2"
      }
    },
    {
      "cell_type": "markdown",
      "source": [
        "4.1 - Dada a frase **Eu amo programar na linguagem Python!**, utilize um método que retorne **EU AMO PROGRAMAR NA LINGUAGEM PYTHON!**"
      ],
      "metadata": {
        "id": "hbYR3j71b_Rm"
      }
    },
    {
      "cell_type": "code",
      "source": [
        "frase = \"Eu amo programar na linguagem Python!\"\n",
        "print(frase.upper())"
      ],
      "metadata": {
        "id": "TEv1Nqzuct2t",
        "colab": {
          "base_uri": "https://localhost:8080/"
        },
        "outputId": "1a9ac6f4-4f8b-448d-db25-abe39b7ed442"
      },
      "execution_count": 14,
      "outputs": [
        {
          "output_type": "stream",
          "name": "stdout",
          "text": [
            "EU AMO PROGRAMAR NA LINGUAGEM PYTHON!\n"
          ]
        }
      ]
    },
    {
      "cell_type": "markdown",
      "source": [
        "4.2 - Dada a frase **Eu amo programar na linguagem Python!**, utilize f-strings e a técnica de slicing para retornar a frase **Amo Python!**\n",
        "\n",
        "**Atenção:** a letra **A** da palavra **amo** deve ser maiúscula!"
      ],
      "metadata": {
        "id": "qQwDk-qZczji"
      }
    },
    {
      "cell_type": "code",
      "source": [
        "frase = \"Eu amo programar na linguagem Python!\"\n",
        "frase_list = frase.title()\n",
        "print(frase_list.split()[1] + \" \" + frase_list.split()[-1])"
      ],
      "metadata": {
        "id": "pz0n5VJ2dVVF",
        "colab": {
          "base_uri": "https://localhost:8080/"
        },
        "outputId": "9b63a8a0-8cd2-468d-a8b4-498fe06569b9"
      },
      "execution_count": 24,
      "outputs": [
        {
          "output_type": "stream",
          "name": "stdout",
          "text": [
            "Amo Python!\n"
          ]
        }
      ]
    },
    {
      "cell_type": "markdown",
      "source": [
        "# 5 - Estruturas de dados"
      ],
      "metadata": {
        "id": "ne3RJXG3dXCb"
      }
    },
    {
      "cell_type": "markdown",
      "source": [
        "## 5.1 - Listas\n",
        "\n",
        "Aulas:\n",
        "\n",
        "[Listas - parte 1](https://alunos.empowerdata.com.br/52145-primeiros-passos-com-a-linguagem-python/1151060-listas-parte-1)\n",
        "\n",
        "[Listas - parte 2](https://alunos.empowerdata.com.br/52145-primeiros-passos-com-a-linguagem-python/1151062-listas-parte-2)"
      ],
      "metadata": {
        "id": "_WoT67vzeMw2"
      }
    },
    {
      "cell_type": "markdown",
      "source": [
        "5.1.1 - Dada a lista abaixo, aplique as seguintes operações:"
      ],
      "metadata": {
        "id": "UvOoLrAMebiU"
      }
    },
    {
      "cell_type": "code",
      "source": [
        "lista = [1, 100, 'Instagram', 'Python', 100, True, 0, False]"
      ],
      "metadata": {
        "id": "Hw5DT1bgeiZG"
      },
      "execution_count": 26,
      "outputs": []
    },
    {
      "cell_type": "markdown",
      "source": [
        "- adicione o elemento `Empowerdata` no final da lista"
      ],
      "metadata": {
        "id": "HfSm-nzoevmr"
      }
    },
    {
      "cell_type": "code",
      "source": [
        "lista.append('Empowerdata')\n",
        "print(lista)"
      ],
      "metadata": {
        "id": "0XH-_N5De9rK",
        "colab": {
          "base_uri": "https://localhost:8080/"
        },
        "outputId": "0485c4e3-540a-45ec-a1de-9ebf9c6d4546"
      },
      "execution_count": 27,
      "outputs": [
        {
          "output_type": "stream",
          "name": "stdout",
          "text": [
            "[1, 100, 'Instagram', 'Python', 100, True, 0, False, 'Empowerdata']\n"
          ]
        }
      ]
    },
    {
      "cell_type": "markdown",
      "source": [
        "- adicione o elemento `149.50` na segunda posição da lista"
      ],
      "metadata": {
        "id": "e9WwwhGee-Ej"
      }
    },
    {
      "cell_type": "code",
      "source": [
        "lista.insert(1,149.50)\n",
        "print(lista)"
      ],
      "metadata": {
        "id": "CFMD7ElMfGvj",
        "colab": {
          "base_uri": "https://localhost:8080/"
        },
        "outputId": "e62f67c5-7d69-4b47-97cf-2e3304c9bbe5"
      },
      "execution_count": 29,
      "outputs": [
        {
          "output_type": "stream",
          "name": "stdout",
          "text": [
            "[1, 149.5, 100, 'Instagram', 'Python', 100, True, 0, False, 'Empowerdata']\n"
          ]
        }
      ]
    },
    {
      "cell_type": "code",
      "source": [],
      "metadata": {
        "id": "blEYJ2T4FPq-"
      },
      "execution_count": null,
      "outputs": []
    },
    {
      "cell_type": "markdown",
      "source": [
        "- remova o elemento `Instagram` da lista"
      ],
      "metadata": {
        "id": "myPy5mw-fHHt"
      }
    },
    {
      "cell_type": "code",
      "source": [
        "lista.remove('Instagram')\n",
        "print(lista)"
      ],
      "metadata": {
        "id": "nnt6MBXbfQ_Y",
        "colab": {
          "base_uri": "https://localhost:8080/"
        },
        "outputId": "3bf2781c-29b2-48a6-85d2-f0d5e019e1f0"
      },
      "execution_count": 32,
      "outputs": [
        {
          "output_type": "stream",
          "name": "stdout",
          "text": [
            "[1, 149.5, 100, 'Python', 100, True, 0, False, 'Empowerdata']\n"
          ]
        }
      ]
    },
    {
      "cell_type": "markdown",
      "source": [
        "- modifique o elemento `False` para `True`"
      ],
      "metadata": {
        "id": "AGHQvhUnfX6j"
      }
    },
    {
      "cell_type": "code",
      "source": [
        "lista[-2] = True\n",
        "print(lista)"
      ],
      "metadata": {
        "id": "tomz7M70ffZV",
        "colab": {
          "base_uri": "https://localhost:8080/"
        },
        "outputId": "ed70189b-56ab-47cc-f335-faa200c35b12"
      },
      "execution_count": 34,
      "outputs": [
        {
          "output_type": "stream",
          "name": "stdout",
          "text": [
            "[1, 149.5, 100, 'Python', 100, True, 0, True, 'Empowerdata']\n"
          ]
        }
      ]
    },
    {
      "cell_type": "markdown",
      "source": [
        "- verifique se o elemento de índice 5 é igual ao elemento de índice 7"
      ],
      "metadata": {
        "id": "Q01bBXYVfk1P"
      }
    },
    {
      "cell_type": "code",
      "source": [],
      "metadata": {
        "id": "1UYiV5qxgNnr"
      },
      "execution_count": null,
      "outputs": []
    },
    {
      "cell_type": "markdown",
      "source": [
        "## 5.2 - Dicionários\n",
        "\n",
        "Aulas:\n",
        "\n",
        "[Dicionários - parte 1](https://alunos.empowerdata.com.br/52145-primeiros-passos-com-a-linguagem-python/1151066-dicionarios-parte-1)\n",
        "\n",
        "[Dicionários - parte 2](https://alunos.empowerdata.com.br/52145-primeiros-passos-com-a-linguagem-python/1151067-dicionarios-parte-2)\n",
        "\n",
        "[Dicionários - parte 3](https://alunos.empowerdata.com.br/52145-primeiros-passos-com-a-linguagem-python/1151071-dicionarios-parte-3)"
      ],
      "metadata": {
        "id": "pNBjkmKZgXos"
      }
    },
    {
      "cell_type": "markdown",
      "source": [
        "5.2.1 - Dado o dicionário abaixo, aplique as seguintes operações:"
      ],
      "metadata": {
        "id": "R3Z98tscgcf_"
      }
    },
    {
      "cell_type": "code",
      "source": [
        "dados = {\n",
        "    'nome': 'Empowerdata',\n",
        "    'curso': 'Primeiros passos na linguagem Python',\n",
        "    'modulo': 'Exercícios de fixação',\n",
        "    'nota obtida': 9.2\n",
        "}"
      ],
      "metadata": {
        "id": "6vp3CybSgknp"
      },
      "execution_count": 37,
      "outputs": []
    },
    {
      "cell_type": "markdown",
      "source": [
        "- imprima qual é o nome do curso"
      ],
      "metadata": {
        "id": "nPdZBOFrhVnT"
      }
    },
    {
      "cell_type": "code",
      "source": [
        "print(dados['curso'])"
      ],
      "metadata": {
        "id": "5keoeALRhblr",
        "colab": {
          "base_uri": "https://localhost:8080/"
        },
        "outputId": "fb20c8d0-9941-417f-8b60-77face1d65c8"
      },
      "execution_count": 38,
      "outputs": [
        {
          "output_type": "stream",
          "name": "stdout",
          "text": [
            "Primeiros passos na linguagem Python\n"
          ]
        }
      ]
    },
    {
      "cell_type": "markdown",
      "source": [
        "- altere a nota obtida para **10.0**"
      ],
      "metadata": {
        "id": "ANV3fUCNhcaN"
      }
    },
    {
      "cell_type": "code",
      "source": [
        "dados['nota obtida'] = 10.0\n",
        "print(dados)"
      ],
      "metadata": {
        "id": "kKob9MQuh3cG",
        "colab": {
          "base_uri": "https://localhost:8080/"
        },
        "outputId": "a364d221-7c7b-4cbe-c4a7-170130c54d17"
      },
      "execution_count": 40,
      "outputs": [
        {
          "output_type": "stream",
          "name": "stdout",
          "text": [
            "{'nome': 'Empowerdata', 'curso': 'Primeiros passos na linguagem Python', 'modulo': 'Exercícios de fixação', 'nota obtida': 10.0}\n"
          ]
        }
      ]
    },
    {
      "cell_type": "markdown",
      "source": [
        "- apague o elemento `modulo`"
      ],
      "metadata": {
        "id": "vdIvHcr6iEJx"
      }
    },
    {
      "cell_type": "code",
      "source": [
        "del dados['modulo']\n",
        "print(dados)"
      ],
      "metadata": {
        "id": "bGRX9WyiiI67",
        "colab": {
          "base_uri": "https://localhost:8080/"
        },
        "outputId": "4f80e510-13cb-4773-816f-e61ebcfd6181"
      },
      "execution_count": 42,
      "outputs": [
        {
          "output_type": "stream",
          "name": "stdout",
          "text": [
            "{'nome': 'Empowerdata', 'curso': 'Primeiros passos na linguagem Python', 'nota obtida': 10.0}\n"
          ]
        }
      ]
    },
    {
      "cell_type": "markdown",
      "source": [
        "- imprima o nome do curso, com a **primeira letra de cada palavra** em **maiúsculo**"
      ],
      "metadata": {
        "id": "QV7RemJAiMmT"
      }
    },
    {
      "cell_type": "code",
      "source": [
        "print(dados['curso'].title())"
      ],
      "metadata": {
        "id": "WPBGOUCpiXeX",
        "colab": {
          "base_uri": "https://localhost:8080/"
        },
        "outputId": "14d76dfe-b5eb-4da4-c1d9-992c5a330af1"
      },
      "execution_count": 41,
      "outputs": [
        {
          "output_type": "stream",
          "name": "stdout",
          "text": [
            "Primeiros Passos Na Linguagem Python\n"
          ]
        }
      ]
    },
    {
      "cell_type": "markdown",
      "source": [
        "## 5.3 - Tuplas\n",
        "\n",
        "Aula:\n",
        "\n",
        "[Tuplas](https://alunos.empowerdata.com.br/52145-primeiros-passos-com-a-linguagem-python/1151082-tu-plas)"
      ],
      "metadata": {
        "id": "rOK_aHONjHZ_"
      }
    },
    {
      "cell_type": "markdown",
      "source": [
        "5.3.1 - Dada a tupla abaixo, imprima:"
      ],
      "metadata": {
        "id": "pF_1lozMjK4x"
      }
    },
    {
      "cell_type": "code",
      "source": [
        "tupla = (1, 2, 3, (4, 5), (6, 7))"
      ],
      "metadata": {
        "id": "7Kn69zhEjUqD"
      },
      "execution_count": 44,
      "outputs": []
    },
    {
      "cell_type": "markdown",
      "source": [
        "- o elemento **1**"
      ],
      "metadata": {
        "id": "JUYB_yXujYkv"
      }
    },
    {
      "cell_type": "code",
      "source": [
        "print(tupla[0])"
      ],
      "metadata": {
        "id": "RGtzTc0JjeRS",
        "colab": {
          "base_uri": "https://localhost:8080/"
        },
        "outputId": "45822cd7-400b-46b5-f1ab-a5fc0a9c0705"
      },
      "execution_count": 45,
      "outputs": [
        {
          "output_type": "stream",
          "name": "stdout",
          "text": [
            "1\n"
          ]
        }
      ]
    },
    {
      "cell_type": "markdown",
      "source": [
        "- o elemento **4**"
      ],
      "metadata": {
        "id": "HJzRLhmHjfNI"
      }
    },
    {
      "cell_type": "code",
      "source": [
        "print(tupla[3][0])"
      ],
      "metadata": {
        "id": "gmwnAUqLjjOg",
        "colab": {
          "base_uri": "https://localhost:8080/"
        },
        "outputId": "023b5ba4-fef4-4543-b803-d6bf73e74859"
      },
      "execution_count": 49,
      "outputs": [
        {
          "output_type": "stream",
          "name": "stdout",
          "text": [
            "4\n"
          ]
        }
      ]
    },
    {
      "cell_type": "markdown",
      "source": [
        "- o elemento **(6, 7)**"
      ],
      "metadata": {
        "id": "Rgt8QUM4jkdz"
      }
    },
    {
      "cell_type": "code",
      "source": [
        "print(tupla[4])"
      ],
      "metadata": {
        "id": "aN4yUcpBjpNd",
        "colab": {
          "base_uri": "https://localhost:8080/"
        },
        "outputId": "5ce5da65-7f46-4a08-9a7b-142546e2ff34"
      },
      "execution_count": 50,
      "outputs": [
        {
          "output_type": "stream",
          "name": "stdout",
          "text": [
            "(6, 7)\n"
          ]
        }
      ]
    },
    {
      "cell_type": "markdown",
      "source": [
        "## 5.4 - Conjuntos (set)\n",
        "\n",
        "Aula:\n",
        "\n",
        "[Conjuntos](https://alunos.empowerdata.com.br/52145-primeiros-passos-com-a-linguagem-python/1151088-conjuntos-sets)"
      ],
      "metadata": {
        "id": "c8bWuxtpjprd"
      }
    },
    {
      "cell_type": "markdown",
      "source": [
        "5.4.1 - Dados os conjuntos abaixo, aplique as seguintes operações:"
      ],
      "metadata": {
        "id": "gh0RB2CDj3n-"
      }
    },
    {
      "cell_type": "code",
      "source": [
        "conj_a = {1, 2, 3, 4, 5}\n",
        "conj_b = {6, 7, 3, 8, 9}"
      ],
      "metadata": {
        "id": "PEYG5KI8kE1c"
      },
      "execution_count": 51,
      "outputs": []
    },
    {
      "cell_type": "markdown",
      "source": [
        "- a **união** dos conjuntos"
      ],
      "metadata": {
        "id": "7AkF9OoAkMyC"
      }
    },
    {
      "cell_type": "code",
      "source": [
        "print(conj_a.union(conj_b))"
      ],
      "metadata": {
        "id": "PNYWbYNCkR5_",
        "colab": {
          "base_uri": "https://localhost:8080/"
        },
        "outputId": "66dd750e-1b74-44de-fc44-03d8deb434d2"
      },
      "execution_count": 52,
      "outputs": [
        {
          "output_type": "stream",
          "name": "stdout",
          "text": [
            "{1, 2, 3, 4, 5, 6, 7, 8, 9}\n"
          ]
        }
      ]
    },
    {
      "cell_type": "markdown",
      "source": [
        "- a **interseção** dos conjuntos"
      ],
      "metadata": {
        "id": "9QdOZOcPkSUo"
      }
    },
    {
      "cell_type": "code",
      "source": [
        "print(conj_a.intersection(conj_b))"
      ],
      "metadata": {
        "id": "i2pkuoeOkY0C",
        "colab": {
          "base_uri": "https://localhost:8080/"
        },
        "outputId": "0f19ec99-da5d-487e-c480-55de6f9f40ce"
      },
      "execution_count": 53,
      "outputs": [
        {
          "output_type": "stream",
          "name": "stdout",
          "text": [
            "{3}\n"
          ]
        }
      ]
    },
    {
      "cell_type": "markdown",
      "source": [
        "# 6-Estruturas de repetição & condicionais\n",
        "\n",
        "Aulas:\n",
        "\n",
        "[Estrutura de repetição - for](https://alunos.empowerdata.com.br/52145-primeiros-passos-com-a-linguagem-python/1152448-estrutura-de-repeticao-for)\n",
        "\n",
        "[Estrutura de repetição - while](https://alunos.empowerdata.com.br/52145-primeiros-passos-com-a-linguagem-python/1152450-estrutura-de-repeticao-while)\n",
        "\n",
        "[Estrutura condicional - if](https://alunos.empowerdata.com.br/52145-primeiros-passos-com-a-linguagem-python/1152499-estrutura-condicional-if)"
      ],
      "metadata": {
        "id": "XH22c6THkeJK"
      }
    },
    {
      "cell_type": "markdown",
      "source": [
        "6.1 - Desafio 🔥🔥🔥\n",
        "\n",
        "Neste desafio, vamos aumentar um pouquinho o nível de complexidade do exercício. Vamos utilizar os conceitos que praticamos acima, junto com as estruturas de repetição e condicionais para resolver o problema.\n",
        "\n",
        "**Problema**\n",
        "\n",
        "A lista abaixo contém as seguintes informações de pessoas que pretendem dirigir:\n",
        "\n",
        "- `nome`: nome da pessoa\n",
        "- `carteira`: **`True`** para as que possuem, **`False`** para as que não possuem\n",
        "- `idade`:a idade da pessoa\n",
        "\n",
        "Precisamos percorrer toda a lista e verificar se a pessoa pode ou não dirigir. Só podem dirigir as que possuem carteira **E** que a idade é maior ou igual a 18 anos.\n",
        "\n",
        "- para as pessoas que podem dirigir, imprima a frase: **`nome pode dirigir.`**\n",
        "- para as que não podem, imprima: **`nome não pode dirigir!`**"
      ],
      "metadata": {
        "id": "ti9XbHbeknnG"
      }
    },
    {
      "cell_type": "code",
      "source": [
        "pessoas = [ ('Vinicius', True, 21), ('Gabriel', False, 25), ('Ana', True, 20), ('Victor', True, 30), ('Lucas', False, 15) ]"
      ],
      "metadata": {
        "id": "aes_vaSWlBhN"
      },
      "execution_count": 54,
      "outputs": []
    },
    {
      "cell_type": "code",
      "source": [
        "for person in pessoas:\n",
        "  if person[1]==True and person[2]>=18:\n",
        "    print(f'{person[0]} pode dirigir.')\n",
        "  else:\n",
        "    print(f'{person[0]} não pode dirigir!')"
      ],
      "metadata": {
        "id": "6y2POVX1oRVQ",
        "colab": {
          "base_uri": "https://localhost:8080/"
        },
        "outputId": "feae84fa-05a6-4f1b-b821-883b5cb9d1c3"
      },
      "execution_count": 60,
      "outputs": [
        {
          "output_type": "stream",
          "name": "stdout",
          "text": [
            "Vinicius pode dirigir.\n",
            "Gabriel não pode dirigir!\n",
            "Ana pode dirigir.\n",
            "Victor pode dirigir.\n",
            "Lucas não pode dirigir!\n"
          ]
        }
      ]
    },
    {
      "cell_type": "markdown",
      "source": [
        "# 7-Funções\n",
        "\n",
        "Aulas:\n",
        "\n",
        "[O que são funções](https://alunos.empowerdata.com.br/52145-primeiros-passos-com-a-linguagem-python/1152594-o-que-sao-funcoes)\n",
        "\n",
        "[Criando funções](https://alunos.empowerdata.com.br/52145-primeiros-passos-com-a-linguagem-python/1152597-criando-funcoes)\n",
        "\n",
        "[Escopo de variáveis](https://alunos.empowerdata.com.br/52145-primeiros-passos-com-a-linguagem-python/1152598-escopo-de-variaveis)\n",
        "\n",
        "[Retorno de funções](https://alunos.empowerdata.com.br/52145-primeiros-passos-com-a-linguagem-python/1152599-retorno-de-funcoes)\n"
      ],
      "metadata": {
        "id": "3YqgEmY1pRrK"
      }
    },
    {
      "cell_type": "markdown",
      "source": [
        "7.1 - Desafio 🔥🔥🔥\n",
        "\n",
        "a) Crie uma função que receba 3 argumentos:\n",
        "\n",
        "- nome\n",
        "- carteira (True ou False)\n",
        "- idade\n",
        "\n",
        "e verifique se a pessoa pode ou não dirigir. \n",
        "- caso possa dirigir, a função deve imprimir a frase **`nome pode dirigir.`**\n",
        "- caso negativo, deve imprimir **`nome não pode dirigir!`**\n",
        "\n",
        "b) **reescreva a solução do último desafio utilizando a função que você criou!**"
      ],
      "metadata": {
        "id": "ZDSVcy7zpnfj"
      }
    },
    {
      "cell_type": "code",
      "source": [
        "def pessoa(nome,carteira,idade):\n",
        "  if carteira == 's':\n",
        "    carteira=True\n",
        "  elif carteira == 'n':\n",
        "    carteira=False\n",
        "  \n",
        "  if carteira==True and idade>=18:\n",
        "    print(f'{nome} pode dirigir.')\n",
        "  else:\n",
        "    print(f'{nome} não pode dirigir!')\n",
        "\n",
        "nome = input('Informe seu nome: ')\n",
        "carteira = input('Você tem carteira ? (s/n)')\n",
        "idade = input('Informe sua idade: ')\n",
        "\n",
        "pessoa(nome,carteira,int(idade))"
      ],
      "metadata": {
        "id": "O85c7Qt-qqGf",
        "colab": {
          "base_uri": "https://localhost:8080/"
        },
        "outputId": "39334d00-4b0d-4077-8243-347a21d4e27a"
      },
      "execution_count": 66,
      "outputs": [
        {
          "output_type": "stream",
          "name": "stdout",
          "text": [
            "Informe seu nome: Victor\n",
            "Você tem carteira ? (s/n)n\n",
            "Informe sua idade: 20\n",
            "Victor não pode dirigir!\n"
          ]
        }
      ]
    }
  ]
}