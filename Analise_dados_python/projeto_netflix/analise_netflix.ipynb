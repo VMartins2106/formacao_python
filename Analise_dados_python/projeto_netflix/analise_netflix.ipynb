{
 "cells": [
  {
   "cell_type": "markdown",
   "id": "8523c42b",
   "metadata": {},
   "source": [
    "# Análise de Dados - Netflix\n",
    "\n",
    "Para esse Business Case, vamos utilizar uma base de dados disponibilizada pela Netflix.\n",
    "\n",
    "Sua tarefa é utilizar os conhecimentos adquiridos até agora para responder as perguntas abaixo.\n",
    "\n",
    "O arquivo da base de dados está dispnível para download e também no site Kaggle.\n",
    "\n",
    "[Link da base de dados - Kaggle](https://www.kaggle.com/datasets/shivamb/netflix-shows)"
   ]
  },
  {
   "cell_type": "markdown",
   "id": "7f987966",
   "metadata": {},
   "source": [
    "# Carregamento e tratamento dos dados"
   ]
  },
  {
   "cell_type": "code",
   "execution_count": 2,
   "id": "104b224c",
   "metadata": {},
   "outputs": [],
   "source": [
    "import pandas as pd\n",
    "import numpy as np\n",
    "import seaborn as sns\n",
    "import matplotlib as plt"
   ]
  },
  {
   "cell_type": "code",
   "execution_count": 243,
   "id": "504d2fe0",
   "metadata": {},
   "outputs": [],
   "source": [
    "df = pd.read_csv('netflix.csv', parse_dates=['date_added'])"
   ]
  },
  {
   "cell_type": "code",
   "execution_count": 244,
   "id": "2d0d0629",
   "metadata": {},
   "outputs": [
    {
     "data": {
      "text/html": [
       "<div>\n",
       "<style scoped>\n",
       "    .dataframe tbody tr th:only-of-type {\n",
       "        vertical-align: middle;\n",
       "    }\n",
       "\n",
       "    .dataframe tbody tr th {\n",
       "        vertical-align: top;\n",
       "    }\n",
       "\n",
       "    .dataframe thead th {\n",
       "        text-align: right;\n",
       "    }\n",
       "</style>\n",
       "<table border=\"1\" class=\"dataframe\">\n",
       "  <thead>\n",
       "    <tr style=\"text-align: right;\">\n",
       "      <th></th>\n",
       "      <th>show_id</th>\n",
       "      <th>type</th>\n",
       "      <th>title</th>\n",
       "      <th>director</th>\n",
       "      <th>cast</th>\n",
       "      <th>country</th>\n",
       "      <th>date_added</th>\n",
       "      <th>release_year</th>\n",
       "      <th>rating</th>\n",
       "      <th>duration</th>\n",
       "      <th>listed_in</th>\n",
       "      <th>description</th>\n",
       "    </tr>\n",
       "  </thead>\n",
       "  <tbody>\n",
       "    <tr>\n",
       "      <th>0</th>\n",
       "      <td>s1</td>\n",
       "      <td>Movie</td>\n",
       "      <td>Dick Johnson Is Dead</td>\n",
       "      <td>Kirsten Johnson</td>\n",
       "      <td>NaN</td>\n",
       "      <td>United States</td>\n",
       "      <td>2021-09-25</td>\n",
       "      <td>2020</td>\n",
       "      <td>PG-13</td>\n",
       "      <td>90 min</td>\n",
       "      <td>Documentaries</td>\n",
       "      <td>As her father nears the end of his life, filmm...</td>\n",
       "    </tr>\n",
       "    <tr>\n",
       "      <th>1</th>\n",
       "      <td>s2</td>\n",
       "      <td>TV Show</td>\n",
       "      <td>Blood &amp; Water</td>\n",
       "      <td>NaN</td>\n",
       "      <td>Ama Qamata, Khosi Ngema, Gail Mabalane, Thaban...</td>\n",
       "      <td>South Africa</td>\n",
       "      <td>2021-09-24</td>\n",
       "      <td>2021</td>\n",
       "      <td>TV-MA</td>\n",
       "      <td>2 Seasons</td>\n",
       "      <td>International TV Shows, TV Dramas, TV Mysteries</td>\n",
       "      <td>After crossing paths at a party, a Cape Town t...</td>\n",
       "    </tr>\n",
       "    <tr>\n",
       "      <th>2</th>\n",
       "      <td>s3</td>\n",
       "      <td>TV Show</td>\n",
       "      <td>Ganglands</td>\n",
       "      <td>Julien Leclercq</td>\n",
       "      <td>Sami Bouajila, Tracy Gotoas, Samuel Jouy, Nabi...</td>\n",
       "      <td>NaN</td>\n",
       "      <td>2021-09-24</td>\n",
       "      <td>2021</td>\n",
       "      <td>TV-MA</td>\n",
       "      <td>1 Season</td>\n",
       "      <td>Crime TV Shows, International TV Shows, TV Act...</td>\n",
       "      <td>To protect his family from a powerful drug lor...</td>\n",
       "    </tr>\n",
       "    <tr>\n",
       "      <th>3</th>\n",
       "      <td>s4</td>\n",
       "      <td>TV Show</td>\n",
       "      <td>Jailbirds New Orleans</td>\n",
       "      <td>NaN</td>\n",
       "      <td>NaN</td>\n",
       "      <td>NaN</td>\n",
       "      <td>2021-09-24</td>\n",
       "      <td>2021</td>\n",
       "      <td>TV-MA</td>\n",
       "      <td>1 Season</td>\n",
       "      <td>Docuseries, Reality TV</td>\n",
       "      <td>Feuds, flirtations and toilet talk go down amo...</td>\n",
       "    </tr>\n",
       "    <tr>\n",
       "      <th>4</th>\n",
       "      <td>s5</td>\n",
       "      <td>TV Show</td>\n",
       "      <td>Kota Factory</td>\n",
       "      <td>NaN</td>\n",
       "      <td>Mayur More, Jitendra Kumar, Ranjan Raj, Alam K...</td>\n",
       "      <td>India</td>\n",
       "      <td>2021-09-24</td>\n",
       "      <td>2021</td>\n",
       "      <td>TV-MA</td>\n",
       "      <td>2 Seasons</td>\n",
       "      <td>International TV Shows, Romantic TV Shows, TV ...</td>\n",
       "      <td>In a city of coaching centers known to train I...</td>\n",
       "    </tr>\n",
       "  </tbody>\n",
       "</table>\n",
       "</div>"
      ],
      "text/plain": [
       "  show_id     type                  title         director  \\\n",
       "0      s1    Movie   Dick Johnson Is Dead  Kirsten Johnson   \n",
       "1      s2  TV Show          Blood & Water              NaN   \n",
       "2      s3  TV Show              Ganglands  Julien Leclercq   \n",
       "3      s4  TV Show  Jailbirds New Orleans              NaN   \n",
       "4      s5  TV Show           Kota Factory              NaN   \n",
       "\n",
       "                                                cast        country  \\\n",
       "0                                                NaN  United States   \n",
       "1  Ama Qamata, Khosi Ngema, Gail Mabalane, Thaban...   South Africa   \n",
       "2  Sami Bouajila, Tracy Gotoas, Samuel Jouy, Nabi...            NaN   \n",
       "3                                                NaN            NaN   \n",
       "4  Mayur More, Jitendra Kumar, Ranjan Raj, Alam K...          India   \n",
       "\n",
       "  date_added  release_year rating   duration  \\\n",
       "0 2021-09-25          2020  PG-13     90 min   \n",
       "1 2021-09-24          2021  TV-MA  2 Seasons   \n",
       "2 2021-09-24          2021  TV-MA   1 Season   \n",
       "3 2021-09-24          2021  TV-MA   1 Season   \n",
       "4 2021-09-24          2021  TV-MA  2 Seasons   \n",
       "\n",
       "                                           listed_in  \\\n",
       "0                                      Documentaries   \n",
       "1    International TV Shows, TV Dramas, TV Mysteries   \n",
       "2  Crime TV Shows, International TV Shows, TV Act...   \n",
       "3                             Docuseries, Reality TV   \n",
       "4  International TV Shows, Romantic TV Shows, TV ...   \n",
       "\n",
       "                                         description  \n",
       "0  As her father nears the end of his life, filmm...  \n",
       "1  After crossing paths at a party, a Cape Town t...  \n",
       "2  To protect his family from a powerful drug lor...  \n",
       "3  Feuds, flirtations and toilet talk go down amo...  \n",
       "4  In a city of coaching centers known to train I...  "
      ]
     },
     "execution_count": 244,
     "metadata": {},
     "output_type": "execute_result"
    }
   ],
   "source": [
    "df.head()"
   ]
  },
  {
   "cell_type": "markdown",
   "id": "4e3e772d",
   "metadata": {},
   "source": [
    "## 1 - Quantos registros e quantas colunas existem no dataset?"
   ]
  },
  {
   "cell_type": "code",
   "execution_count": 250,
   "id": "7f5e873a",
   "metadata": {},
   "outputs": [
    {
     "name": "stdout",
     "output_type": "stream",
     "text": [
      "Há 8807 linhas\n",
      "Há 12 colunas\n"
     ]
    }
   ],
   "source": [
    "print(f\"Há {df.shape[0]} linhas\")\n",
    "print(f\"Há {df.shape[1]} colunas\")"
   ]
  },
  {
   "cell_type": "markdown",
   "id": "da12708f",
   "metadata": {},
   "source": [
    "## 2- Existem colunas com valores ausentes? Quais?"
   ]
  },
  {
   "cell_type": "code",
   "execution_count": 14,
   "id": "607b52f3",
   "metadata": {},
   "outputs": [
    {
     "name": "stdout",
     "output_type": "stream",
     "text": [
      "\n",
      "Há 6 colunas com valores ausentes: \n",
      "'director': 2634 valores ausentes, \n",
      "'cast': 825 valores ausentes, \n",
      "'country': com 831 valores ausentes,\n",
      "'date_added': com 10 valores ausentes,\n",
      "'rating': com 4 valores ausentes,\n",
      "'duration': com 3 com valores ausentes\n",
      "\n"
     ]
    }
   ],
   "source": [
    "df.isna().sum()\n",
    "mensagem =\"\"\"\n",
    "Há 6 colunas com valores ausentes: \n",
    "'director': 2634 valores ausentes, \n",
    "'cast': 825 valores ausentes, \n",
    "'country': com 831 valores ausentes,\n",
    "'date_added': com 10 valores ausentes,\n",
    "'rating': com 4 valores ausentes,\n",
    "'duration': com 3 com valores ausentes\n",
    "\"\"\"\n",
    "print(mensagem)"
   ]
  },
  {
   "cell_type": "markdown",
   "id": "09e84fb4",
   "metadata": {},
   "source": [
    "## 3 - Quantas séries (TV Show) e quantos filmes (Movie) estão disponíveis?"
   ]
  },
  {
   "cell_type": "code",
   "execution_count": 254,
   "id": "5c943fa5",
   "metadata": {},
   "outputs": [
    {
     "name": "stdout",
     "output_type": "stream",
     "text": [
      "Temos 2676 séries disponíveis do tipo TV Show\n",
      "Temos 6131 séries disponíveis do tipo Filme\n"
     ]
    },
    {
     "data": {
      "image/png": "[encoded data removed]",
      "text/plain": [
       "<Figure size 640x480 with 1 Axes>"
      ]
     },
     "metadata": {},
     "output_type": "display_data"
    }
   ],
   "source": [
    "filtro_tv_show = df['type'] == 'TV Show'\n",
    "df_tv_show = df[filtro_tv_show].count()\n",
    "filtro_filme = df['type'] == 'Movie'\n",
    "df_filme = df[filtro_filme].count()\n",
    "print(f\"Temos {df_tv_show[1]} séries disponíveis do tipo TV Show\")\n",
    "print(f\"Temos {df_filme[1]} séries disponíveis do tipo Filme\")\n",
    "df['type'].value_counts().plot(kind='pie',title='Tipos disponíveis', autopct='%1.1f%%');"
   ]
  },
  {
   "cell_type": "markdown",
   "id": "eb8ad9e9",
   "metadata": {},
   "source": [
    "## 4 - Quantos registros no dataset estão sem o país especificado? Liste os seus tipos (filme ou série de tv) e quantidades."
   ]
  },
  {
   "cell_type": "code",
   "execution_count": 258,
   "id": "62c71861",
   "metadata": {},
   "outputs": [
    {
     "name": "stdout",
     "output_type": "stream",
     "text": [
      "Temos 831 registros sem país específicado!\n",
      "Temos 440 filmes do tipo 'Movie' sem país definido!\n",
      "Temos 391 filmes do tipo 'TV Show' sem país definido!\n"
     ]
    }
   ],
   "source": [
    "print(f\"Temos {df['country'].isna().sum()} registros sem país específicado!\")\n",
    "filtro_tipo_pais = (df['type']=='Movie') & (df['country'].isna()==True)\n",
    "df_filtro = df[filtro_tipo_pais].count()\n",
    "print(f\"Temos {df_filtro[1]} filmes do tipo 'Movie' sem país definido!\")\n",
    "filtro_pais_nulo = (df['type']=='TV Show') & (df['country'].isna()==True)\n",
    "df_filtro_nulo = df[filtro_pais_nulo].count()\n",
    "print(f\"Temos {df_filtro_nulo[0]} filmes do tipo 'TV Show' sem país definido!\")\n",
    "\n",
    "outra_forma = \"\"\"\n",
    "df_sem_pais = df.loc[df['country'].isna()]\n",
    "df_sem_pais.shape \n",
    "RETORNA: (831,12)\n",
    "df_sem_pais['type'].value_counts()\n",
    "\"\"\""
   ]
  },
  {
   "cell_type": "markdown",
   "id": "d508681e",
   "metadata": {},
   "source": [
    "## 5 - Qual a data do primeiro filme disponibilizado e qual o seu título e país?"
   ]
  },
  {
   "cell_type": "code",
   "execution_count": 273,
   "id": "e6d9c4ce",
   "metadata": {},
   "outputs": [
    {
     "name": "stdout",
     "output_type": "stream",
     "text": [
      "O primeiro filme a ser disponibilizado foi em 2008\n",
      "Título: To and From New York\n",
      "País: Estados Unidos\n"
     ]
    }
   ],
   "source": [
    "df_filmes = df.loc[df['type'] == 'Movie']\n",
    "df_filmes['date_added'].min()\n",
    "filtro_primeiro_ano = df_filmes['date_added'] == df_filmes['date_added'].min()\n",
    "df_filmes[filtro_primeiro_ano]['country']\n",
    "df_filmes[filtro_primeiro_ano]['title']\n",
    "print(\"O primeiro filme a ser disponibilizado foi em 2008\\nTítulo: To and From New York\\nPaís: Estados Unidos\")"
   ]
  },
  {
   "cell_type": "markdown",
   "id": "f5ca590f",
   "metadata": {},
   "source": [
    "## 6 - Qual o diretor com maior número de títulos (filme ou série)? Qual o seu país?"
   ]
  },
  {
   "cell_type": "code",
   "execution_count": 169,
   "id": "09f52b78",
   "metadata": {},
   "outputs": [
    {
     "name": "stdout",
     "output_type": "stream",
     "text": [
      "O diretor com maior quantidade de títulos é o Rajiv Chilaka, da India\n"
     ]
    }
   ],
   "source": [
    "# ATOR\n",
    "df['director'].value_counts()\n",
    "filtro_ator = df['director']=='Rajiv Chilaka'\n",
    "\n",
    "# PAÍS\n",
    "df_ator = df[filtro_ator]\n",
    "df_ator['country'].value_counts()\n",
    "\n",
    "print(f'O diretor com maior quantidade de títulos é o Rajiv Chilaka, da India')"
   ]
  },
  {
   "cell_type": "markdown",
   "id": "cd2e11b7",
   "metadata": {},
   "source": [
    "## 7 - Qual é o filme de maior duração? E o de menor duração?"
   ]
  },
  {
   "cell_type": "code",
   "execution_count": 333,
   "id": "4dc484d5",
   "metadata": {},
   "outputs": [
    {
     "name": "stdout",
     "output_type": "stream",
     "text": [
      "O filme com menor duração é o \"Silent\"\n",
      "O filme com maior duração é o \"The school of mischief\"\n"
     ]
    }
   ],
   "source": [
    "df_filme_duracao = df.loc[df['type'] == 'Movie']\n",
    "df_duracao =  list(df_filme_duracao['duration'].replace(\" min\", ''))\n",
    "\n",
    "\n",
    "lista_duracao=[]\n",
    "\n",
    "for tempo in df_duracao:\n",
    "    lista_duracao.append(str(tempo))\n",
    "\n",
    "nova_lista=[]\n",
    "\n",
    "for string in lista_duracao:\n",
    "    nova_lista.append(string.replace(\" min\", \"\"))\n",
    "\n",
    "lista_numerica=[]\n",
    "\n",
    "for string in nova_lista:\n",
    "    lista_numerica.append(float(string))\n",
    "\n",
    "df_lista_numerica = pd.DataFrame(lista_numerica)\n",
    "df_lista_numerica.max() # OS DOIS MAIORES NÃO SÃO VERDADEIROS, ACABOU SENDO O DE 253 minutos\n",
    "df_lista_numerica.min() #3\n",
    "\n",
    "df_maior = df.loc[df['duration'] == \"312 min\"]\n",
    "df_maior['title']\n",
    "print(f'O filme com menor duração é o \"Silent\"\\nO filme com maior duração é o \"The school of mischief\"')\n"
   ]
  },
  {
   "cell_type": "markdown",
   "id": "1f20ddc7",
   "metadata": {},
   "source": [
    "## 8 - Qual o tempo médio de duração de um filme?"
   ]
  },
  {
   "cell_type": "code",
   "execution_count": 370,
   "id": "7f42b0ae",
   "metadata": {},
   "outputs": [
    {
     "data": {
      "image/png": "[encoded data removed]",
      "text/plain": [
       "<Figure size 640x480 with 1 Axes>"
      ]
     },
     "metadata": {},
     "output_type": "display_data"
    }
   ],
   "source": [
    "sns.boxplot(x=df_lista_numerica[0]);"
   ]
  },
  {
   "cell_type": "code",
   "execution_count": 376,
   "id": "89014365",
   "metadata": {},
   "outputs": [
    {
     "name": "stdout",
     "output_type": "stream",
     "text": [
      "O tempo médio de duração é de 99 minutos\n"
     ]
    }
   ],
   "source": [
    "lista = df_lista_numerica[0].sort_values(ascending=False)\n",
    "lista.mean().round(2)\n",
    "print(\"O tempo médio de duração é de 99 minutos\")\n"
   ]
  },
  {
   "cell_type": "markdown",
   "id": "ce009915",
   "metadata": {},
   "source": [
    "## 9 - Liste os 3 países que produzem a maior quantidade de Séries (TV Show)."
   ]
  },
  {
   "cell_type": "code",
   "execution_count": 377,
   "id": "c978bd13",
   "metadata": {},
   "outputs": [
    {
     "name": "stdout",
     "output_type": "stream",
     "text": [
      "O país que mais produz filmes é o Estados Unidos\n",
      "O país que mais produz filmes é o Japão\n",
      "O país que mais produz filmes é o Reino Unido\n"
     ]
    }
   ],
   "source": [
    "df[['country']].value_counts()\n",
    "\n",
    "#PAISES: USA, INDIA, UNITED KINGDOM\n",
    "\n",
    "# QUANTIDADE DE TV SHOWS\n",
    "filtro_pais_filme = df['country']=='United States'\n",
    "df_pais_filme = df[filtro_pais_filme]\n",
    "pais = df_pais_filme.count()\n",
    "print(f'O país que mais produz filmes é o Estados Unidos')\n",
    "\n",
    "filtro_india = df['country']=='Japao'\n",
    "df_pais_india = df[filtro_india]\n",
    "pais_india = df_pais_india.count()\n",
    "print(f'O país que mais produz filmes é o Japão')\n",
    "\n",
    "filtro_uk = df['country']=='United Kingdom'\n",
    "df_pais_uk = df[filtro_uk]\n",
    "pais_uk = df_pais_uk.count()\n",
    "print(f'O país que mais produz filmes é o Reino Unido')"
   ]
  },
  {
   "cell_type": "markdown",
   "id": "2137e476",
   "metadata": {},
   "source": [
    "## 10 - Em qual ano  temos o maior número de séries e filmes brasileiros disponibilizados na Netflix?"
   ]
  },
  {
   "cell_type": "code",
   "execution_count": 382,
   "id": "28e9c029",
   "metadata": {},
   "outputs": [
    {
     "name": "stdout",
     "output_type": "stream",
     "text": [
      "O ano que mais teve lançamentos brasileiros na Netflix foi 2020\n"
     ]
    }
   ],
   "source": [
    "filtro_brasil = df['country']=='Brazil'\n",
    "df_pais_brasil = df[filtro_brasil]\n",
    "df_pais_brasil['release_year'].value_counts()\n",
    "lista_brasil = list(df_pais_brasil['release_year'].value_counts())\n",
    "lista_brasil[0] # FOI 2020\n",
    "print(f\"O ano que mais teve lançamentos brasileiros na Netflix foi 2020\")"
   ]
  },
  {
   "cell_type": "markdown",
   "id": "1649015b",
   "metadata": {},
   "source": [
    "## 11 - Qual(ais) o(s) diretor(es) brasileiro(s) com o maior número de títulos (filme/série)?"
   ]
  },
  {
   "cell_type": "code",
   "execution_count": 232,
   "id": "04239429",
   "metadata": {},
   "outputs": [
    {
     "name": "stdout",
     "output_type": "stream",
     "text": [
      "Os diretores brasileiros com maior número de títulos são o Diego Pignataro e o Lucas Margutti\n"
     ]
    }
   ],
   "source": [
    "filtro_brasil_diretor = df['country']=='Brazil'\n",
    "df_diretor_brasil = df[filtro_brasil_diretor]\n",
    "df_diretor_brasil['director'].value_counts() # Diego Pignataro e Lucas Margutti\n",
    "print(\"Os diretores brasileiros com maior número de títulos são o Diego Pignataro e o Lucas Margutti\")"
   ]
  },
  {
   "cell_type": "markdown",
   "id": "398340e3",
   "metadata": {},
   "source": [
    "## 12 - Existem mais conteúdos para adultos ou para crianças e adolescentes?"
   ]
  },
  {
   "cell_type": "code",
   "execution_count": 387,
   "id": "249f20d5",
   "metadata": {},
   "outputs": [
    {
     "data": {
      "text/plain": [
       "TV-MA       3207\n",
       "TV-14       2160\n",
       "TV-PG        863\n",
       "R            799\n",
       "PG-13        490\n",
       "TV-Y7        334\n",
       "TV-Y         307\n",
       "PG           287\n",
       "TV-G         220\n",
       "NR            80\n",
       "G             41\n",
       "TV-Y7-FV       6\n",
       "NC-17          3\n",
       "UR             3\n",
       "74 min         1\n",
       "84 min         1\n",
       "66 min         1\n",
       "Name: rating, dtype: int64"
      ]
     },
     "execution_count": 387,
     "metadata": {},
     "output_type": "execute_result"
    }
   ],
   "source": [
    "df['rating'].value_counts()"
   ]
  },
  {
   "cell_type": "code",
   "execution_count": 391,
   "id": "538d1ffa",
   "metadata": {},
   "outputs": [
    {
     "data": {
      "text/plain": [
       "(4086, 12)"
      ]
     },
     "execution_count": 391,
     "metadata": {},
     "output_type": "execute_result"
    }
   ],
   "source": [
    "adultos = ['TV-MA','R','NR']\n",
    "\n",
    "df.query(\"rating in @adultos\").shape"
   ]
  },
  {
   "cell_type": "code",
   "execution_count": 392,
   "id": "065203c6",
   "metadata": {},
   "outputs": [
    {
     "data": {
      "text/plain": [
       "(4702, 12)"
      ]
     },
     "execution_count": 392,
     "metadata": {},
     "output_type": "execute_result"
    }
   ],
   "source": [
    "crianca_adolescente = ['TV-14','TV-PG','PG-13','TV-Y7','TV-Y','PG','TV-G','G']\n",
    "\n",
    "df.query(\"rating in @crianca_adolescente\").shape"
   ]
  },
  {
   "cell_type": "code",
   "execution_count": 393,
   "id": "fd3f7576",
   "metadata": {},
   "outputs": [
    {
     "name": "stdout",
     "output_type": "stream",
     "text": [
      "Existem mais conteúdos para crianças e adolescentes\n"
     ]
    }
   ],
   "source": [
    "print('Existem mais conteúdos para crianças e adolescentes')"
   ]
  }
 ],
 "metadata": {
  "kernelspec": {
   "display_name": "Python 3.11.1 ('venv': venv)",
   "language": "python",
   "name": "python3"
  },
  "language_info": {
   "codemirror_mode": {
    "name": "ipython",
    "version": 3
   },
   "file_extension": ".py",
   "mimetype": "text/x-python",
   "name": "python",
   "nbconvert_exporter": "python",
   "pygments_lexer": "ipython3",
   "version": "3.11.1"
  },
  "vscode": {
   "interpreter": {
    "hash": "762b2e171eb97f010441a086e651e33ebc3cbd9549be305b496af649a3803404"
   }
  }
 },
 "nbformat": 4,
 "nbformat_minor": 5
}
