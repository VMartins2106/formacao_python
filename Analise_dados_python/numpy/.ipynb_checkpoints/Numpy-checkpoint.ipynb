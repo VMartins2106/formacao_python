{
 "cells": [
  {
   "cell_type": "markdown",
   "id": "2d69cd8d",
   "metadata": {},
   "source": [
    "# Numpy\n",
    "\n",
    "- Um dos principais pacotes da linguagem Python para computação científica\n",
    "- Poderoso para manipulação de dados\n",
    "- Eficiente para trabalhar com arrays e matrizes\n",
    "\n",
    "**Site oficial:** [www.numpy.org](https://numpy.org/)\n",
    "\n",
    "**[Documentação oficial](https://numpy.org/doc/stable/)** "
   ]
  },
  {
   "cell_type": "markdown",
   "id": "eac9d6cc",
   "metadata": {},
   "source": [
    "# Arrays Numpy versus Listas Python"
   ]
  },
  {
   "cell_type": "markdown",
   "id": "77c6a251",
   "metadata": {},
   "source": [
    "## Criando uma lista Python"
   ]
  },
  {
   "cell_type": "code",
   "execution_count": 4,
   "id": "7ccc25c6",
   "metadata": {},
   "outputs": [],
   "source": [
    "lista = list(range(101))"
   ]
  },
  {
   "cell_type": "code",
   "execution_count": 5,
   "id": "9f1f41ee",
   "metadata": {},
   "outputs": [
    {
     "name": "stdout",
     "output_type": "stream",
     "text": [
      "[0, 1, 2, 3, 4, 5, 6, 7, 8, 9, 10, 11, 12, 13, 14, 15, 16, 17, 18, 19, 20, 21, 22, 23, 24, 25, 26, 27, 28, 29, 30, 31, 32, 33, 34, 35, 36, 37, 38, 39, 40, 41, 42, 43, 44, 45, 46, 47, 48, 49, 50, 51, 52, 53, 54, 55, 56, 57, 58, 59, 60, 61, 62, 63, 64, 65, 66, 67, 68, 69, 70, 71, 72, 73, 74, 75, 76, 77, 78, 79, 80, 81, 82, 83, 84, 85, 86, 87, 88, 89, 90, 91, 92, 93, 94, 95, 96, 97, 98, 99, 100]\n"
     ]
    }
   ],
   "source": [
    "print(lista)"
   ]
  },
  {
   "cell_type": "code",
   "execution_count": 6,
   "id": "c2fb2f4c",
   "metadata": {},
   "outputs": [
    {
     "data": {
      "text/plain": [
       "list"
      ]
     },
     "execution_count": 6,
     "metadata": {},
     "output_type": "execute_result"
    }
   ],
   "source": [
    "type(lista)"
   ]
  },
  {
   "cell_type": "markdown",
   "id": "8d3a4958",
   "metadata": {},
   "source": [
    "## Criando um array Numpy"
   ]
  },
  {
   "cell_type": "code",
   "execution_count": 7,
   "id": "08ec0179",
   "metadata": {},
   "outputs": [],
   "source": [
    "import numpy as np"
   ]
  },
  {
   "cell_type": "code",
   "execution_count": 8,
   "id": "5ad16b8a",
   "metadata": {},
   "outputs": [],
   "source": [
    "lista_np = np.array(lista)"
   ]
  },
  {
   "cell_type": "code",
   "execution_count": 9,
   "id": "865fdeae",
   "metadata": {},
   "outputs": [
    {
     "data": {
      "text/plain": [
       "numpy.ndarray"
      ]
     },
     "execution_count": 9,
     "metadata": {},
     "output_type": "execute_result"
    }
   ],
   "source": [
    "type(lista_np)"
   ]
  },
  {
   "cell_type": "markdown",
   "id": "037b61cd",
   "metadata": {},
   "source": [
    "## Tipos de dados\n",
    "\n",
    "- Listas nativas do Python podem ser heterogêneas (podem conter tipos de dados diferentes)\n",
    "- Arrays  Numpy são homogêneos (só podem conter um tipo de dado)"
   ]
  },
  {
   "cell_type": "code",
   "execution_count": 12,
   "id": "c9f6c03c",
   "metadata": {},
   "outputs": [
    {
     "name": "stdout",
     "output_type": "stream",
     "text": [
      "[1, 'Vinicius', True, False, 34.78, 'Empowerdata']\n"
     ]
    }
   ],
   "source": [
    "# lista python são heterogêneas\n",
    "minha_lista = [1, 'Vinicius', True, False, 34.78, 'Empowerdata']\n",
    "\n",
    "print(minha_lista)"
   ]
  },
  {
   "cell_type": "code",
   "execution_count": 16,
   "id": "a48a6a01",
   "metadata": {},
   "outputs": [
    {
     "name": "stdout",
     "output_type": "stream",
     "text": [
      "['1' '2' '3' 'Vinicius']\n",
      "<class 'numpy.ndarray'>\n"
     ]
    }
   ],
   "source": [
    "# arrays numpy são homogêneos\n",
    "minha_lista_np = np.array([1, 2, 3, 'Vinicius'])\n",
    "print(minha_lista_np)\n",
    "print(type(minha_lista_np))"
   ]
  },
  {
   "cell_type": "markdown",
   "id": "def0eb3c",
   "metadata": {},
   "source": [
    "## Acessando elementos\n",
    "\n",
    "- Arrays Numpy possuem índices iguais às listas Python"
   ]
  },
  {
   "cell_type": "code",
   "execution_count": 17,
   "id": "cde5b6d7",
   "metadata": {},
   "outputs": [
    {
     "name": "stdout",
     "output_type": "stream",
     "text": [
      "[0, 1, 2, 3, 4, 5, 6, 7, 8, 9, 10, 11, 12, 13, 14, 15, 16, 17, 18, 19, 20, 21, 22, 23, 24, 25, 26, 27, 28, 29, 30, 31, 32, 33, 34, 35, 36, 37, 38, 39, 40, 41, 42, 43, 44, 45, 46, 47, 48, 49, 50, 51, 52, 53, 54, 55, 56, 57, 58, 59, 60, 61, 62, 63, 64, 65, 66, 67, 68, 69, 70, 71, 72, 73, 74, 75, 76, 77, 78, 79, 80, 81, 82, 83, 84, 85, 86, 87, 88, 89, 90, 91, 92, 93, 94, 95, 96, 97, 98, 99, 100]\n"
     ]
    }
   ],
   "source": [
    "# lista python\n",
    "print(lista)"
   ]
  },
  {
   "cell_type": "code",
   "execution_count": 20,
   "id": "3e95b9ae",
   "metadata": {},
   "outputs": [
    {
     "data": {
      "text/plain": [
       "0"
      ]
     },
     "execution_count": 20,
     "metadata": {},
     "output_type": "execute_result"
    }
   ],
   "source": [
    "# acessando o primeiro elemento\n",
    "lista[0]"
   ]
  },
  {
   "cell_type": "code",
   "execution_count": 21,
   "id": "4f46c578",
   "metadata": {},
   "outputs": [
    {
     "data": {
      "text/plain": [
       "2"
      ]
     },
     "execution_count": 21,
     "metadata": {},
     "output_type": "execute_result"
    }
   ],
   "source": [
    "# acessando o terceiro elemento\n",
    "lista[2]"
   ]
  },
  {
   "cell_type": "code",
   "execution_count": 22,
   "id": "d3ec5b00",
   "metadata": {},
   "outputs": [
    {
     "data": {
      "text/plain": [
       "100"
      ]
     },
     "execution_count": 22,
     "metadata": {},
     "output_type": "execute_result"
    }
   ],
   "source": [
    "# acessando o último elemento com índice negativo\n",
    "lista[-1]"
   ]
  },
  {
   "cell_type": "code",
   "execution_count": 23,
   "id": "4e62bdf6",
   "metadata": {},
   "outputs": [
    {
     "data": {
      "text/plain": [
       "99"
      ]
     },
     "execution_count": 23,
     "metadata": {},
     "output_type": "execute_result"
    }
   ],
   "source": [
    "lista[-2]"
   ]
  },
  {
   "cell_type": "code",
   "execution_count": 24,
   "id": "3ce0d1a1",
   "metadata": {},
   "outputs": [
    {
     "name": "stdout",
     "output_type": "stream",
     "text": [
      "[  0   1   2   3   4   5   6   7   8   9  10  11  12  13  14  15  16  17\n",
      "  18  19  20  21  22  23  24  25  26  27  28  29  30  31  32  33  34  35\n",
      "  36  37  38  39  40  41  42  43  44  45  46  47  48  49  50  51  52  53\n",
      "  54  55  56  57  58  59  60  61  62  63  64  65  66  67  68  69  70  71\n",
      "  72  73  74  75  76  77  78  79  80  81  82  83  84  85  86  87  88  89\n",
      "  90  91  92  93  94  95  96  97  98  99 100]\n"
     ]
    }
   ],
   "source": [
    "# arrays numpy\n",
    "print(lista_np)"
   ]
  },
  {
   "cell_type": "code",
   "execution_count": 25,
   "id": "9918a63b",
   "metadata": {},
   "outputs": [
    {
     "data": {
      "text/plain": [
       "0"
      ]
     },
     "execution_count": 25,
     "metadata": {},
     "output_type": "execute_result"
    }
   ],
   "source": [
    "# acessando o primeiro elemento\n",
    "lista_np[0]"
   ]
  },
  {
   "cell_type": "code",
   "execution_count": 26,
   "id": "accf5aef",
   "metadata": {},
   "outputs": [
    {
     "data": {
      "text/plain": [
       "100"
      ]
     },
     "execution_count": 26,
     "metadata": {},
     "output_type": "execute_result"
    }
   ],
   "source": [
    "# acessando o último elemento\n",
    "lista_np[-1]"
   ]
  },
  {
   "cell_type": "markdown",
   "id": "bc2d9821",
   "metadata": {},
   "source": [
    "## Slicing\n",
    "\n",
    "- Podemos utilizar técnicas de slicing da mesma forma que fazemos com listas Python"
   ]
  },
  {
   "cell_type": "code",
   "execution_count": 27,
   "id": "98f8e430",
   "metadata": {},
   "outputs": [
    {
     "data": {
      "text/plain": [
       "[0, 1, 2]"
      ]
     },
     "execution_count": 27,
     "metadata": {},
     "output_type": "execute_result"
    }
   ],
   "source": [
    "# lista python\n",
    "lista[0: 3]"
   ]
  },
  {
   "cell_type": "code",
   "execution_count": 28,
   "id": "665b5431",
   "metadata": {},
   "outputs": [
    {
     "data": {
      "text/plain": [
       "array([0, 1, 2])"
      ]
     },
     "execution_count": 28,
     "metadata": {},
     "output_type": "execute_result"
    }
   ],
   "source": [
    "# arrays numpy\n",
    "lista_np[:3]"
   ]
  },
  {
   "cell_type": "code",
   "execution_count": 33,
   "id": "56a2ba26",
   "metadata": {},
   "outputs": [
    {
     "data": {
      "text/plain": [
       "array([100,  99,  98,  97,  96,  95,  94,  93,  92,  91,  90,  89,  88,\n",
       "        87,  86,  85,  84,  83,  82,  81,  80,  79,  78,  77,  76,  75,\n",
       "        74,  73,  72,  71,  70,  69,  68,  67,  66,  65,  64,  63,  62,\n",
       "        61,  60,  59,  58,  57,  56,  55,  54,  53,  52,  51,  50,  49,\n",
       "        48,  47,  46,  45,  44,  43,  42,  41,  40,  39,  38,  37,  36,\n",
       "        35,  34,  33,  32,  31,  30,  29,  28,  27,  26,  25,  24,  23,\n",
       "        22,  21,  20,  19,  18,  17,  16,  15,  14,  13,  12,  11,  10,\n",
       "         9,   8,   7,   6,   5,   4,   3,   2,   1,   0])"
      ]
     },
     "execution_count": 33,
     "metadata": {},
     "output_type": "execute_result"
    }
   ],
   "source": [
    "lista_np[::-1]"
   ]
  },
  {
   "cell_type": "markdown",
   "id": "5ecd306b",
   "metadata": {},
   "source": [
    "## Operações aritméticas\n",
    "\n",
    "- Não é possível realizar operações aritméticas com listas nativas do Python\n",
    "- Arrays Numpy suportam operações aritméticas"
   ]
  },
  {
   "cell_type": "code",
   "execution_count": 36,
   "id": "0aca6e06",
   "metadata": {},
   "outputs": [
    {
     "name": "stdout",
     "output_type": "stream",
     "text": [
      "[0, 1, 2, 3, 4, 5, 6, 7, 8, 9, 10, 11, 12, 13, 14, 15, 16, 17, 18, 19, 20, 21, 22, 23, 24, 25, 26, 27, 28, 29, 30, 31, 32, 33, 34, 35, 36, 37, 38, 39, 40, 41, 42, 43, 44, 45, 46, 47, 48, 49, 50, 51, 52, 53, 54, 55, 56, 57, 58, 59, 60, 61, 62, 63, 64, 65, 66, 67, 68, 69, 70, 71, 72, 73, 74, 75, 76, 77, 78, 79, 80, 81, 82, 83, 84, 85, 86, 87, 88, 89, 90, 91, 92, 93, 94, 95, 96, 97, 98, 99, 100]\n"
     ]
    }
   ],
   "source": [
    "# listas python\n",
    "print(lista)"
   ]
  },
  {
   "cell_type": "code",
   "execution_count": 39,
   "id": "b284bf0a",
   "metadata": {},
   "outputs": [
    {
     "name": "stdout",
     "output_type": "stream",
     "text": [
      "[0, 1, 2, 3, 4, 5, 6, 7, 8, 9, 10, 11, 12, 13, 14, 15, 16, 17, 18, 19, 20, 21, 22, 23, 24, 25, 26, 27, 28, 29, 30, 31, 32, 33, 34, 35, 36, 37, 38, 39, 40, 41, 42, 43, 44, 45, 46, 47, 48, 49, 50, 51, 52, 53, 54, 55, 56, 57, 58, 59, 60, 61, 62, 63, 64, 65, 66, 67, 68, 69, 70, 71, 72, 73, 74, 75, 76, 77, 78, 79, 80, 81, 82, 83, 84, 85, 86, 87, 88, 89, 90, 91, 92, 93, 94, 95, 96, 97, 98, 99, 100, 0, 1, 2, 3, 4, 5, 6, 7, 8, 9, 10, 11, 12, 13, 14, 15, 16, 17, 18, 19, 20, 21, 22, 23, 24, 25, 26, 27, 28, 29, 30, 31, 32, 33, 34, 35, 36, 37, 38, 39, 40, 41, 42, 43, 44, 45, 46, 47, 48, 49, 50, 51, 52, 53, 54, 55, 56, 57, 58, 59, 60, 61, 62, 63, 64, 65, 66, 67, 68, 69, 70, 71, 72, 73, 74, 75, 76, 77, 78, 79, 80, 81, 82, 83, 84, 85, 86, 87, 88, 89, 90, 91, 92, 93, 94, 95, 96, 97, 98, 99, 100]\n"
     ]
    }
   ],
   "source": [
    "# o python concatenou as listas\n",
    "print(lista + lista)"
   ]
  },
  {
   "cell_type": "code",
   "execution_count": 41,
   "id": "c0a6ed62",
   "metadata": {},
   "outputs": [
    {
     "name": "stdout",
     "output_type": "stream",
     "text": [
      "[0, 1, 2, 3, 4, 5, 6, 7, 8, 9, 10, 11, 12, 13, 14, 15, 16, 17, 18, 19, 20, 21, 22, 23, 24, 25, 26, 27, 28, 29, 30, 31, 32, 33, 34, 35, 36, 37, 38, 39, 40, 41, 42, 43, 44, 45, 46, 47, 48, 49, 50, 51, 52, 53, 54, 55, 56, 57, 58, 59, 60, 61, 62, 63, 64, 65, 66, 67, 68, 69, 70, 71, 72, 73, 74, 75, 76, 77, 78, 79, 80, 81, 82, 83, 84, 85, 86, 87, 88, 89, 90, 91, 92, 93, 94, 95, 96, 97, 98, 99, 100, 0, 1, 2, 3, 4, 5, 6, 7, 8, 9, 10, 11, 12, 13, 14, 15, 16, 17, 18, 19, 20, 21, 22, 23, 24, 25, 26, 27, 28, 29, 30, 31, 32, 33, 34, 35, 36, 37, 38, 39, 40, 41, 42, 43, 44, 45, 46, 47, 48, 49, 50, 51, 52, 53, 54, 55, 56, 57, 58, 59, 60, 61, 62, 63, 64, 65, 66, 67, 68, 69, 70, 71, 72, 73, 74, 75, 76, 77, 78, 79, 80, 81, 82, 83, 84, 85, 86, 87, 88, 89, 90, 91, 92, 93, 94, 95, 96, 97, 98, 99, 100, 0, 1, 2, 3, 4, 5, 6, 7, 8, 9, 10, 11, 12, 13, 14, 15, 16, 17, 18, 19, 20, 21, 22, 23, 24, 25, 26, 27, 28, 29, 30, 31, 32, 33, 34, 35, 36, 37, 38, 39, 40, 41, 42, 43, 44, 45, 46, 47, 48, 49, 50, 51, 52, 53, 54, 55, 56, 57, 58, 59, 60, 61, 62, 63, 64, 65, 66, 67, 68, 69, 70, 71, 72, 73, 74, 75, 76, 77, 78, 79, 80, 81, 82, 83, 84, 85, 86, 87, 88, 89, 90, 91, 92, 93, 94, 95, 96, 97, 98, 99, 100, 0, 1, 2, 3, 4, 5, 6, 7, 8, 9, 10, 11, 12, 13, 14, 15, 16, 17, 18, 19, 20, 21, 22, 23, 24, 25, 26, 27, 28, 29, 30, 31, 32, 33, 34, 35, 36, 37, 38, 39, 40, 41, 42, 43, 44, 45, 46, 47, 48, 49, 50, 51, 52, 53, 54, 55, 56, 57, 58, 59, 60, 61, 62, 63, 64, 65, 66, 67, 68, 69, 70, 71, 72, 73, 74, 75, 76, 77, 78, 79, 80, 81, 82, 83, 84, 85, 86, 87, 88, 89, 90, 91, 92, 93, 94, 95, 96, 97, 98, 99, 100]\n"
     ]
    }
   ],
   "source": [
    "# o python concatenou a lista 4 vezes\n",
    "print(lista * 4)"
   ]
  },
  {
   "cell_type": "code",
   "execution_count": 42,
   "id": "a7e7a7f6",
   "metadata": {},
   "outputs": [
    {
     "name": "stdout",
     "output_type": "stream",
     "text": [
      "[  0   1   2   3   4   5   6   7   8   9  10  11  12  13  14  15  16  17\n",
      "  18  19  20  21  22  23  24  25  26  27  28  29  30  31  32  33  34  35\n",
      "  36  37  38  39  40  41  42  43  44  45  46  47  48  49  50  51  52  53\n",
      "  54  55  56  57  58  59  60  61  62  63  64  65  66  67  68  69  70  71\n",
      "  72  73  74  75  76  77  78  79  80  81  82  83  84  85  86  87  88  89\n",
      "  90  91  92  93  94  95  96  97  98  99 100]\n"
     ]
    }
   ],
   "source": [
    "# arrays numpy\n",
    "print(lista_np)"
   ]
  },
  {
   "cell_type": "code",
   "execution_count": 45,
   "id": "f0ff8642",
   "metadata": {},
   "outputs": [
    {
     "name": "stdout",
     "output_type": "stream",
     "text": [
      "[  1   2   3   4   5   6   7   8   9  10  11  12  13  14  15  16  17  18\n",
      "  19  20  21  22  23  24  25  26  27  28  29  30  31  32  33  34  35  36\n",
      "  37  38  39  40  41  42  43  44  45  46  47  48  49  50  51  52  53  54\n",
      "  55  56  57  58  59  60  61  62  63  64  65  66  67  68  69  70  71  72\n",
      "  73  74  75  76  77  78  79  80  81  82  83  84  85  86  87  88  89  90\n",
      "  91  92  93  94  95  96  97  98  99 100 101]\n",
      "[  0   2   4   6   8  10  12  14  16  18  20  22  24  26  28  30  32  34\n",
      "  36  38  40  42  44  46  48  50  52  54  56  58  60  62  64  66  68  70\n",
      "  72  74  76  78  80  82  84  86  88  90  92  94  96  98 100 102 104 106\n",
      " 108 110 112 114 116 118 120 122 124 126 128 130 132 134 136 138 140 142\n",
      " 144 146 148 150 152 154 156 158 160 162 164 166 168 170 172 174 176 178\n",
      " 180 182 184 186 188 190 192 194 196 198 200]\n"
     ]
    }
   ],
   "source": [
    "# operações de adição\n",
    "print(lista_np + 1)\n",
    "print(lista_np + lista_np)"
   ]
  },
  {
   "cell_type": "code",
   "execution_count": 46,
   "id": "ccccacfc",
   "metadata": {},
   "outputs": [
    {
     "data": {
      "text/plain": [
       "array([   0,   10,   20,   30,   40,   50,   60,   70,   80,   90,  100,\n",
       "        110,  120,  130,  140,  150,  160,  170,  180,  190,  200,  210,\n",
       "        220,  230,  240,  250,  260,  270,  280,  290,  300,  310,  320,\n",
       "        330,  340,  350,  360,  370,  380,  390,  400,  410,  420,  430,\n",
       "        440,  450,  460,  470,  480,  490,  500,  510,  520,  530,  540,\n",
       "        550,  560,  570,  580,  590,  600,  610,  620,  630,  640,  650,\n",
       "        660,  670,  680,  690,  700,  710,  720,  730,  740,  750,  760,\n",
       "        770,  780,  790,  800,  810,  820,  830,  840,  850,  860,  870,\n",
       "        880,  890,  900,  910,  920,  930,  940,  950,  960,  970,  980,\n",
       "        990, 1000])"
      ]
     },
     "execution_count": 46,
     "metadata": {},
     "output_type": "execute_result"
    }
   ],
   "source": [
    "# operações de multiplicação\n",
    "lista_np * 10"
   ]
  },
  {
   "cell_type": "code",
   "execution_count": 47,
   "id": "8bb90b4c",
   "metadata": {},
   "outputs": [
    {
     "data": {
      "text/plain": [
       "array([    0,     1,     4,     9,    16,    25,    36,    49,    64,\n",
       "          81,   100,   121,   144,   169,   196,   225,   256,   289,\n",
       "         324,   361,   400,   441,   484,   529,   576,   625,   676,\n",
       "         729,   784,   841,   900,   961,  1024,  1089,  1156,  1225,\n",
       "        1296,  1369,  1444,  1521,  1600,  1681,  1764,  1849,  1936,\n",
       "        2025,  2116,  2209,  2304,  2401,  2500,  2601,  2704,  2809,\n",
       "        2916,  3025,  3136,  3249,  3364,  3481,  3600,  3721,  3844,\n",
       "        3969,  4096,  4225,  4356,  4489,  4624,  4761,  4900,  5041,\n",
       "        5184,  5329,  5476,  5625,  5776,  5929,  6084,  6241,  6400,\n",
       "        6561,  6724,  6889,  7056,  7225,  7396,  7569,  7744,  7921,\n",
       "        8100,  8281,  8464,  8649,  8836,  9025,  9216,  9409,  9604,\n",
       "        9801, 10000], dtype=int32)"
      ]
     },
     "execution_count": 47,
     "metadata": {},
     "output_type": "execute_result"
    }
   ],
   "source": [
    "# operações de exponenciação\n",
    "lista_np ** 2"
   ]
  },
  {
   "cell_type": "markdown",
   "id": "6ff09741",
   "metadata": {},
   "source": [
    "## Performance"
   ]
  },
  {
   "cell_type": "code",
   "execution_count": 56,
   "id": "45b28693",
   "metadata": {},
   "outputs": [],
   "source": [
    "#lista python\n",
    "lista_grande = list(range(1000000))"
   ]
  },
  {
   "cell_type": "code",
   "execution_count": 57,
   "id": "eb507b7b",
   "metadata": {},
   "outputs": [
    {
     "data": {
      "text/plain": [
       "list"
      ]
     },
     "execution_count": 57,
     "metadata": {},
     "output_type": "execute_result"
    }
   ],
   "source": [
    "type(lista_grande)"
   ]
  },
  {
   "cell_type": "code",
   "execution_count": 58,
   "id": "eec176af",
   "metadata": {},
   "outputs": [
    {
     "name": "stdout",
     "output_type": "stream",
     "text": [
      "248 ms ± 15.8 ms per loop (mean ± std. dev. of 7 runs, 1 loop each)\n"
     ]
    }
   ],
   "source": [
    "%timeit lista_quadrado = [x ** 2 for x in lista_grande]"
   ]
  },
  {
   "cell_type": "code",
   "execution_count": 59,
   "id": "531035f4",
   "metadata": {},
   "outputs": [],
   "source": [
    "# array numpy\n",
    "lista_grande_np = np.array(range(1000000))"
   ]
  },
  {
   "cell_type": "code",
   "execution_count": 60,
   "id": "05bdddea",
   "metadata": {},
   "outputs": [
    {
     "data": {
      "text/plain": [
       "numpy.ndarray"
      ]
     },
     "execution_count": 60,
     "metadata": {},
     "output_type": "execute_result"
    }
   ],
   "source": [
    "type(lista_grande_np)"
   ]
  },
  {
   "cell_type": "code",
   "execution_count": 61,
   "id": "c557e75e",
   "metadata": {},
   "outputs": [
    {
     "name": "stdout",
     "output_type": "stream",
     "text": [
      "1.24 ms ± 49.1 µs per loop (mean ± std. dev. of 7 runs, 1000 loops each)\n"
     ]
    }
   ],
   "source": [
    "%timeit lista_quadrado_np = lista_grande_np ** 2"
   ]
  },
  {
   "cell_type": "markdown",
   "id": "7b24b6cf",
   "metadata": {},
   "source": [
    "# Arrays, arrays multidimensionais e matrizes"
   ]
  },
  {
   "cell_type": "markdown",
   "id": "1dbc31d4",
   "metadata": {},
   "source": [
    "## Arrays unidimensionais"
   ]
  },
  {
   "cell_type": "code",
   "execution_count": 122,
   "id": "85d3c8a6",
   "metadata": {},
   "outputs": [],
   "source": [
    "array_uni = np.array( [1, 2, 3, 4, 5]  )"
   ]
  },
  {
   "cell_type": "code",
   "execution_count": 123,
   "id": "d0259a7a",
   "metadata": {},
   "outputs": [
    {
     "data": {
      "text/plain": [
       "numpy.ndarray"
      ]
     },
     "execution_count": 123,
     "metadata": {},
     "output_type": "execute_result"
    }
   ],
   "source": [
    "type(array_uni)"
   ]
  },
  {
   "cell_type": "code",
   "execution_count": 124,
   "id": "fbbbad0a",
   "metadata": {},
   "outputs": [
    {
     "name": "stdout",
     "output_type": "stream",
     "text": [
      "[1 2 3 4 5]\n"
     ]
    }
   ],
   "source": [
    "print(array_uni)"
   ]
  },
  {
   "cell_type": "code",
   "execution_count": 125,
   "id": "6e5e3bd4",
   "metadata": {},
   "outputs": [
    {
     "data": {
      "text/plain": [
       "(5,)"
      ]
     },
     "execution_count": 125,
     "metadata": {},
     "output_type": "execute_result"
    }
   ],
   "source": [
    "# método shape\n",
    "array_uni.shape"
   ]
  },
  {
   "cell_type": "code",
   "execution_count": 126,
   "id": "999d0915",
   "metadata": {},
   "outputs": [
    {
     "data": {
      "text/plain": [
       "1"
      ]
     },
     "execution_count": 126,
     "metadata": {},
     "output_type": "execute_result"
    }
   ],
   "source": [
    "# método ndim\n",
    "array_uni.ndim"
   ]
  },
  {
   "cell_type": "markdown",
   "id": "bcb51ff0",
   "metadata": {},
   "source": [
    "## Arrays multidimensionais"
   ]
  },
  {
   "cell_type": "code",
   "execution_count": 127,
   "id": "265aeeb2",
   "metadata": {},
   "outputs": [],
   "source": [
    "array_2d = np.array( [  [1, 2, 3, 4, 5], [6, 7, 8, 9, 10] ]   )"
   ]
  },
  {
   "cell_type": "code",
   "execution_count": 128,
   "id": "e9db1335",
   "metadata": {},
   "outputs": [
    {
     "data": {
      "text/plain": [
       "numpy.ndarray"
      ]
     },
     "execution_count": 128,
     "metadata": {},
     "output_type": "execute_result"
    }
   ],
   "source": [
    "type(array_2d)"
   ]
  },
  {
   "cell_type": "code",
   "execution_count": 129,
   "id": "f59b0fd4",
   "metadata": {},
   "outputs": [
    {
     "name": "stdout",
     "output_type": "stream",
     "text": [
      "[[ 1  2  3  4  5]\n",
      " [ 6  7  8  9 10]]\n"
     ]
    }
   ],
   "source": [
    "print(array_2d)"
   ]
  },
  {
   "cell_type": "code",
   "execution_count": 130,
   "id": "d1248a7f",
   "metadata": {},
   "outputs": [
    {
     "data": {
      "text/plain": [
       "(2, 5)"
      ]
     },
     "execution_count": 130,
     "metadata": {},
     "output_type": "execute_result"
    }
   ],
   "source": [
    "array_2d.shape"
   ]
  },
  {
   "cell_type": "code",
   "execution_count": 131,
   "id": "0e9c9411",
   "metadata": {},
   "outputs": [],
   "source": [
    "array_3d = np.array( [  [  [1, 2, 3], [4, 5, 6] ] , [  [1, 2, 3], [4, 5, 6] ]    ])"
   ]
  },
  {
   "cell_type": "code",
   "execution_count": 132,
   "id": "4ac7c379",
   "metadata": {},
   "outputs": [
    {
     "data": {
      "text/plain": [
       "numpy.ndarray"
      ]
     },
     "execution_count": 132,
     "metadata": {},
     "output_type": "execute_result"
    }
   ],
   "source": [
    "type(array_3d)"
   ]
  },
  {
   "cell_type": "code",
   "execution_count": 133,
   "id": "3fcd0d32",
   "metadata": {},
   "outputs": [
    {
     "name": "stdout",
     "output_type": "stream",
     "text": [
      "[[[1 2 3]\n",
      "  [4 5 6]]\n",
      "\n",
      " [[1 2 3]\n",
      "  [4 5 6]]]\n"
     ]
    }
   ],
   "source": [
    "print(array_3d)"
   ]
  },
  {
   "cell_type": "code",
   "execution_count": 134,
   "id": "f7d14ae3",
   "metadata": {},
   "outputs": [
    {
     "name": "stdout",
     "output_type": "stream",
     "text": [
      "(2, 2, 3)\n",
      "3\n"
     ]
    }
   ],
   "source": [
    "print(array_3d.shape)\n",
    "print(array_3d.ndim)"
   ]
  },
  {
   "cell_type": "markdown",
   "id": "ce95699b",
   "metadata": {},
   "source": [
    "## Matrizes (Matrix)\n",
    "\n",
    "- Matrizes são arrays com duas dimensões (2D)"
   ]
  },
  {
   "cell_type": "code",
   "execution_count": 136,
   "id": "dd888fef",
   "metadata": {},
   "outputs": [],
   "source": [
    "matrix = np.matrix([ [1, 2, 3], [4, 5, 6] ])"
   ]
  },
  {
   "cell_type": "code",
   "execution_count": 137,
   "id": "704e6b14",
   "metadata": {},
   "outputs": [
    {
     "name": "stdout",
     "output_type": "stream",
     "text": [
      "[[1 2 3]\n",
      " [4 5 6]]\n"
     ]
    }
   ],
   "source": [
    "print(matrix)"
   ]
  },
  {
   "cell_type": "code",
   "execution_count": 138,
   "id": "d0a0686a",
   "metadata": {},
   "outputs": [
    {
     "data": {
      "text/plain": [
       "numpy.matrix"
      ]
     },
     "execution_count": 138,
     "metadata": {},
     "output_type": "execute_result"
    }
   ],
   "source": [
    "type(matrix)"
   ]
  },
  {
   "cell_type": "code",
   "execution_count": 139,
   "id": "5a9b9c5d",
   "metadata": {},
   "outputs": [
    {
     "data": {
      "text/plain": [
       "(2, 3)"
      ]
     },
     "execution_count": 139,
     "metadata": {},
     "output_type": "execute_result"
    }
   ],
   "source": [
    "matrix.shape"
   ]
  },
  {
   "cell_type": "code",
   "execution_count": 140,
   "id": "6b2a2b95",
   "metadata": {},
   "outputs": [
    {
     "data": {
      "text/plain": [
       "2"
      ]
     },
     "execution_count": 140,
     "metadata": {},
     "output_type": "execute_result"
    }
   ],
   "source": [
    "matrix.ndim"
   ]
  },
  {
   "cell_type": "markdown",
   "id": "8eeb25db",
   "metadata": {},
   "source": [
    "# Estatística com Numpy\n",
    "\n",
    "- O Numpy nos fornece uma grande variedade de métodos estatísticos"
   ]
  },
  {
   "cell_type": "markdown",
   "id": "546434a2",
   "metadata": {},
   "source": [
    "## Valor máximo e mínimo\n",
    "\n",
    "- Métodos `min()` e `max()`"
   ]
  },
  {
   "cell_type": "code",
   "execution_count": 144,
   "id": "26804174",
   "metadata": {},
   "outputs": [
    {
     "name": "stdout",
     "output_type": "stream",
     "text": [
      "[  0   1   2   3   4   5   6   7   8   9  10  11  12  13  14  15  16  17\n",
      "  18  19  20  21  22  23  24  25  26  27  28  29  30  31  32  33  34  35\n",
      "  36  37  38  39  40  41  42  43  44  45  46  47  48  49  50  51  52  53\n",
      "  54  55  56  57  58  59  60  61  62  63  64  65  66  67  68  69  70  71\n",
      "  72  73  74  75  76  77  78  79  80  81  82  83  84  85  86  87  88  89\n",
      "  90  91  92  93  94  95  96  97  98  99 100]\n"
     ]
    }
   ],
   "source": [
    "print(lista_np)"
   ]
  },
  {
   "cell_type": "code",
   "execution_count": 145,
   "id": "fbcc5f03",
   "metadata": {},
   "outputs": [
    {
     "data": {
      "text/plain": [
       "0"
      ]
     },
     "execution_count": 145,
     "metadata": {},
     "output_type": "execute_result"
    }
   ],
   "source": [
    "# menor valor\n",
    "lista_np.min()"
   ]
  },
  {
   "cell_type": "code",
   "execution_count": 146,
   "id": "eb8b8092",
   "metadata": {},
   "outputs": [
    {
     "data": {
      "text/plain": [
       "100"
      ]
     },
     "execution_count": 146,
     "metadata": {},
     "output_type": "execute_result"
    }
   ],
   "source": [
    "# maior valor\n",
    "lista_np.max()"
   ]
  },
  {
   "cell_type": "markdown",
   "id": "a0da048b",
   "metadata": {},
   "source": [
    "## Média aritmética\n",
    "\n",
    "- Método `mean()`"
   ]
  },
  {
   "cell_type": "code",
   "execution_count": 147,
   "id": "82afce13",
   "metadata": {},
   "outputs": [
    {
     "name": "stdout",
     "output_type": "stream",
     "text": [
      "[  0   1   2   3   4   5   6   7   8   9  10  11  12  13  14  15  16  17\n",
      "  18  19  20  21  22  23  24  25  26  27  28  29  30  31  32  33  34  35\n",
      "  36  37  38  39  40  41  42  43  44  45  46  47  48  49  50  51  52  53\n",
      "  54  55  56  57  58  59  60  61  62  63  64  65  66  67  68  69  70  71\n",
      "  72  73  74  75  76  77  78  79  80  81  82  83  84  85  86  87  88  89\n",
      "  90  91  92  93  94  95  96  97  98  99 100]\n"
     ]
    }
   ],
   "source": [
    "print(lista_np)"
   ]
  },
  {
   "cell_type": "code",
   "execution_count": 148,
   "id": "23b277b4",
   "metadata": {},
   "outputs": [
    {
     "data": {
      "text/plain": [
       "50.0"
      ]
     },
     "execution_count": 148,
     "metadata": {},
     "output_type": "execute_result"
    }
   ],
   "source": [
    "lista_np.mean()"
   ]
  },
  {
   "cell_type": "markdown",
   "id": "d9e360eb",
   "metadata": {},
   "source": [
    "## Mediana\n",
    "\n",
    "- Método `median()`"
   ]
  },
  {
   "cell_type": "code",
   "execution_count": 149,
   "id": "61edeea9",
   "metadata": {},
   "outputs": [
    {
     "name": "stdout",
     "output_type": "stream",
     "text": [
      "[  0   1   2   3   4   5   6   7   8   9  10  11  12  13  14  15  16  17\n",
      "  18  19  20  21  22  23  24  25  26  27  28  29  30  31  32  33  34  35\n",
      "  36  37  38  39  40  41  42  43  44  45  46  47  48  49  50  51  52  53\n",
      "  54  55  56  57  58  59  60  61  62  63  64  65  66  67  68  69  70  71\n",
      "  72  73  74  75  76  77  78  79  80  81  82  83  84  85  86  87  88  89\n",
      "  90  91  92  93  94  95  96  97  98  99 100]\n"
     ]
    }
   ],
   "source": [
    "print(lista_np)"
   ]
  },
  {
   "cell_type": "code",
   "execution_count": 151,
   "id": "de37dbe7",
   "metadata": {},
   "outputs": [
    {
     "data": {
      "text/plain": [
       "50.0"
      ]
     },
     "execution_count": 151,
     "metadata": {},
     "output_type": "execute_result"
    }
   ],
   "source": [
    "np.median(lista_np)"
   ]
  },
  {
   "cell_type": "code",
   "execution_count": 152,
   "id": "e0d4bbb1",
   "metadata": {},
   "outputs": [
    {
     "name": "stdout",
     "output_type": "stream",
     "text": [
      "[101  34  56   3  89  21   6   9  10  14]\n",
      "17.5\n"
     ]
    }
   ],
   "source": [
    "array_media = np.array([101, 34, 56, 3, 89, 21, 6, 9, 10, 14])\n",
    "print(array_media)\n",
    "print(np.median(array_media))"
   ]
  },
  {
   "cell_type": "markdown",
   "id": "47f8b968",
   "metadata": {},
   "source": [
    "## Amplitude\n",
    "\n",
    "- Método `ptp()`"
   ]
  },
  {
   "cell_type": "code",
   "execution_count": 153,
   "id": "fbb58309",
   "metadata": {},
   "outputs": [
    {
     "name": "stdout",
     "output_type": "stream",
     "text": [
      "[  0   1   2   3   4   5   6   7   8   9  10  11  12  13  14  15  16  17\n",
      "  18  19  20  21  22  23  24  25  26  27  28  29  30  31  32  33  34  35\n",
      "  36  37  38  39  40  41  42  43  44  45  46  47  48  49  50  51  52  53\n",
      "  54  55  56  57  58  59  60  61  62  63  64  65  66  67  68  69  70  71\n",
      "  72  73  74  75  76  77  78  79  80  81  82  83  84  85  86  87  88  89\n",
      "  90  91  92  93  94  95  96  97  98  99 100]\n"
     ]
    }
   ],
   "source": [
    "print(lista_np)"
   ]
  },
  {
   "cell_type": "code",
   "execution_count": 154,
   "id": "9fe8adb1",
   "metadata": {},
   "outputs": [
    {
     "data": {
      "text/plain": [
       "100"
      ]
     },
     "execution_count": 154,
     "metadata": {},
     "output_type": "execute_result"
    }
   ],
   "source": [
    "lista_np.ptp()"
   ]
  },
  {
   "cell_type": "code",
   "execution_count": 156,
   "id": "91d03df2",
   "metadata": {},
   "outputs": [
    {
     "data": {
      "text/plain": [
       "98"
      ]
     },
     "execution_count": 156,
     "metadata": {},
     "output_type": "execute_result"
    }
   ],
   "source": [
    "array_media.ptp()"
   ]
  },
  {
   "cell_type": "markdown",
   "id": "bef16442",
   "metadata": {},
   "source": [
    "## Percentis & Quartis\n",
    "\n",
    "- função `quantile()`"
   ]
  },
  {
   "cell_type": "code",
   "execution_count": 157,
   "id": "45914960",
   "metadata": {},
   "outputs": [
    {
     "name": "stdout",
     "output_type": "stream",
     "text": [
      "[  0   1   2   3   4   5   6   7   8   9  10  11  12  13  14  15  16  17\n",
      "  18  19  20  21  22  23  24  25  26  27  28  29  30  31  32  33  34  35\n",
      "  36  37  38  39  40  41  42  43  44  45  46  47  48  49  50  51  52  53\n",
      "  54  55  56  57  58  59  60  61  62  63  64  65  66  67  68  69  70  71\n",
      "  72  73  74  75  76  77  78  79  80  81  82  83  84  85  86  87  88  89\n",
      "  90  91  92  93  94  95  96  97  98  99 100]\n"
     ]
    }
   ],
   "source": [
    "print(lista_np)"
   ]
  },
  {
   "cell_type": "code",
   "execution_count": 165,
   "id": "ab42d9d0",
   "metadata": {},
   "outputs": [
    {
     "data": {
      "text/plain": [
       "25.0"
      ]
     },
     "execution_count": 165,
     "metadata": {},
     "output_type": "execute_result"
    }
   ],
   "source": [
    "# primeiro quartil\n",
    "np.quantile(lista_np, 0.25)"
   ]
  },
  {
   "cell_type": "code",
   "execution_count": 166,
   "id": "39175848",
   "metadata": {},
   "outputs": [
    {
     "data": {
      "text/plain": [
       "50.0"
      ]
     },
     "execution_count": 166,
     "metadata": {},
     "output_type": "execute_result"
    }
   ],
   "source": [
    "# segundo qurtil\n",
    "np.quantile(lista_np, 0.5)"
   ]
  },
  {
   "cell_type": "code",
   "execution_count": 167,
   "id": "1614ee34",
   "metadata": {},
   "outputs": [
    {
     "data": {
      "text/plain": [
       "75.0"
      ]
     },
     "execution_count": 167,
     "metadata": {},
     "output_type": "execute_result"
    }
   ],
   "source": [
    "# terceiro quartil\n",
    "np.quantile(lista_np, 0.75)"
   ]
  },
  {
   "cell_type": "code",
   "execution_count": 168,
   "id": "58aa26b4",
   "metadata": {},
   "outputs": [
    {
     "data": {
      "text/plain": [
       "1.0"
      ]
     },
     "execution_count": 168,
     "metadata": {},
     "output_type": "execute_result"
    }
   ],
   "source": [
    "# primeiro percentil\n",
    "np.quantile(lista_np, 0.01)"
   ]
  },
  {
   "cell_type": "markdown",
   "id": "c5502a9b",
   "metadata": {},
   "source": [
    "## Desvio Padrão\n",
    "\n",
    "- Método `std()`"
   ]
  },
  {
   "cell_type": "code",
   "execution_count": 169,
   "id": "c1669ea4",
   "metadata": {},
   "outputs": [
    {
     "name": "stdout",
     "output_type": "stream",
     "text": [
      "[  0   1   2   3   4   5   6   7   8   9  10  11  12  13  14  15  16  17\n",
      "  18  19  20  21  22  23  24  25  26  27  28  29  30  31  32  33  34  35\n",
      "  36  37  38  39  40  41  42  43  44  45  46  47  48  49  50  51  52  53\n",
      "  54  55  56  57  58  59  60  61  62  63  64  65  66  67  68  69  70  71\n",
      "  72  73  74  75  76  77  78  79  80  81  82  83  84  85  86  87  88  89\n",
      "  90  91  92  93  94  95  96  97  98  99 100]\n"
     ]
    }
   ],
   "source": [
    "print(lista_np)"
   ]
  },
  {
   "cell_type": "code",
   "execution_count": 170,
   "id": "26463940",
   "metadata": {},
   "outputs": [
    {
     "data": {
      "text/plain": [
       "29.154759474226502"
      ]
     },
     "execution_count": 170,
     "metadata": {},
     "output_type": "execute_result"
    }
   ],
   "source": [
    "lista_np.std()"
   ]
  },
  {
   "cell_type": "code",
   "execution_count": 171,
   "id": "13216219",
   "metadata": {},
   "outputs": [
    {
     "data": {
      "text/plain": [
       "29.15"
      ]
     },
     "execution_count": 171,
     "metadata": {},
     "output_type": "execute_result"
    }
   ],
   "source": [
    "lista_np.std().round(2)"
   ]
  },
  {
   "cell_type": "markdown",
   "id": "037a1791",
   "metadata": {},
   "source": [
    "# Métodos Numpy"
   ]
  },
  {
   "cell_type": "markdown",
   "id": "157311d0",
   "metadata": {},
   "source": [
    "## arange()\n",
    "\n",
    "Gera um array Numpy com números uniformemente espaçados.\n",
    "\n",
    "Parâmetros:\n",
    "- **start:** opcional - número inicial (inclusivo). Caso seja omitido, começará em 0.\n",
    "- **stop:** obrigatório - número final (exclusivo).\n",
    "- **step:** opcional. Caso seja omitido, assumirá o valor padrão que é 1.\n"
   ]
  },
  {
   "cell_type": "code",
   "execution_count": 184,
   "id": "5ac04038",
   "metadata": {},
   "outputs": [
    {
     "data": {
      "text/plain": [
       "array([10, 11, 12, 13, 14, 15, 16, 17, 18, 19, 20, 21, 22, 23, 24, 25, 26,\n",
       "       27, 28, 29, 30, 31, 32, 33, 34, 35, 36, 37, 38, 39, 40, 41, 42, 43,\n",
       "       44, 45, 46, 47, 48, 49])"
      ]
     },
     "execution_count": 184,
     "metadata": {},
     "output_type": "execute_result"
    }
   ],
   "source": [
    "np.arange(10, 50)"
   ]
  },
  {
   "cell_type": "code",
   "execution_count": 185,
   "id": "f9ccb687",
   "metadata": {},
   "outputs": [
    {
     "data": {
      "text/plain": [
       "array([10, 15, 20, 25, 30, 35, 40, 45])"
      ]
     },
     "execution_count": 185,
     "metadata": {},
     "output_type": "execute_result"
    }
   ],
   "source": [
    "np.arange(10, 50, 5)"
   ]
  },
  {
   "cell_type": "code",
   "execution_count": 186,
   "id": "b1f755d0",
   "metadata": {},
   "outputs": [],
   "source": [
    "array_arange = np.arange(100, 1001, 2)"
   ]
  },
  {
   "cell_type": "code",
   "execution_count": 188,
   "id": "da204755",
   "metadata": {},
   "outputs": [
    {
     "data": {
      "text/plain": [
       "numpy.ndarray"
      ]
     },
     "execution_count": 188,
     "metadata": {},
     "output_type": "execute_result"
    }
   ],
   "source": [
    "type(array_arange)"
   ]
  },
  {
   "cell_type": "markdown",
   "id": "32f06b7b",
   "metadata": {},
   "source": [
    "## linspace()\n",
    "\n",
    "Similar à `arange()`, porém gera um número determinado de números dentro do range especificado.\n",
    "\n",
    "Parâmetros:\n",
    "- **start:** obrigatório - número inicial do range\n",
    "- **stop:** obrigatório - número final do range\n",
    "- **num:** opcional - quantidade de números a serem gerados. Caso não seja informado, assume o valor padrão que é 50."
   ]
  },
  {
   "cell_type": "code",
   "execution_count": 191,
   "id": "764dac10",
   "metadata": {},
   "outputs": [
    {
     "data": {
      "text/plain": [
       "array([10.        , 10.4040404 , 10.80808081, 11.21212121, 11.61616162,\n",
       "       12.02020202, 12.42424242, 12.82828283, 13.23232323, 13.63636364,\n",
       "       14.04040404, 14.44444444, 14.84848485, 15.25252525, 15.65656566,\n",
       "       16.06060606, 16.46464646, 16.86868687, 17.27272727, 17.67676768,\n",
       "       18.08080808, 18.48484848, 18.88888889, 19.29292929, 19.6969697 ,\n",
       "       20.1010101 , 20.50505051, 20.90909091, 21.31313131, 21.71717172,\n",
       "       22.12121212, 22.52525253, 22.92929293, 23.33333333, 23.73737374,\n",
       "       24.14141414, 24.54545455, 24.94949495, 25.35353535, 25.75757576,\n",
       "       26.16161616, 26.56565657, 26.96969697, 27.37373737, 27.77777778,\n",
       "       28.18181818, 28.58585859, 28.98989899, 29.39393939, 29.7979798 ,\n",
       "       30.2020202 , 30.60606061, 31.01010101, 31.41414141, 31.81818182,\n",
       "       32.22222222, 32.62626263, 33.03030303, 33.43434343, 33.83838384,\n",
       "       34.24242424, 34.64646465, 35.05050505, 35.45454545, 35.85858586,\n",
       "       36.26262626, 36.66666667, 37.07070707, 37.47474747, 37.87878788,\n",
       "       38.28282828, 38.68686869, 39.09090909, 39.49494949, 39.8989899 ,\n",
       "       40.3030303 , 40.70707071, 41.11111111, 41.51515152, 41.91919192,\n",
       "       42.32323232, 42.72727273, 43.13131313, 43.53535354, 43.93939394,\n",
       "       44.34343434, 44.74747475, 45.15151515, 45.55555556, 45.95959596,\n",
       "       46.36363636, 46.76767677, 47.17171717, 47.57575758, 47.97979798,\n",
       "       48.38383838, 48.78787879, 49.19191919, 49.5959596 , 50.        ])"
      ]
     },
     "execution_count": 191,
     "metadata": {},
     "output_type": "execute_result"
    }
   ],
   "source": [
    "np.linspace(10, 50, 100)"
   ]
  },
  {
   "cell_type": "code",
   "execution_count": 192,
   "id": "92a2a589",
   "metadata": {},
   "outputs": [],
   "source": [
    "array_linspace = np.linspace(0, 1, 50)"
   ]
  },
  {
   "cell_type": "code",
   "execution_count": 194,
   "id": "1328c8b8",
   "metadata": {},
   "outputs": [
    {
     "data": {
      "text/plain": [
       "numpy.ndarray"
      ]
     },
     "execution_count": 194,
     "metadata": {},
     "output_type": "execute_result"
    }
   ],
   "source": [
    "type(array_linspace)"
   ]
  },
  {
   "cell_type": "markdown",
   "id": "38bbddf4",
   "metadata": {},
   "source": [
    "## random.randint()\n",
    "\n",
    "Gera um array Numpy com números inteiros aleatórios.\n",
    "\n",
    "Parâmetros:\n",
    "- **low:** obrigatório - menor número da distribuição\n",
    "- **high:** opcional - maior número da distribuição\n",
    "- **size:** opcional - quantidade de números a serem gerados"
   ]
  },
  {
   "cell_type": "code",
   "execution_count": 198,
   "id": "7788f14b",
   "metadata": {},
   "outputs": [
    {
     "name": "stdout",
     "output_type": "stream",
     "text": [
      "[54 19 59 39 41 36 18 51 35 52 16 43 55 42 21 17 53 23 14 58 17 34 21 23\n",
      " 28 23 14 38 49 50 28 57 12 19 18 24 38 32 27 12 54 31 17 37 20 53 22 14\n",
      " 11 22 37 20 16 53 37 56 46 15 20 47 54 59 43 38 10 17 49 56 39 13 37 41\n",
      " 39 11 38 24 27 48 44 16 49 34 32 47 58 22 38 43 49 28 48 55 35 28 49 51\n",
      " 53 42 21 44]\n",
      "<class 'numpy.ndarray'>\n"
     ]
    }
   ],
   "source": [
    "array_randint = np.random.randint(10, 60, 100)\n",
    "print(array_randint)\n",
    "print(type(array_randint))"
   ]
  },
  {
   "cell_type": "markdown",
   "id": "9fa3e119",
   "metadata": {},
   "source": [
    "## random.rand()\n",
    "\n",
    "Gera um array de números aleatórios de acordo com as dimensões especificadas.\n",
    "\n",
    "Parâmetros:\n",
    "- **d0, d1, d2.....dn:** opcional - dimensões do array"
   ]
  },
  {
   "cell_type": "code",
   "execution_count": 200,
   "id": "8050f7c8",
   "metadata": {},
   "outputs": [
    {
     "name": "stdout",
     "output_type": "stream",
     "text": [
      "[0.38917414 0.23039676 0.93489875 0.83300965 0.57919052]\n",
      "1\n"
     ]
    }
   ],
   "source": [
    "array_1d = np.random.rand(5)\n",
    "print(array_1d)\n",
    "print(array_1d.ndim)"
   ]
  },
  {
   "cell_type": "code",
   "execution_count": 202,
   "id": "3448d85f",
   "metadata": {},
   "outputs": [
    {
     "name": "stdout",
     "output_type": "stream",
     "text": [
      "[[0.44037271 0.8331468  0.81809554 0.11256794 0.23575897]\n",
      " [0.96928621 0.38210848 0.0787289  0.47809427 0.16551121]\n",
      " [0.35486996 0.45585747 0.52511938 0.84816721 0.07211331]\n",
      " [0.9751389  0.47152577 0.13845174 0.26545416 0.22280861]\n",
      " [0.67434304 0.49161044 0.06678726 0.33965758 0.14778044]]\n",
      "2\n"
     ]
    }
   ],
   "source": [
    "array_2d = np.random.rand(5, 5)\n",
    "print(array_2d)\n",
    "print(array_2d.ndim)"
   ]
  },
  {
   "cell_type": "code",
   "execution_count": 203,
   "id": "a741080f",
   "metadata": {},
   "outputs": [
    {
     "name": "stdout",
     "output_type": "stream",
     "text": [
      "[[[0.81299207 0.01134168 0.29726224]\n",
      "  [0.02640868 0.37885496 0.07865479]\n",
      "  [0.4529756  0.28131449 0.16686379]\n",
      "  [0.3104952  0.75331722 0.79099708]\n",
      "  [0.66300046 0.17999177 0.92897836]]\n",
      "\n",
      " [[0.13463609 0.83977363 0.5017298 ]\n",
      "  [0.80989913 0.44644643 0.02235145]\n",
      "  [0.61833683 0.44573027 0.75742685]\n",
      "  [0.10523451 0.36627898 0.65536161]\n",
      "  [0.88440718 0.89923906 0.39271339]]\n",
      "\n",
      " [[0.8871519  0.25286317 0.48945584]\n",
      "  [0.24411729 0.01072088 0.55430356]\n",
      "  [0.74925901 0.68754496 0.66650545]\n",
      "  [0.68025608 0.90539268 0.66858434]\n",
      "  [0.91566095 0.64158019 0.43825483]]\n",
      "\n",
      " [[0.64771096 0.87152114 0.54570646]\n",
      "  [0.65682559 0.80667378 0.8012179 ]\n",
      "  [0.26785858 0.94896501 0.66816088]\n",
      "  [0.52337431 0.33830986 0.66611386]\n",
      "  [0.51271493 0.92849822 0.39397525]]\n",
      "\n",
      " [[0.07750434 0.14700993 0.99183922]\n",
      "  [0.47918365 0.25891783 0.73372761]\n",
      "  [0.16856389 0.28879499 0.33569446]\n",
      "  [0.96300271 0.05568273 0.35795043]\n",
      "  [0.21201513 0.21697695 0.90970118]]]\n",
      "3\n"
     ]
    }
   ],
   "source": [
    "array_3d = np.random.rand(5, 5, 3)\n",
    "print(array_3d)\n",
    "print(array_3d.ndim)"
   ]
  },
  {
   "cell_type": "code",
   "execution_count": null,
   "id": "ed09f251",
   "metadata": {},
   "outputs": [],
   "source": []
  },
  {
   "cell_type": "code",
   "execution_count": null,
   "id": "ca911c7c",
   "metadata": {},
   "outputs": [],
   "source": []
  }
 ],
 "metadata": {
  "hide_input": false,
  "kernelspec": {
   "display_name": "Python 3 (ipykernel)",
   "language": "python",
   "name": "python3"
  },
  "language_info": {
   "codemirror_mode": {
    "name": "ipython",
    "version": 3
   },
   "file_extension": ".py",
   "mimetype": "text/x-python",
   "name": "python",
   "nbconvert_exporter": "python",
   "pygments_lexer": "ipython3",
   "version": "3.9.13"
  }
 },
 "nbformat": 4,
 "nbformat_minor": 5
}
