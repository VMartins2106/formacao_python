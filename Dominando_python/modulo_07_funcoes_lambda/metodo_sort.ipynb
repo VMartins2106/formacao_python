{
 "cells": [
  {
   "cell_type": "markdown",
   "metadata": {},
   "source": [
    "<h4 style=\"color: #2bb3cc\">Método sort()</h4>\n",
    "\n",
    "- Utilizado para ordenar elementos\n",
    "- Modifica o objeto original\n",
    "- Possui um parâmetro chamado `key`"
   ]
  },
  {
   "cell_type": "code",
   "execution_count": 3,
   "metadata": {},
   "outputs": [
    {
     "name": "stdout",
     "output_type": "stream",
     "text": [
      "[('Vinicius', 40), ('Maria', 23), ('Ana', 64), ('Gabriel', 17), ('Lucas', 13)]\n"
     ]
    }
   ],
   "source": [
    "pessoas = [('Vinicius',40),  ('Maria',23),  ('Ana',64),  ('Gabriel',17),  ('Lucas', 13)]\n",
    "print(pessoas)"
   ]
  },
  {
   "cell_type": "code",
   "execution_count": 6,
   "metadata": {},
   "outputs": [],
   "source": [
    "pessoas.sort(key = lambda idade: idade[1], reverse=False) # CRESCENTRE\n",
    "pessoas.sort(key = lambda idade: idade[1], reverse=True) # DECRESCENTRE"
   ]
  },
  {
   "cell_type": "code",
   "execution_count": 8,
   "metadata": {},
   "outputs": [
    {
     "data": {
      "text/plain": [
       "[('Lucas', 13), ('Gabriel', 17), ('Maria', 23), ('Vinicius', 40), ('Ana', 64)]"
      ]
     },
     "execution_count": 8,
     "metadata": {},
     "output_type": "execute_result"
    }
   ],
   "source": [
    "pessoas"
   ]
  }
 ],
 "metadata": {
  "kernelspec": {
   "display_name": "Python 3.11.1 64-bit",
   "language": "python",
   "name": "python3"
  },
  "language_info": {
   "codemirror_mode": {
    "name": "ipython",
    "version": 3
   },
   "file_extension": ".py",
   "mimetype": "text/x-python",
   "name": "python",
   "nbconvert_exporter": "python",
   "pygments_lexer": "ipython3",
   "version": "3.11.1"
  },
  "orig_nbformat": 4,
  "vscode": {
   "interpreter": {
    "hash": "95b2d1448bacf9f989af12da1c4c6e35fea5360a0c5347ef00d932450680c179"
   }
  }
 },
 "nbformat": 4,
 "nbformat_minor": 2
}
