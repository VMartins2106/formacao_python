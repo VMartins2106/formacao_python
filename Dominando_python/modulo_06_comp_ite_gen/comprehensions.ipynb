{
 "cells": [
  {
   "cell_type": "markdown",
   "metadata": {},
   "source": [
    "<h4 style=\"color: #2bb3cc\">Comprehensions</h4>\n",
    "\n",
    "- forma mais concisa de gerar coleções em apenas uma linha de código\n",
    "- podem conter testes lógicos\n",
    "- podem utilizar expressões lambdas\n",
    "\n",
    "Aplicações:\n",
    "- maior facilidade de escrever código\n",
    "- podem substituir loops, `map()` e `filter()` em muitas situações\n",
    "- podem ser muito performáticos"
   ]
  },
  {
   "cell_type": "markdown",
   "metadata": {},
   "source": [
    "<h4 style=\"color: #2bb3cc\">List comprehensions</h4>"
   ]
  },
  {
   "cell_type": "code",
   "execution_count": 18,
   "metadata": {},
   "outputs": [
    {
     "data": {
      "text/plain": [
       "[0, 1, 2, 3, 4, 5, 6, 7, 8, 9]"
      ]
     },
     "execution_count": 18,
     "metadata": {},
     "output_type": "execute_result"
    }
   ],
   "source": [
    "[numero for numero in range(10)]    "
   ]
  },
  {
   "cell_type": "code",
   "execution_count": 22,
   "metadata": {},
   "outputs": [
    {
     "name": "stdout",
     "output_type": "stream",
     "text": [
      "['Vv', 'Ii', 'Nn', 'Ii', 'Cc', 'Ii', 'Uu', 'Ss', '  ', 'Rr', 'Oo', 'Cc', 'Hh', 'Aa', '  ', 'Ll', 'Ii', 'Mm', 'Aa']\n"
     ]
    }
   ],
   "source": [
    "nome = 'Vinicius Rocha Lima'\n",
    "print([letra.upper() + letra.lower() for letra in nome])"
   ]
  },
  {
   "cell_type": "markdown",
   "metadata": {},
   "source": [
    "<h4 style=\"color: #2bb3cc\">Utilizando testes lógicos</h4>"
   ]
  },
  {
   "cell_type": "code",
   "execution_count": 2,
   "metadata": {},
   "outputs": [
    {
     "name": "stdout",
     "output_type": "stream",
     "text": [
      "[0, 1, 2, 3, 4, 5, 6, 7, 8, 9, 10, 11, 12, 13, 14, 15, 16, 17, 18, 19, 20, 21, 22, 23, 24, 25, 26, 27, 28, 29, 30, 31, 32, 33, 34, 35, 36, 37, 38, 39, 40, 41, 42, 43, 44, 45, 46, 47, 48, 49, 50, 51, 52, 53, 54, 55, 56, 57, 58, 59, 60, 61, 62, 63, 64, 65, 66, 67, 68, 69, 70, 71, 72, 73, 74, 75, 76, 77, 78, 79, 80, 81, 82, 83, 84, 85, 86, 87, 88, 89, 90, 91, 92, 93, 94, 95, 96, 97, 98, 99]\n"
     ]
    }
   ],
   "source": [
    "lista = list(range(100))\n",
    "print(lista)"
   ]
  },
  {
   "cell_type": "code",
   "execution_count": 16,
   "metadata": {},
   "outputs": [
    {
     "name": "stdout",
     "output_type": "stream",
     "text": [
      "[0, 2, 4, 6, 8, 10, 12, 14, 16, 18, 20, 22, 24, 26, 28, 30, 32, 34, 36, 38, 40, 42, 44, 46, 48, 50, 52, 54, 56, 58, 60, 62, 64, 66, 68, 70, 72, 74, 76, 78, 80, 82, 84, 86, 88, 90, 92, 94, 96, 98]\n"
     ]
    }
   ],
   "source": [
    "# filtrando números pares\n",
    "print([par for par in lista if par % 2 == 0])"
   ]
  },
  {
   "cell_type": "code",
   "execution_count": 28,
   "metadata": {},
   "outputs": [
    {
     "name": "stdout",
     "output_type": "stream",
     "text": [
      "[1, 3, 5, 7, 9, 11, 13, 15, 17, 19, 21, 23, 25, 27, 29, 31, 33, 35, 37, 39, 41, 43, 45, 47, 49, 51, 53, 55, 57, 59, 61, 63, 65, 67, 69, 71, 73, 75, 77, 79, 81, 83, 85, 87, 89, 91, 93, 95, 97, 99]\n"
     ]
    }
   ],
   "source": [
    "# filtrando números ímpares\n",
    "print([impar for impar in lista if impar % 2 != 0])"
   ]
  },
  {
   "cell_type": "code",
   "execution_count": 30,
   "metadata": {},
   "outputs": [
    {
     "name": "stdout",
     "output_type": "stream",
     "text": [
      "[0.0, 2, 1.0, 6, 2.0, 10, 3.0, 14, 4.0, 18, 5.0, 22, 6.0, 26, 7.0, 30, 8.0, 34, 9.0, 38, 10.0, 42, 11.0, 46, 12.0, 50, 13.0, 54, 14.0, 58, 15.0, 62, 16.0, 66, 17.0, 70, 18.0, 74, 19.0, 78, 20.0, 82, 21.0, 86, 22.0, 90, 23.0, 94, 24.0, 98, 25.0, 102, 26.0, 106, 27.0, 110, 28.0, 114, 29.0, 118, 30.0, 122, 31.0, 126, 32.0, 130, 33.0, 134, 34.0, 138, 35.0, 142, 36.0, 146, 37.0, 150, 38.0, 154, 39.0, 158, 40.0, 162, 41.0, 166, 42.0, 170, 43.0, 174, 44.0, 178, 45.0, 182, 46.0, 186, 47.0, 190, 48.0, 194, 49.0, 198]\n"
     ]
    }
   ],
   "source": [
    "print([numero / 2 if numero % 2 == 0 else numero * 2 for numero in lista])\n",
    "# IMPAR MULTIPLICA POR 2 E PAR DIVIDE POR 2"
   ]
  },
  {
   "cell_type": "code",
   "execution_count": 14,
   "metadata": {},
   "outputs": [
    {
     "name": "stdout",
     "output_type": "stream",
     "text": [
      "['Eu', 'estou', 'estudando', 'a', 'linguagem', 'Python']\n"
     ]
    }
   ],
   "source": [
    "nome = 'Eu estou estudando a linguagem Python'\n",
    "print([palavra for palavra in nome.split()])"
   ]
  },
  {
   "cell_type": "markdown",
   "metadata": {},
   "source": [
    "<h4 style=\"color: #2bb3cc\">Dict comprehensions</h4>"
   ]
  },
  {
   "cell_type": "code",
   "execution_count": 32,
   "metadata": {},
   "outputs": [
    {
     "name": "stdout",
     "output_type": "stream",
     "text": [
      "[0, 1, 2, 3, 4, 5, 6, 7, 8, 9, 10, 11, 12, 13, 14, 15, 16, 17, 18, 19]\n"
     ]
    }
   ],
   "source": [
    "lista = list(range(20))\n",
    "print(lista)"
   ]
  },
  {
   "cell_type": "code",
   "execution_count": 34,
   "metadata": {},
   "outputs": [
    {
     "name": "stdout",
     "output_type": "stream",
     "text": [
      "{0: 0, 1: 1, 2: 2, 3: 3, 4: 4, 5: 5, 6: 6, 7: 7, 8: 8, 9: 9, 10: 10, 11: 11, 12: 12, 13: 13, 14: 14, 15: 15, 16: 16, 17: 17, 18: 18, 19: 19}\n"
     ]
    }
   ],
   "source": [
    "print({numero:numero for numero in lista})"
   ]
  },
  {
   "cell_type": "code",
   "execution_count": 36,
   "metadata": {},
   "outputs": [
    {
     "name": "stdout",
     "output_type": "stream",
     "text": [
      "{'0': 0, '1': 1, '4': 2, '9': 3, '16': 4, '25': 5, '36': 6, '49': 7, '64': 8, '81': 9, '100': 10, '121': 11, '144': 12, '169': 13, '196': 14, '225': 15, '256': 16, '289': 17, '324': 18, '361': 19}\n"
     ]
    }
   ],
   "source": [
    "print({str(numero ** 2):numero for numero in lista})"
   ]
  },
  {
   "cell_type": "code",
   "execution_count": 37,
   "metadata": {},
   "outputs": [
    {
     "name": "stdout",
     "output_type": "stream",
     "text": [
      "{'chave-0': 0, 'chave-1': 1, 'chave-2': 2, 'chave-3': 3, 'chave-4': 4, 'chave-5': 5, 'chave-6': 6, 'chave-7': 7, 'chave-8': 8, 'chave-9': 9, 'chave-10': 10, 'chave-11': 11, 'chave-12': 12, 'chave-13': 13, 'chave-14': 14, 'chave-15': 15, 'chave-16': 16, 'chave-17': 17, 'chave-18': 18, 'chave-19': 19}\n"
     ]
    }
   ],
   "source": [
    "print({'chave-' + str(numero):numero for numero in lista})"
   ]
  },
  {
   "cell_type": "code",
   "execution_count": 40,
   "metadata": {},
   "outputs": [
    {
     "name": "stdout",
     "output_type": "stream",
     "text": [
      "{'Vinicius': 8, 'Maria': 8.2, 'José': 7.1, 'Pedro': 6, 'Gabriel': 9.9, 'Lucas': 10}\n"
     ]
    }
   ],
   "source": [
    "alunos = ['Vinicius', 'Maria', 'José', 'Pedro', 'Gabriel', 'Lucas']\n",
    "notas =  [8, 8.2, 7.1, 6, 9.9, 10]\n",
    "\n",
    "print({alunos[indice]: notas[indice] for indice in range(len(alunos))})"
   ]
  },
  {
   "cell_type": "markdown",
   "metadata": {},
   "source": [
    "<h4 style=\"color: #2bb3cc\">Set comprehensions</h4>"
   ]
  },
  {
   "cell_type": "code",
   "execution_count": 41,
   "metadata": {},
   "outputs": [
    {
     "name": "stdout",
     "output_type": "stream",
     "text": [
      "[0, 1, 2, 3, 4, 5, 6, 7, 8, 9]\n"
     ]
    }
   ],
   "source": [
    "lista = list(range(10))\n",
    "print(lista)"
   ]
  },
  {
   "cell_type": "code",
   "execution_count": 44,
   "metadata": {},
   "outputs": [
    {
     "data": {
      "text/plain": [
       "{0, 1, 2, 3, 4, 5, 6, 7, 8, 9}"
      ]
     },
     "execution_count": 44,
     "metadata": {},
     "output_type": "execute_result"
    }
   ],
   "source": [
    "{numero for numero in lista}"
   ]
  },
  {
   "cell_type": "code",
   "execution_count": 18,
   "metadata": {},
   "outputs": [
    {
     "data": {
      "text/plain": [
       "{'V', 'c', 'i', 'n', 's', 'u'}"
      ]
     },
     "execution_count": 18,
     "metadata": {},
     "output_type": "execute_result"
    }
   ],
   "source": [
    "nome = 'Vinicius'\n",
    "{letra for letra in nome}"
   ]
  }
 ],
 "metadata": {
  "kernelspec": {
   "display_name": "Python 3.11.1 64-bit",
   "language": "python",
   "name": "python3"
  },
  "language_info": {
   "codemirror_mode": {
    "name": "ipython",
    "version": 3
   },
   "file_extension": ".py",
   "mimetype": "text/x-python",
   "name": "python",
   "nbconvert_exporter": "python",
   "pygments_lexer": "ipython3",
   "version": "3.11.1"
  },
  "orig_nbformat": 4,
  "vscode": {
   "interpreter": {
    "hash": "95b2d1448bacf9f989af12da1c4c6e35fea5360a0c5347ef00d932450680c179"
   }
  }
 },
 "nbformat": 4,
 "nbformat_minor": 2
}
