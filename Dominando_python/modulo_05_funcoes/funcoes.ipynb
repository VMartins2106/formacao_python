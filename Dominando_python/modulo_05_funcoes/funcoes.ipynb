{
 "cells": [
  {
   "cell_type": "markdown",
   "metadata": {},
   "source": [
    "<h4 style=\"color: #2bb3cc\">Funções</h4>\n",
    "\n",
    "- Reaproveitamento de código\n",
    "- Código mais organizado\n",
    "- Podem ou não ter parâmetros\n",
    "- Parâmetros podem ter valores padrões\n",
    "- Podem ou não ter retorno\n",
    "- Abstração de complexidade\n"
   ]
  },
  {
   "cell_type": "markdown",
   "metadata": {},
   "source": [
    "<h4 style=\"color: #2bb3cc\">Parâmetros posicionais e parâmetros nomeados</h4>\n"
   ]
  },
  {
   "cell_type": "code",
   "execution_count": 1,
   "metadata": {},
   "outputs": [],
   "source": [
    "def mostra_numeros(numero_1, numero_2, numero_3):\n",
    "    print(numero_1, numero_2, numero_3)"
   ]
  },
  {
   "cell_type": "code",
   "execution_count": 2,
   "metadata": {},
   "outputs": [
    {
     "name": "stdout",
     "output_type": "stream",
     "text": [
      "10 20 30\n"
     ]
    }
   ],
   "source": [
    "mostra_numeros(10 , 20, 30) # POSICIONAMENTO RESPECTIVO"
   ]
  },
  {
   "cell_type": "code",
   "execution_count": 4,
   "metadata": {},
   "outputs": [
    {
     "name": "stdout",
     "output_type": "stream",
     "text": [
      "20 30 10\n"
     ]
    }
   ],
   "source": [
    "mostra_numeros(numero_3=10, numero_1=20, numero_2=30) # POSICIONAMENTO NOMEADO"
   ]
  },
  {
   "cell_type": "markdown",
   "metadata": {},
   "source": [
    "<h4 style=\"color: #2bb3cc\">Docstrings</h4>\n"
   ]
  },
  {
   "cell_type": "code",
   "execution_count": 1,
   "metadata": {},
   "outputs": [],
   "source": [
    "def somar(numero_1, numero_2):\n",
    "    \"\"\" ESTE COMENTÁRIO GERA UM DOCSTRING, EM QUE AO CHAMAR O 'HELP' ISTO IRÁ SER RELATADO\n",
    "    A função somar() foi desenvolvida para retornar a soma de dois números inteiros.\n",
    "    \n",
    "    :param numero_1: primeiro número inteiro\n",
    "    :param numero_2: segundo número inteiro\n",
    "    \n",
    "    :return: retorna a soma de numero_1 e numero_2\n",
    "    \"\"\"\n",
    "    return numero_1 + numero_2"
   ]
  },
  {
   "cell_type": "code",
   "execution_count": 2,
   "metadata": {},
   "outputs": [
    {
     "name": "stdout",
     "output_type": "stream",
     "text": [
      "Help on function somar in module __main__:\n",
      "\n",
      "somar(numero_1, numero_2)\n",
      "    ESTE COMENTÁRIO GERA UM DOCSTRING, EM QUE AO CHAMAR O 'HELP' ISTO IRÁ SER RELATADO\n",
      "    A função somar() foi desenvolvida para retornar a soma de dois números inteiros.\n",
      "    \n",
      "    :param numero_1: primeiro número inteiro\n",
      "    :param numero_2: segundo número inteiro\n",
      "    \n",
      "    :return: retorna a soma de numero_1 e numero_2\n",
      "\n"
     ]
    }
   ],
   "source": [
    "help(somar)"
   ]
  },
  {
   "cell_type": "code",
   "execution_count": 12,
   "metadata": {},
   "outputs": [
    {
     "data": {
      "text/plain": [
       "30"
      ]
     },
     "execution_count": 12,
     "metadata": {},
     "output_type": "execute_result"
    }
   ],
   "source": [
    "somar()"
   ]
  },
  {
   "cell_type": "markdown",
   "metadata": {},
   "source": [
    "<h4 style=\"color: #2bb3cc\">*args</h4>\n",
    "\n",
    "O `*args` é uma parâmetro especial (*pode ter qualquer nome, desde que tenha o asterisco!*) que nos permite passar vários argumentos para uma função. Os argumentos são transformados em uma **tupla**. O `*` é um operador de desempacotamento, introduzido na versão 2 da linguagem e pode ser utilizado com qualquer objeto iterável."
   ]
  },
  {
   "cell_type": "markdown",
   "metadata": {},
   "source": [
    "- O '*ARGS\" SIMBOLIZA QUE IRÁ RECEBER N PARÂMETROS, ENTÃO VOCÊ CONSEGUE PASSAR VÁRIOS AO MSM TEMPO SEM DEFINIR LÁ NA FUNÇÃO"
   ]
  },
  {
   "cell_type": "code",
   "execution_count": 28,
   "metadata": {},
   "outputs": [],
   "source": [
    "def somar(*args):\n",
    "    return sum(args)"
   ]
  },
  {
   "cell_type": "code",
   "execution_count": 33,
   "metadata": {},
   "outputs": [],
   "source": [
    "def somar_3_numeros(a, b, c):\n",
    "    return a + b + c"
   ]
  },
  {
   "cell_type": "code",
   "execution_count": 34,
   "metadata": {},
   "outputs": [],
   "source": [
    "lista = [1, 2, 3]"
   ]
  },
  {
   "cell_type": "code",
   "execution_count": 36,
   "metadata": {},
   "outputs": [
    {
     "data": {
      "text/plain": [
       "6"
      ]
     },
     "execution_count": 36,
     "metadata": {},
     "output_type": "execute_result"
    }
   ],
   "source": [
    "somar_3_numeros(*lista)"
   ]
  },
  {
   "cell_type": "code",
   "execution_count": 37,
   "metadata": {},
   "outputs": [
    {
     "data": {
      "text/plain": [
       "55"
      ]
     },
     "execution_count": 37,
     "metadata": {},
     "output_type": "execute_result"
    }
   ],
   "source": [
    "somar(1, 2, 3, 4, 5, 6, 7, 8, 9, 10)"
   ]
  },
  {
   "cell_type": "code",
   "execution_count": 46,
   "metadata": {},
   "outputs": [],
   "source": [
    "def somar(*numeros):\n",
    "    return sum(numeros)"
   ]
  },
  {
   "cell_type": "code",
   "execution_count": 47,
   "metadata": {},
   "outputs": [
    {
     "data": {
      "text/plain": [
       "100"
      ]
     },
     "execution_count": 47,
     "metadata": {},
     "output_type": "execute_result"
    }
   ],
   "source": [
    "somar(10, 20, 30, 40)"
   ]
  },
  {
   "cell_type": "markdown",
   "metadata": {},
   "source": [
    "<h4 style=\"color: #2bb3cc\">**kwargs</h4>\n",
    "\n",
    "O `**kwargs` é uma parâmetro especial (*pode ter qualquer nome, desde que tenha os dois asteriscos!*) que nos permite passar vários argumentos para uma função. Os argumentos são transformados em uma **dicionário**. O `**` é um operador de desempacotamento, introduzido na versão 2 da linguagem e só pode ser utilizado com dicionários."
   ]
  },
  {
   "cell_type": "code",
   "execution_count": 5,
   "metadata": {},
   "outputs": [],
   "source": [
    "def calculadora(**parametros):\n",
    "    for chave, valor in parametros.items():\n",
    "        print(f'{chave}: {valor}')"
   ]
  },
  {
   "cell_type": "code",
   "execution_count": 6,
   "metadata": {},
   "outputs": [
    {
     "name": "stdout",
     "output_type": "stream",
     "text": [
      "nome: Vinicius\n",
      "linguagem: Python\n",
      "status: True\n",
      "login: empowerdata\n"
     ]
    }
   ],
   "source": [
    "calculadora(nome='Vinicius', linguagem='Python', status=True, login='empowerdata')"
   ]
  },
  {
   "cell_type": "markdown",
   "metadata": {},
   "source": [
    "<h4 style=\"color: #2bb3cc\">Ordem correta dos parâmetros de uma função</h4>\n",
    "\n",
    "`def func(posicionais, *args, **kwargs)`"
   ]
  },
  {
   "cell_type": "code",
   "execution_count": 64,
   "metadata": {},
   "outputs": [],
   "source": [
    "# USAR SEMPRE A ORDEM (POSICIONAIS, *ARGS, **KWARGS)\n",
    "def somar(numero_1, numero_2, *args, **kwargs):\n",
    "    print(numero_1)\n",
    "    print(numero_2)\n",
    "    print(args)\n",
    "    print(kwargs)"
   ]
  },
  {
   "cell_type": "code",
   "execution_count": 70,
   "metadata": {},
   "outputs": [
    {
     "name": "stdout",
     "output_type": "stream",
     "text": [
      "20\n",
      "30\n",
      "(40, 50)\n",
      "{'numero_10': 10, 'numero_100': 100}\n"
     ]
    }
   ],
   "source": [
    "somar(20, 30 , 40, 50, numero_10=10, numero_100=100)\n",
    "\n",
    "# OS 2 PRIMEIROS SÃO RECEBIDOS PELA FUNÇÃO COMO 'numero_1' e 'numero_2'\n",
    "# OS PRÓXIMOS PARÂMETROS SÃO 40,50, porém parâmetros posicionais já foram, então entram em *args\n",
    "# E OS NOMEADOS ENTRAM COMO **kwargs"
   ]
  },
  {
   "cell_type": "markdown",
   "metadata": {},
   "source": [
    "<h4 style=\"color: #2bb3cc\">Callable - passando funções para funções</h4>\n"
   ]
  },
  {
   "cell_type": "code",
   "execution_count": 84,
   "metadata": {},
   "outputs": [
    {
     "data": {
      "text/plain": [
       "3"
      ]
     },
     "execution_count": 84,
     "metadata": {},
     "output_type": "execute_result"
    }
   ],
   "source": [
    "lista = [1, 2, 3]\n",
    "sum(lista)"
   ]
  },
  {
   "cell_type": "code",
   "execution_count": 88,
   "metadata": {},
   "outputs": [
    {
     "data": {
      "text/plain": [
       "True"
      ]
     },
     "execution_count": 88,
     "metadata": {},
     "output_type": "execute_result"
    }
   ],
   "source": [
    "callable(sum)"
   ]
  },
  {
   "cell_type": "code",
   "execution_count": 11,
   "metadata": {},
   "outputs": [],
   "source": [
    "def somar(*args):\n",
    "    return sum(args)"
   ]
  },
  {
   "cell_type": "code",
   "execution_count": 15,
   "metadata": {},
   "outputs": [],
   "source": [
    "def multiplicar(*args):\n",
    "    resultado = 1\n",
    "    for i in args:\n",
    "        resultado *= i\n",
    "    return resultado    "
   ]
  },
  {
   "cell_type": "code",
   "execution_count": 8,
   "metadata": {},
   "outputs": [],
   "source": [
    "def calculadora(*args, funcao):\n",
    "    if callable(funcao): # ISSO GARANTE QUE O QUE FOR PASSADO PELA FUNÇÃO É 'CHAMÁVEL'\n",
    "        return funcao(*args)"
   ]
  },
  {
   "cell_type": "code",
   "execution_count": 14,
   "metadata": {},
   "outputs": [
    {
     "name": "stdout",
     "output_type": "stream",
     "text": [
      "6\n"
     ]
    }
   ],
   "source": [
    "print(calculadora(1, 2, 3, funcao=somar))\n",
    "# PEGAMOS A FUNÇÃO SOMAR, ENVIAMOS A OUTRA FUNÇÃO E LÁ MANDAMOS OS ARGS PARA A FUNÇÃO SOMAR"
   ]
  },
  {
   "cell_type": "code",
   "execution_count": 16,
   "metadata": {},
   "outputs": [
    {
     "name": "stdout",
     "output_type": "stream",
     "text": [
      "720\n"
     ]
    }
   ],
   "source": [
    "print(calculadora(1, 2, 3, 4, 5, 6, funcao=multiplicar))"
   ]
  }
 ],
 "metadata": {
  "kernelspec": {
   "display_name": "Python 3.11.1 64-bit",
   "language": "python",
   "name": "python3"
  },
  "language_info": {
   "codemirror_mode": {
    "name": "ipython",
    "version": 3
   },
   "file_extension": ".py",
   "mimetype": "text/x-python",
   "name": "python",
   "nbconvert_exporter": "python",
   "pygments_lexer": "ipython3",
   "version": "3.11.1"
  },
  "orig_nbformat": 4,
  "vscode": {
   "interpreter": {
    "hash": "95b2d1448bacf9f989af12da1c4c6e35fea5360a0c5347ef00d932450680c179"
   }
  }
 },
 "nbformat": 4,
 "nbformat_minor": 2
}
