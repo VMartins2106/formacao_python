{
 "cells": [
  {
   "cell_type": "markdown",
   "metadata": {},
   "source": [
    "<h4 style=\"color: #2bb3cc\">if - else - elif</h4>"
   ]
  },
  {
   "cell_type": "markdown",
   "metadata": {},
   "source": [
    "Crie uma função que receba uma idade e retorne a sua faixa etária de acordo com as especificações abaixo:\n",
    "\n",
    "- 0 a 18: menor de dezoite anos\n",
    "- 18 a 60: adulto\n",
    "- 60 a 100: idoso(a)\n",
    "- maior que 100: centenário(a)\n",
    "- menor que 0: idade inválida!\n"
   ]
  },
  {
   "cell_type": "code",
   "execution_count": 1,
   "metadata": {},
   "outputs": [],
   "source": [
    "def faixa_etaria(idade):\n",
    "    \n",
    "    idade = int(idade)\n",
    "    \n",
    "    if idade >=0 and idade < 18:\n",
    "        return 'menor de dezoito anos'\n",
    "    else:\n",
    "        if idade >=18 and idade < 60:\n",
    "            return 'adulto'\n",
    "        else:\n",
    "            if idade >= 60 and idade < 100:\n",
    "                return 'idoso(a)'\n",
    "            else:\n",
    "                if idade >= 100:\n",
    "                    return 'centenário(a)'\n",
    "                else:\n",
    "                    return 'idade inválida!'"
   ]
  },
  {
   "cell_type": "code",
   "execution_count": 8,
   "metadata": {},
   "outputs": [
    {
     "name": "stdout",
     "output_type": "stream",
     "text": [
      "idade inválida!\n"
     ]
    }
   ],
   "source": [
    "print(faixa_etaria(-5))"
   ]
  },
  {
   "cell_type": "code",
   "execution_count": 1,
   "metadata": {},
   "outputs": [],
   "source": [
    "# reescrevendo a função utilizando a cláusula elif\n",
    "\n",
    "def faixa_etaria(idade):\n",
    "    \n",
    "    idade = int(idade)\n",
    "    mensagem = 'idade inválida!'\n",
    "    \n",
    "    if 0 <= idade < 18:\n",
    "        mensagem = 'menor de dezoito anos'\n",
    "    elif 18 <= idade < 60:\n",
    "        mensagem = 'adulto'\n",
    "    elif 60 <= idade < 100:\n",
    "        mensagem = 'idoso(a)'\n",
    "    elif idade >= 100:\n",
    "        mensagem = 'centenário(a)'  \n",
    "    \n",
    "    return mensagem           "
   ]
  },
  {
   "cell_type": "code",
   "execution_count": 5,
   "metadata": {},
   "outputs": [
    {
     "name": "stdout",
     "output_type": "stream",
     "text": [
      "menor de dezoito anos\n"
     ]
    }
   ],
   "source": [
    "print(faixa_etaria(17))"
   ]
  }
 ],
 "metadata": {
  "kernelspec": {
   "display_name": "Python 3.11.1 64-bit",
   "language": "python",
   "name": "python3"
  },
  "language_info": {
   "codemirror_mode": {
    "name": "ipython",
    "version": 3
   },
   "file_extension": ".py",
   "mimetype": "text/x-python",
   "name": "python",
   "nbconvert_exporter": "python",
   "pygments_lexer": "ipython3",
   "version": "3.11.1"
  },
  "orig_nbformat": 4,
  "vscode": {
   "interpreter": {
    "hash": "95b2d1448bacf9f989af12da1c4c6e35fea5360a0c5347ef00d932450680c179"
   }
  }
 },
 "nbformat": 4,
 "nbformat_minor": 2
}
