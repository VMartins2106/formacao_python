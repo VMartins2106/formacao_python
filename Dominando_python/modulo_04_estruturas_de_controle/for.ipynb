{
 "cells": [
  {
   "cell_type": "markdown",
   "metadata": {},
   "source": [
    "<h4 style=\"color: #2bb3cc\">looping for</h4>"
   ]
  },
  {
   "cell_type": "markdown",
   "metadata": {},
   "source": [
    "<h4 style=\"color: #2bb3cc\">range</h4>\n",
    "\n",
    "- cria um objeto `range` que é uma sequência de números\n",
    "- é iterável\n",
    "- pode ser utilizado em testes lógicos e com o `for`\n",
    "- contém os parâmetros `start` (inclusivo), `stop` (exclusivo) e `step`"
   ]
  },
  {
   "cell_type": "code",
   "execution_count": 14,
   "metadata": {},
   "outputs": [
    {
     "name": "stdout",
     "output_type": "stream",
     "text": [
      "10\n",
      "13\n",
      "16\n",
      "19\n",
      "22\n",
      "25\n",
      "28\n",
      "31\n",
      "34\n",
      "37\n",
      "40\n"
     ]
    }
   ],
   "source": [
    "for i in range(10, 41, 3):\n",
    "    print(i)"
   ]
  },
  {
   "cell_type": "code",
   "execution_count": 18,
   "metadata": {},
   "outputs": [
    {
     "data": {
      "text/plain": [
       "True"
      ]
     },
     "execution_count": 18,
     "metadata": {},
     "output_type": "execute_result"
    }
   ],
   "source": [
    "50 in range(10, 100)"
   ]
  },
  {
   "cell_type": "code",
   "execution_count": null,
   "metadata": {},
   "outputs": [],
   "source": [
    "range(10,20,2)\n",
    "# O PRIMEIRO É DE ONDE COMEÇA\n",
    "# O SEGUNDO É ONDE TERMINA\n",
    "# O TERCEIRO SÃO OS PASSOS PARA O PRÓXIMO"
   ]
  },
  {
   "cell_type": "code",
   "execution_count": 17,
   "metadata": {},
   "outputs": [
    {
     "name": "stdout",
     "output_type": "stream",
     "text": [
      "0\n",
      "1\n",
      "2\n",
      "3\n",
      "número 3!\n",
      "4\n",
      "5\n",
      "6\n",
      "7\n",
      "8\n",
      "9\n"
     ]
    }
   ],
   "source": [
    "for i in range(10):\n",
    "    print(i)\n",
    "    if i == 3:\n",
    "        print('número 3!')"
   ]
  },
  {
   "cell_type": "markdown",
   "metadata": {},
   "source": [
    "<h4 style=\"color: #2bb3cc\">enumerate</h4>\n",
    "\n",
    "- retorna um objeto `enumerate` (enumerado)\n",
    "- deve ser aplicado sobre um `iterable` (objeto iterável)\n",
    "- possui o parâmentro `start`"
   ]
  },
  {
   "cell_type": "code",
   "execution_count": 19,
   "metadata": {},
   "outputs": [],
   "source": [
    "nomes = ['Maria', 'João', 'José']"
   ]
  },
  {
   "cell_type": "code",
   "execution_count": 21,
   "metadata": {},
   "outputs": [
    {
     "data": {
      "text/plain": [
       "[(0, 'Maria'), (1, 'João'), (2, 'José')]"
      ]
     },
     "execution_count": 21,
     "metadata": {},
     "output_type": "execute_result"
    }
   ],
   "source": [
    "list(enumerate(nomes))"
   ]
  },
  {
   "cell_type": "code",
   "execution_count": 22,
   "metadata": {},
   "outputs": [
    {
     "data": {
      "text/plain": [
       "[(0, 'E'),\n",
       " (1, 'u'),\n",
       " (2, ' '),\n",
       " (3, 'e'),\n",
       " (4, 's'),\n",
       " (5, 't'),\n",
       " (6, 'o'),\n",
       " (7, 'u'),\n",
       " (8, ' '),\n",
       " (9, 'a'),\n",
       " (10, 'p'),\n",
       " (11, 'r'),\n",
       " (12, 'e'),\n",
       " (13, 'n'),\n",
       " (14, 'd'),\n",
       " (15, 'e'),\n",
       " (16, 'n'),\n",
       " (17, 'd'),\n",
       " (18, 'o'),\n",
       " (19, ' '),\n",
       " (20, 'a'),\n",
       " (21, ' '),\n",
       " (22, 'l'),\n",
       " (23, 'i'),\n",
       " (24, 'n'),\n",
       " (25, 'g'),\n",
       " (26, 'u'),\n",
       " (27, 'a'),\n",
       " (28, 'g'),\n",
       " (29, 'e'),\n",
       " (30, 'm'),\n",
       " (31, ' '),\n",
       " (32, 'P'),\n",
       " (33, 'y'),\n",
       " (34, 't'),\n",
       " (35, 'h'),\n",
       " (36, 'o'),\n",
       " (37, 'n')]"
      ]
     },
     "execution_count": 22,
     "metadata": {},
     "output_type": "execute_result"
    }
   ],
   "source": [
    "texto = 'Eu estou aprendendo a linguagem Python'\n",
    "list(enumerate(texto))"
   ]
  },
  {
   "cell_type": "code",
   "execution_count": 27,
   "metadata": {},
   "outputs": [
    {
     "name": "stdout",
     "output_type": "stream",
     "text": [
      "Time 1: Flamengo\n",
      "Time 2: Botafogo\n",
      "Time 3: Fluminense\n",
      "Time 4: São Paulo\n",
      "Time 5: Palmeiras\n"
     ]
    }
   ],
   "source": [
    "times = ['Flamengo', 'Botafogo', 'Fluminense', 'São Paulo', 'Palmeiras']\n",
    "\n",
    "for indice, time in enumerate(times, start=1):\n",
    "    print(f'Time {indice}: {time}')"
   ]
  },
  {
   "cell_type": "markdown",
   "metadata": {},
   "source": [
    "<h4 style=\"color: #2bb3cc\">loopings for aninhados</h4>"
   ]
  },
  {
   "cell_type": "code",
   "execution_count": 28,
   "metadata": {},
   "outputs": [],
   "source": [
    "pessoas = [ ('Maria', 37, 70), ('João', 23, 80), ('Gabriel', 15, 58), ('Lucas', 12, 39)  ]"
   ]
  },
  {
   "cell_type": "code",
   "execution_count": 46,
   "metadata": {},
   "outputs": [
    {
     "name": "stdout",
     "output_type": "stream",
     "text": [
      "Maria\n",
      "37\n",
      "70\n",
      "João\n",
      "23\n",
      "80\n",
      "Gabriel\n",
      "15\n",
      "58\n",
      "Lucas\n",
      "12\n",
      "39\n"
     ]
    }
   ],
   "source": [
    "for pessoa in pessoas:\n",
    "    for dados in pessoa:\n",
    "        print(dados)"
   ]
  },
  {
   "cell_type": "code",
   "execution_count": 47,
   "metadata": {},
   "outputs": [],
   "source": [
    "lista = [ [(1, 2, 4), (4, 5, 6)], [ (7, 8, 9), (10, 11, 12)]]"
   ]
  },
  {
   "cell_type": "code",
   "execution_count": 52,
   "metadata": {},
   "outputs": [],
   "source": [
    "lista_plana = []\n",
    "for i in lista:\n",
    "    for y in i:\n",
    "        for z in y:\n",
    "            lista_plana.append(z)"
   ]
  },
  {
   "cell_type": "code",
   "execution_count": 53,
   "metadata": {},
   "outputs": [
    {
     "name": "stdout",
     "output_type": "stream",
     "text": [
      "[1, 2, 4, 4, 5, 6, 7, 8, 9, 10, 11, 12]\n"
     ]
    }
   ],
   "source": [
    "print(lista_plana)"
   ]
  },
  {
   "cell_type": "markdown",
   "metadata": {},
   "source": [
    "<h4 style=\"color: #2bb3cc\">Projeto Tabuada</h4>\n",
    "Utilize a linguagem Python para gerar automaticamente a tabuada de 1 a 9!"
   ]
  },
  {
   "cell_type": "code",
   "execution_count": 60,
   "metadata": {},
   "outputs": [
    {
     "name": "stdout",
     "output_type": "stream",
     "text": [
      "\n",
      "Tabuada de 1\n",
      "1 x 1 = 1\n",
      "1 x 2 = 2\n",
      "1 x 3 = 3\n",
      "1 x 4 = 4\n",
      "1 x 5 = 5\n",
      "1 x 6 = 6\n",
      "1 x 7 = 7\n",
      "1 x 8 = 8\n",
      "1 x 9 = 9\n",
      "\n",
      "Tabuada de 2\n",
      "2 x 1 = 2\n",
      "2 x 2 = 4\n",
      "2 x 3 = 6\n",
      "2 x 4 = 8\n",
      "2 x 5 = 10\n",
      "2 x 6 = 12\n",
      "2 x 7 = 14\n",
      "2 x 8 = 16\n",
      "2 x 9 = 18\n",
      "\n",
      "Tabuada de 3\n",
      "3 x 1 = 3\n",
      "3 x 2 = 6\n",
      "3 x 3 = 9\n",
      "3 x 4 = 12\n",
      "3 x 5 = 15\n",
      "3 x 6 = 18\n",
      "3 x 7 = 21\n",
      "3 x 8 = 24\n",
      "3 x 9 = 27\n",
      "\n",
      "Tabuada de 4\n",
      "4 x 1 = 4\n",
      "4 x 2 = 8\n",
      "4 x 3 = 12\n",
      "4 x 4 = 16\n",
      "4 x 5 = 20\n",
      "4 x 6 = 24\n",
      "4 x 7 = 28\n",
      "4 x 8 = 32\n",
      "4 x 9 = 36\n",
      "\n",
      "Tabuada de 5\n",
      "5 x 1 = 5\n",
      "5 x 2 = 10\n",
      "5 x 3 = 15\n",
      "5 x 4 = 20\n",
      "5 x 5 = 25\n",
      "5 x 6 = 30\n",
      "5 x 7 = 35\n",
      "5 x 8 = 40\n",
      "5 x 9 = 45\n",
      "\n",
      "Tabuada de 6\n",
      "6 x 1 = 6\n",
      "6 x 2 = 12\n",
      "6 x 3 = 18\n",
      "6 x 4 = 24\n",
      "6 x 5 = 30\n",
      "6 x 6 = 36\n",
      "6 x 7 = 42\n",
      "6 x 8 = 48\n",
      "6 x 9 = 54\n",
      "\n",
      "Tabuada de 7\n",
      "7 x 1 = 7\n",
      "7 x 2 = 14\n",
      "7 x 3 = 21\n",
      "7 x 4 = 28\n",
      "7 x 5 = 35\n",
      "7 x 6 = 42\n",
      "7 x 7 = 49\n",
      "7 x 8 = 56\n",
      "7 x 9 = 63\n",
      "\n",
      "Tabuada de 8\n",
      "8 x 1 = 8\n",
      "8 x 2 = 16\n",
      "8 x 3 = 24\n",
      "8 x 4 = 32\n",
      "8 x 5 = 40\n",
      "8 x 6 = 48\n",
      "8 x 7 = 56\n",
      "8 x 8 = 64\n",
      "8 x 9 = 72\n",
      "\n",
      "Tabuada de 9\n",
      "9 x 1 = 9\n",
      "9 x 2 = 18\n",
      "9 x 3 = 27\n",
      "9 x 4 = 36\n",
      "9 x 5 = 45\n",
      "9 x 6 = 54\n",
      "9 x 7 = 63\n",
      "9 x 8 = 72\n",
      "9 x 9 = 81\n"
     ]
    }
   ],
   "source": [
    "for numero in range(1, 10):\n",
    "    print(f'\\nTabuada de {numero}')\n",
    "    for multiplicador in range(1, 10):\n",
    "        print(f'{numero} x {multiplicador} = {numero * multiplicador}')"
   ]
  }
 ],
 "metadata": {
  "kernelspec": {
   "display_name": "Python 3.11.1 64-bit",
   "language": "python",
   "name": "python3"
  },
  "language_info": {
   "codemirror_mode": {
    "name": "ipython",
    "version": 3
   },
   "file_extension": ".py",
   "mimetype": "text/x-python",
   "name": "python",
   "nbconvert_exporter": "python",
   "pygments_lexer": "ipython3",
   "version": "3.11.1"
  },
  "orig_nbformat": 4,
  "vscode": {
   "interpreter": {
    "hash": "95b2d1448bacf9f989af12da1c4c6e35fea5360a0c5347ef00d932450680c179"
   }
  }
 },
 "nbformat": 4,
 "nbformat_minor": 2
}
