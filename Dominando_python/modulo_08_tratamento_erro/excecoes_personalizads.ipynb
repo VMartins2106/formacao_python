{
 "cells": [
  {
   "cell_type": "markdown",
   "metadata": {},
   "source": [
    "<h4 style=\"color: #2bb3cc\">Lançando excessões personalizadas com <code>raise</code></h4>"
   ]
  },
  {
   "cell_type": "code",
   "execution_count": 1,
   "metadata": {},
   "outputs": [],
   "source": [
    "def dividir(a, b):\n",
    "    if b == 0:\n",
    "        raise Exception('Essa função não aceita como argumento o número 0 para o parâmetro b!')\n",
    "        # O 'raise Exception()' FAZ COM QUE O ERRO APAREÇA DA FORMA QUE VOCÊ DETERMINOU\n",
    "    return a / b"
   ]
  },
  {
   "cell_type": "code",
   "execution_count": 5,
   "metadata": {},
   "outputs": [
    {
     "ename": "Exception",
     "evalue": "Essa função não aceita como argumento o número 0 para o parâmetro b!",
     "output_type": "error",
     "traceback": [
      "\u001b[1;31m---------------------------------------------------------------------------\u001b[0m",
      "\u001b[1;31mException\u001b[0m                                 Traceback (most recent call last)",
      "Cell \u001b[1;32mIn[5], line 1\u001b[0m\n\u001b[1;32m----> 1\u001b[0m dividir(\u001b[39m10\u001b[39;49m, \u001b[39m0\u001b[39;49m)\n",
      "Cell \u001b[1;32mIn[1], line 3\u001b[0m, in \u001b[0;36mdividir\u001b[1;34m(a, b)\u001b[0m\n\u001b[0;32m      1\u001b[0m \u001b[39mdef\u001b[39;00m \u001b[39mdividir\u001b[39m(a, b):\n\u001b[0;32m      2\u001b[0m     \u001b[39mif\u001b[39;00m b \u001b[39m==\u001b[39m \u001b[39m0\u001b[39m:\n\u001b[1;32m----> 3\u001b[0m         \u001b[39mraise\u001b[39;00m \u001b[39mException\u001b[39;00m(\u001b[39m'\u001b[39m\u001b[39mEssa função não aceita como argumento o número 0 para o parâmetro b!\u001b[39m\u001b[39m'\u001b[39m)\n\u001b[0;32m      4\u001b[0m         \u001b[39m# O 'raise Exception()' FAZ COM QUE O ERRO APAREÇA DA FORMA QUE VOCÊ DETERMINOU\u001b[39;00m\n\u001b[0;32m      5\u001b[0m     \u001b[39mreturn\u001b[39;00m a \u001b[39m/\u001b[39m b\n",
      "\u001b[1;31mException\u001b[0m: Essa função não aceita como argumento o número 0 para o parâmetro b!"
     ]
    }
   ],
   "source": [
    "dividir(10, 0)"
   ]
  },
  {
   "cell_type": "markdown",
   "metadata": {},
   "source": [
    "# O ERRO RELATADO FOI: \n",
    "\n",
    "-Exception: Essa função não aceita como argumento o número 0 para o parâmetro b!"
   ]
  }
 ],
 "metadata": {
  "kernelspec": {
   "display_name": "Python 3.11.1 64-bit",
   "language": "python",
   "name": "python3"
  },
  "language_info": {
   "codemirror_mode": {
    "name": "ipython",
    "version": 3
   },
   "file_extension": ".py",
   "mimetype": "text/x-python",
   "name": "python",
   "nbconvert_exporter": "python",
   "pygments_lexer": "ipython3",
   "version": "3.11.1"
  },
  "orig_nbformat": 4,
  "vscode": {
   "interpreter": {
    "hash": "95b2d1448bacf9f989af12da1c4c6e35fea5360a0c5347ef00d932450680c179"
   }
  }
 },
 "nbformat": 4,
 "nbformat_minor": 2
}
