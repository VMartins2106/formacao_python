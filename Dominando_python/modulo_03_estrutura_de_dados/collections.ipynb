{
 "cells": [
  {
   "cell_type": "markdown",
   "metadata": {},
   "source": [
    "<h4 style=\"color: #2bb3cc\">Collections</h4>\n",
    "\n",
    "O módulo `collections` implementa estruturas de container de alta performance que são alternativas às coleções Python tradicionais.\n"
   ]
  },
  {
   "cell_type": "markdown",
   "metadata": {},
   "source": [
    "<h5 style=\"color: #2bb3cc\">Collections - Counter</h5>\n",
    "\n",
    "Recebe um iterável como argumento e retorna um objeto do tipo `Collections Counter`, contendo as contagens de cada elemento no iterável."
   ]
  },
  {
   "cell_type": "code",
   "execution_count": 11,
   "metadata": {},
   "outputs": [],
   "source": [
    "from collections import Counter\n",
    "\n",
    "lista = [1, 1, 1, 1, 2, 2, 3, 3, 3, 3, 4, 5, 6, 6, 7, 7, 7, 7, 8, 9]"
   ]
  },
  {
   "cell_type": "code",
   "execution_count": 14,
   "metadata": {},
   "outputs": [
    {
     "name": "stdout",
     "output_type": "stream",
     "text": [
      "<class 'collections.Counter'>\n",
      "Counter({1: 4, 3: 4, 7: 4, 2: 2, 6: 2, 4: 1, 5: 1, 8: 1, 9: 1})\n"
     ]
    }
   ],
   "source": [
    "contador = Counter(lista)\n",
    "print(type(contador))\n",
    "print(contador)"
   ]
  },
  {
   "cell_type": "code",
   "execution_count": 15,
   "metadata": {},
   "outputs": [
    {
     "data": {
      "text/plain": [
       "Counter({'V': 1, 'i': 3, 'n': 1, 'c': 1, 'u': 1, 's': 1})"
      ]
     },
     "execution_count": 15,
     "metadata": {},
     "output_type": "execute_result"
    }
   ],
   "source": [
    "nome = 'Vinicius'\n",
    "Counter(nome)"
   ]
  },
  {
   "cell_type": "code",
   "execution_count": 16,
   "metadata": {},
   "outputs": [],
   "source": [
    "texto = \"\"\"\n",
    "Eu te amo porque te amo,\n",
    "Não precisas ser amante,\n",
    "e nem sempre sabes sê-lo.\n",
    "Eu te amo porque te amo.\n",
    "Amor é estado de graça\n",
    "e com amor não se paga.\n",
    "\n",
    "Amor é dado de graça,\n",
    "é semeado no vento,\n",
    "na cachoeira, no eclipse.\n",
    "Amor foge a dicionários\n",
    "e a regulamentos vários.\n",
    "\n",
    "Eu te amo porque não amo\n",
    "bastante ou demais a mim.\n",
    "Porque amor não se troca,\n",
    "não se conjuga nem se ama.\n",
    "Porque amor é amor a nada,\n",
    "feliz e forte em si mesmo.\n",
    "\n",
    "Amor é primo da morte,\n",
    "e da morte vencedor,\n",
    "por mais que o matem (e matam)\n",
    "a cada instante de amor.\n",
    "\"\"\""
   ]
  },
  {
   "cell_type": "code",
   "execution_count": 25,
   "metadata": {},
   "outputs": [
    {
     "name": "stdout",
     "output_type": "stream",
     "text": [
      "Counter({'amor': 8, 'te': 5, 'porque': 5, 'não': 5, 'e': 5, 'é': 5, 'a': 5, 'amo': 4, 'se': 4, 'eu': 3, 'de': 3, 'nem': 2, 'no': 2, 'da': 2, 'amo,': 1, 'precisas': 1, 'ser': 1, 'amante,': 1, 'sempre': 1, 'sabes': 1, 'sê-lo.': 1, 'amo.': 1, 'estado': 1, 'graça': 1, 'com': 1, 'paga.': 1, 'dado': 1, 'graça,': 1, 'semeado': 1, 'vento,': 1, 'na': 1, 'cachoeira,': 1, 'eclipse.': 1, 'foge': 1, 'dicionários': 1, 'regulamentos': 1, 'vários.': 1, 'bastante': 1, 'ou': 1, 'demais': 1, 'mim.': 1, 'troca,': 1, 'conjuga': 1, 'ama.': 1, 'nada,': 1, 'feliz': 1, 'forte': 1, 'em': 1, 'si': 1, 'mesmo.': 1, 'primo': 1, 'morte,': 1, 'morte': 1, 'vencedor,': 1, 'por': 1, 'mais': 1, 'que': 1, 'o': 1, 'matem': 1, '(e': 1, 'matam)': 1, 'cada': 1, 'instante': 1, 'amor.': 1})\n"
     ]
    }
   ],
   "source": [
    "contador = Counter(texto.lower().split())\n",
    "print(contador)"
   ]
  },
  {
   "cell_type": "code",
   "execution_count": 26,
   "metadata": {},
   "outputs": [
    {
     "name": "stdout",
     "output_type": "stream",
     "text": [
      "dict_keys(['eu', 'te', 'amo', 'porque', 'amo,', 'não', 'precisas', 'ser', 'amante,', 'e', 'nem', 'sempre', 'sabes', 'sê-lo.', 'amo.', 'amor', 'é', 'estado', 'de', 'graça', 'com', 'se', 'paga.', 'dado', 'graça,', 'semeado', 'no', 'vento,', 'na', 'cachoeira,', 'eclipse.', 'foge', 'a', 'dicionários', 'regulamentos', 'vários.', 'bastante', 'ou', 'demais', 'mim.', 'troca,', 'conjuga', 'ama.', 'nada,', 'feliz', 'forte', 'em', 'si', 'mesmo.', 'primo', 'da', 'morte,', 'morte', 'vencedor,', 'por', 'mais', 'que', 'o', 'matem', '(e', 'matam)', 'cada', 'instante', 'amor.'])\n"
     ]
    }
   ],
   "source": [
    "print(contador.keys())"
   ]
  },
  {
   "cell_type": "code",
   "execution_count": 27,
   "metadata": {},
   "outputs": [
    {
     "name": "stdout",
     "output_type": "stream",
     "text": [
      "dict_values([3, 5, 4, 5, 1, 5, 1, 1, 1, 5, 2, 1, 1, 1, 1, 8, 5, 1, 3, 1, 1, 4, 1, 1, 1, 1, 2, 1, 1, 1, 1, 1, 5, 1, 1, 1, 1, 1, 1, 1, 1, 1, 1, 1, 1, 1, 1, 1, 1, 1, 2, 1, 1, 1, 1, 1, 1, 1, 1, 1, 1, 1, 1, 1])\n"
     ]
    }
   ],
   "source": [
    "print(contador.values())"
   ]
  },
  {
   "cell_type": "code",
   "execution_count": 28,
   "metadata": {},
   "outputs": [
    {
     "name": "stdout",
     "output_type": "stream",
     "text": [
      "dict_items([('eu', 3), ('te', 5), ('amo', 4), ('porque', 5), ('amo,', 1), ('não', 5), ('precisas', 1), ('ser', 1), ('amante,', 1), ('e', 5), ('nem', 2), ('sempre', 1), ('sabes', 1), ('sê-lo.', 1), ('amo.', 1), ('amor', 8), ('é', 5), ('estado', 1), ('de', 3), ('graça', 1), ('com', 1), ('se', 4), ('paga.', 1), ('dado', 1), ('graça,', 1), ('semeado', 1), ('no', 2), ('vento,', 1), ('na', 1), ('cachoeira,', 1), ('eclipse.', 1), ('foge', 1), ('a', 5), ('dicionários', 1), ('regulamentos', 1), ('vários.', 1), ('bastante', 1), ('ou', 1), ('demais', 1), ('mim.', 1), ('troca,', 1), ('conjuga', 1), ('ama.', 1), ('nada,', 1), ('feliz', 1), ('forte', 1), ('em', 1), ('si', 1), ('mesmo.', 1), ('primo', 1), ('da', 2), ('morte,', 1), ('morte', 1), ('vencedor,', 1), ('por', 1), ('mais', 1), ('que', 1), ('o', 1), ('matem', 1), ('(e', 1), ('matam)', 1), ('cada', 1), ('instante', 1), ('amor.', 1)])\n"
     ]
    }
   ],
   "source": [
    "print(contador.items())"
   ]
  },
  {
   "cell_type": "code",
   "execution_count": 30,
   "metadata": {},
   "outputs": [
    {
     "name": "stdout",
     "output_type": "stream",
     "text": [
      "[('amor', 8), ('te', 5), ('porque', 5)]\n"
     ]
    }
   ],
   "source": [
    "print(contador.most_common(3))"
   ]
  },
  {
   "cell_type": "markdown",
   "metadata": {},
   "source": [
    "<h5 style=\"color: #2bb3cc\">Collections - Default Dict</h5>\n",
    "\n",
    "O `defaultdict` se parece como um dicionário, exceto pelo fato de que quando você acessar uma chave que não existe, uma nova entrada no dicionário pode ser gerada automaticamente."
   ]
  },
  {
   "cell_type": "code",
   "execution_count": 11,
   "metadata": {},
   "outputs": [],
   "source": [
    "from collections import defaultdict\n",
    "\n",
    "dados = defaultdict(int)\n",
    "dados_list = defaultdict(list)"
   ]
  },
  {
   "cell_type": "code",
   "execution_count": 2,
   "metadata": {},
   "outputs": [],
   "source": [
    "texto = 'Vinicius Vinicius Vinicius Rocha Lima Lima'"
   ]
  },
  {
   "cell_type": "code",
   "execution_count": 3,
   "metadata": {},
   "outputs": [
    {
     "data": {
      "text/plain": [
       "['vinicius', 'vinicius', 'vinicius', 'rocha', 'lima', 'lima']"
      ]
     },
     "execution_count": 3,
     "metadata": {},
     "output_type": "execute_result"
    }
   ],
   "source": [
    "texto.lower().split()"
   ]
  },
  {
   "cell_type": "code",
   "execution_count": 13,
   "metadata": {},
   "outputs": [],
   "source": [
    "for i in texto.lower().split():\n",
    "    dados[i] += 1\n",
    "    dados_list[i].append(i)"
   ]
  },
  {
   "cell_type": "code",
   "execution_count": 14,
   "metadata": {},
   "outputs": [
    {
     "name": "stdout",
     "output_type": "stream",
     "text": [
      "defaultdict(<class 'int'>, {'vinicius': 3, 'rocha': 1, 'lima': 2})\n",
      "defaultdict(<class 'list'>, {'vinicius': ['vinicius', 'vinicius', 'vinicius'], 'rocha': ['rocha'], 'lima': ['lima', 'lima']})\n"
     ]
    }
   ],
   "source": [
    "print(dados)\n",
    "print(dados_list)"
   ]
  },
  {
   "cell_type": "markdown",
   "metadata": {},
   "source": [
    "<h5 style=\"color: #2bb3cc\">Collections - Ordered Dict</h5>\n",
    "\n",
    "O `OrderedDict` também é muito parecido com os dicionários, exceto pelo fato deles levarem em consideração a posição na qual as entradas foram adicionadas."
   ]
  },
  {
   "cell_type": "code",
   "execution_count": 147,
   "metadata": {},
   "outputs": [
    {
     "data": {
      "text/plain": [
       "True"
      ]
     },
     "execution_count": 147,
     "metadata": {},
     "output_type": "execute_result"
    }
   ],
   "source": [
    "from collections import OrderedDict\n",
    "\n",
    "dict_a = {'a': 1, 'b': 2}\n",
    "dict_b = {'b': 2, 'a': 1}\n",
    "\n",
    "dict_a == dict_b"
   ]
  },
  {
   "cell_type": "code",
   "execution_count": 148,
   "metadata": {},
   "outputs": [
    {
     "data": {
      "text/plain": [
       "False"
      ]
     },
     "execution_count": 148,
     "metadata": {},
     "output_type": "execute_result"
    }
   ],
   "source": [
    "odict_a = OrderedDict({'a': 1, 'b': 2})\n",
    "odict_b = OrderedDict({'b': 2, 'a': 1})\n",
    "\n",
    "odict_a == odict_b"
   ]
  },
  {
   "cell_type": "code",
   "execution_count": 149,
   "metadata": {},
   "outputs": [
    {
     "data": {
      "text/plain": [
       "True"
      ]
     },
     "execution_count": 149,
     "metadata": {},
     "output_type": "execute_result"
    }
   ],
   "source": [
    "odict_a = OrderedDict({'a': 1, 'b': 2})\n",
    "odict_b = OrderedDict({'a': 1, 'b': 2})\n",
    "\n",
    "odict_a == odict_b"
   ]
  },
  {
   "cell_type": "markdown",
   "metadata": {},
   "source": [
    "<h5 style=\"color: #2bb3cc\">Collections - Named Tuple</h5>\n",
    "\n",
    "O `Named Tuple` é um tipo de coleção que nos permite criar tuplas nas quais seus elementos podem ter um nome. "
   ]
  },
  {
   "cell_type": "code",
   "execution_count": 15,
   "metadata": {},
   "outputs": [],
   "source": [
    "from collections import namedtuple\n",
    "\n",
    "Pessoa = namedtuple('Pessoa', ['nome', 'idade', 'peso'])"
   ]
  },
  {
   "cell_type": "code",
   "execution_count": 16,
   "metadata": {},
   "outputs": [],
   "source": [
    "maria = Pessoa('Maria José', 27, 65)\n",
    "jose = Pessoa('José Maria', 35, 85)\n",
    "carlos = Pessoa('cadu',9,70)"
   ]
  },
  {
   "cell_type": "code",
   "execution_count": 17,
   "metadata": {},
   "outputs": [
    {
     "name": "stdout",
     "output_type": "stream",
     "text": [
      "Pessoa(nome='Maria José', idade=27, peso=65)\n",
      "Pessoa(nome='José Maria', idade=35, peso=85)\n",
      "Pessoa(nome='cadu', idade=9, peso=70)\n",
      "35\n",
      "65\n",
      "cadu\n"
     ]
    }
   ],
   "source": [
    "print(maria)\n",
    "print(jose)\n",
    "print(carlos)\n",
    "\n",
    "print(jose.idade)\n",
    "print(maria.peso)\n",
    "print(carlos.nome)"
   ]
  },
  {
   "cell_type": "code",
   "execution_count": 157,
   "metadata": {},
   "outputs": [
    {
     "name": "stdout",
     "output_type": "stream",
     "text": [
      "Nome: José Maria, idade: 35 e peso: 85\n",
      "Nome: Maria José, idade: 27 e peso: 65\n"
     ]
    }
   ],
   "source": [
    "for pessoa in [jose, maria]:\n",
    "    print(f'Nome: {pessoa.nome}, idade: {pessoa.idade} e peso: {pessoa.peso}')"
   ]
  },
  {
   "cell_type": "markdown",
   "metadata": {},
   "source": [
    "<h5 style=\"color: #2bb3cc\">Collections - Deque</h5>\n",
    "\n",
    "`Deque` significa `Doubly Ended Queue` e pode substituir as `listas` em situações nas quais necessitamos realizar muitas operações de inserção (`append()`) e deleção (`pop()`) dos dois lados do container.O `Deque` foi introduzido ao módulo `Collections`na versão 2.4 da linguagem."
   ]
  },
  {
   "cell_type": "code",
   "execution_count": 158,
   "metadata": {},
   "outputs": [],
   "source": [
    "from collections import deque\n",
    "\n",
    "lista = [1, 2, 3, 4, 5]\n",
    "lista_deque = deque([1, 2, 3, 4, 5])"
   ]
  },
  {
   "cell_type": "code",
   "execution_count": 159,
   "metadata": {},
   "outputs": [
    {
     "data": {
      "text/plain": [
       "1"
      ]
     },
     "execution_count": 159,
     "metadata": {},
     "output_type": "execute_result"
    }
   ],
   "source": [
    "lista_deque.popleft()"
   ]
  },
  {
   "cell_type": "code",
   "execution_count": 160,
   "metadata": {},
   "outputs": [
    {
     "data": {
      "text/plain": [
       "deque([2, 3, 4, 5])"
      ]
     },
     "execution_count": 160,
     "metadata": {},
     "output_type": "execute_result"
    }
   ],
   "source": [
    "lista_deque"
   ]
  },
  {
   "cell_type": "code",
   "execution_count": 161,
   "metadata": {},
   "outputs": [],
   "source": [
    "lista.extend([10, 11])"
   ]
  },
  {
   "cell_type": "code",
   "execution_count": 162,
   "metadata": {},
   "outputs": [
    {
     "data": {
      "text/plain": [
       "[1, 2, 3, 4, 5, 10, 11]"
      ]
     },
     "execution_count": 162,
     "metadata": {},
     "output_type": "execute_result"
    }
   ],
   "source": [
    "lista"
   ]
  },
  {
   "cell_type": "code",
   "execution_count": 163,
   "metadata": {},
   "outputs": [],
   "source": [
    "lista_deque.extendleft([10 ,11])"
   ]
  },
  {
   "cell_type": "code",
   "execution_count": 164,
   "metadata": {},
   "outputs": [
    {
     "data": {
      "text/plain": [
       "deque([11, 10, 2, 3, 4, 5])"
      ]
     },
     "execution_count": 164,
     "metadata": {},
     "output_type": "execute_result"
    }
   ],
   "source": [
    "lista_deque"
   ]
  }
 ],
 "metadata": {
  "kernelspec": {
   "display_name": "Python 3.11.1 64-bit",
   "language": "python",
   "name": "python3"
  },
  "language_info": {
   "codemirror_mode": {
    "name": "ipython",
    "version": 3
   },
   "file_extension": ".py",
   "mimetype": "text/x-python",
   "name": "python",
   "nbconvert_exporter": "python",
   "pygments_lexer": "ipython3",
   "version": "3.11.1"
  },
  "orig_nbformat": 4,
  "vscode": {
   "interpreter": {
    "hash": "95b2d1448bacf9f989af12da1c4c6e35fea5360a0c5347ef00d932450680c179"
   }
  }
 },
 "nbformat": 4,
 "nbformat_minor": 2
}
