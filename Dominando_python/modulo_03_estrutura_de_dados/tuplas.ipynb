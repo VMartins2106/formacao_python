{
 "cells": [
  {
   "cell_type": "markdown",
   "metadata": {},
   "source": [
    "<h4 style=\"color: #2bb3cc\">Copiando Tuplas</h4>\n",
    "Como o Python trabalha com tuplas em memória\n"
   ]
  },
  {
   "cell_type": "code",
   "execution_count": 1,
   "metadata": {},
   "outputs": [
    {
     "name": "stdout",
     "output_type": "stream",
     "text": [
      "Empowerdata\n",
      "(1, 2, 3, 4)\n"
     ]
    }
   ],
   "source": [
    "tupla_a = (1, 2, 3, 4)\n",
    "tupla_b = tupla_a\n",
    "\n",
    "tupla_a = 'Empowerdata'\n",
    "\n",
    "print(tupla_a)\n",
    "print(tupla_b)"
   ]
  },
  {
   "cell_type": "markdown",
   "metadata": {},
   "source": [
    "<h4 style=\"color: #2bb3cc\">Função tuple()</h4>"
   ]
  },
  {
   "cell_type": "code",
   "execution_count": 3,
   "metadata": {},
   "outputs": [
    {
     "data": {
      "text/plain": [
       "('V', 'i', 'n', 'i', 'c', 'i', 'u', 's')"
      ]
     },
     "execution_count": 3,
     "metadata": {},
     "output_type": "execute_result"
    }
   ],
   "source": [
    "tuple('Vinicius')"
   ]
  },
  {
   "cell_type": "code",
   "execution_count": 4,
   "metadata": {},
   "outputs": [
    {
     "data": {
      "text/plain": [
       "()"
      ]
     },
     "execution_count": 4,
     "metadata": {},
     "output_type": "execute_result"
    }
   ],
   "source": [
    "tuple()"
   ]
  },
  {
   "cell_type": "code",
   "execution_count": 5,
   "metadata": {},
   "outputs": [
    {
     "name": "stdout",
     "output_type": "stream",
     "text": [
      "(1, 2, 3, 'python')\n"
     ]
    }
   ],
   "source": [
    "lista = [1, 2, 3, 'python']\n",
    "tupla_lista = tuple(lista)\n",
    "\n",
    "print(tupla_lista)"
   ]
  },
  {
   "cell_type": "markdown",
   "metadata": {},
   "source": [
    "<h4 style=\"color: #2bb3cc\">Métodos importantes</h4>\n",
    "index(), count()"
   ]
  },
  {
   "cell_type": "code",
   "execution_count": 7,
   "metadata": {},
   "outputs": [
    {
     "data": {
      "text/plain": [
       "3"
      ]
     },
     "execution_count": 7,
     "metadata": {},
     "output_type": "execute_result"
    }
   ],
   "source": [
    "tupla = ('python', 'c', 'java', 'php', 'visual basic', 'go lang', 'delphi')\n",
    "tupla.index('php')"
   ]
  },
  {
   "cell_type": "code",
   "execution_count": 9,
   "metadata": {},
   "outputs": [
    {
     "data": {
      "text/plain": [
       "5"
      ]
     },
     "execution_count": 9,
     "metadata": {},
     "output_type": "execute_result"
    }
   ],
   "source": [
    "numeros = (1, 1, 1, 1, 1, 1, 2, 3, 4, 5, 6, 6, 6, 6, 6, 7, 8, 8, 9)\n",
    "numeros.count(6)"
   ]
  },
  {
   "cell_type": "markdown",
   "metadata": {},
   "source": [
    "<h5>Aplicando funções internas em tuplas</h5>\n",
    "len(), min(), max(), sum()"
   ]
  },
  {
   "cell_type": "code",
   "execution_count": 10,
   "metadata": {},
   "outputs": [
    {
     "data": {
      "text/plain": [
       "19"
      ]
     },
     "execution_count": 10,
     "metadata": {},
     "output_type": "execute_result"
    }
   ],
   "source": [
    "# len --> retorna o tamanho da tupla\n",
    "numeros = (1, 1, 1, 1, 1, 1, 2, 3, 4, 5, 6, 6, 6, 6, 6, 7, 8, 8, 9)\n",
    "len(numeros)"
   ]
  },
  {
   "cell_type": "code",
   "execution_count": 12,
   "metadata": {},
   "outputs": [
    {
     "data": {
      "text/plain": [
       "-5"
      ]
     },
     "execution_count": 12,
     "metadata": {},
     "output_type": "execute_result"
    }
   ],
   "source": [
    "# min()\n",
    "numeros = (1, 1, 1, 1, 1, 1, 2, 3, -5,  4, 5, 6, 6, 6, 6, 6, 7, 8, 8, 9)\n",
    "min(numeros)"
   ]
  },
  {
   "cell_type": "code",
   "execution_count": 14,
   "metadata": {},
   "outputs": [
    {
     "data": {
      "text/plain": [
       "1003"
      ]
     },
     "execution_count": 14,
     "metadata": {},
     "output_type": "execute_result"
    }
   ],
   "source": [
    "# max()\n",
    "numeros = (1, 1, 1, 1, 1, 1, 2, 3, -5,  4, 5, 6, 6, 1003, 6, 6, 6, 7, 8, 8, 9)\n",
    "max(numeros)"
   ]
  },
  {
   "cell_type": "markdown",
   "metadata": {},
   "source": [
    "<h4 style=\"color: #2bb3cc\">Tuplas com único elemento</h4>"
   ]
  },
  {
   "cell_type": "code",
   "execution_count": 17,
   "metadata": {},
   "outputs": [
    {
     "data": {
      "text/plain": [
       "tuple"
      ]
     },
     "execution_count": 17,
     "metadata": {},
     "output_type": "execute_result"
    }
   ],
   "source": [
    "tupla = 1, 2, 3, 'python'\n",
    "type(tupla)"
   ]
  },
  {
   "cell_type": "code",
   "execution_count": 21,
   "metadata": {},
   "outputs": [
    {
     "data": {
      "text/plain": [
       "tuple"
      ]
     },
     "execution_count": 21,
     "metadata": {},
     "output_type": "execute_result"
    }
   ],
   "source": [
    "tupla = ('Vinicius',)\n",
    "type(tupla)"
   ]
  },
  {
   "cell_type": "code",
   "execution_count": 22,
   "metadata": {},
   "outputs": [
    {
     "data": {
      "text/plain": [
       "tuple"
      ]
     },
     "execution_count": 22,
     "metadata": {},
     "output_type": "execute_result"
    }
   ],
   "source": [
    "tupla = 'Vinicius',\n",
    "type(tupla)"
   ]
  },
  {
   "cell_type": "code",
   "execution_count": 24,
   "metadata": {},
   "outputs": [
    {
     "name": "stdout",
     "output_type": "stream",
     "text": [
      "(1, 2, 3)\n",
      "1\n",
      "2\n",
      "3\n"
     ]
    }
   ],
   "source": [
    "# cuidado !!!!!\n",
    "\n",
    "tupla = 1, 2, 3  # criando uma tupla\n",
    "print(tupla)\n",
    "\n",
    "numero_1, numero_2, numero_3 = 1, 2, 3  # múltipla atribuição\n",
    "print(numero_1)\n",
    "print(numero_2)\n",
    "print(numero_3)"
   ]
  },
  {
   "cell_type": "markdown",
   "metadata": {},
   "source": [
    "<h4 style=\"color: #2bb3cc\">Slicing</h4>"
   ]
  },
  {
   "cell_type": "code",
   "execution_count": 25,
   "metadata": {},
   "outputs": [],
   "source": [
    "tupla = ('python', 'c', 'java', 'php', 'visual basic', 'go lang', 'delphi')"
   ]
  },
  {
   "cell_type": "code",
   "execution_count": 34,
   "metadata": {},
   "outputs": [
    {
     "data": {
      "text/plain": [
       "('delphi', 'visual basic', 'java', 'python')"
      ]
     },
     "execution_count": 34,
     "metadata": {},
     "output_type": "execute_result"
    }
   ],
   "source": [
    "tupla[::-2]"
   ]
  },
  {
   "cell_type": "code",
   "execution_count": 33,
   "metadata": {},
   "outputs": [
    {
     "data": {
      "text/plain": [
       "('python', 'c', 'java', 'php', 'visual basic', 'go lang', 'delphi')"
      ]
     },
     "execution_count": 33,
     "metadata": {},
     "output_type": "execute_result"
    }
   ],
   "source": [
    "tupla"
   ]
  },
  {
   "cell_type": "markdown",
   "metadata": {},
   "source": [
    "<h4 style=\"color: #2bb3cc\">Desempacotamento de tuplas</h4>"
   ]
  },
  {
   "cell_type": "code",
   "execution_count": 35,
   "metadata": {},
   "outputs": [],
   "source": [
    "tupla =  ('python', 'java', 'javascript')"
   ]
  },
  {
   "cell_type": "code",
   "execution_count": 36,
   "metadata": {},
   "outputs": [],
   "source": [
    "ling_01, ling_02, ling_03 = tupla"
   ]
  },
  {
   "cell_type": "code",
   "execution_count": 37,
   "metadata": {},
   "outputs": [
    {
     "name": "stdout",
     "output_type": "stream",
     "text": [
      "python\n",
      "java\n",
      "javascript\n"
     ]
    }
   ],
   "source": [
    "print(ling_01)\n",
    "print(ling_02)\n",
    "print(ling_03)"
   ]
  },
  {
   "cell_type": "code",
   "execution_count": 38,
   "metadata": {},
   "outputs": [
    {
     "ename": "ValueError",
     "evalue": "too many values to unpack (expected 3)",
     "output_type": "error",
     "traceback": [
      "\u001b[1;31m---------------------------------------------------------------------------\u001b[0m",
      "\u001b[1;31mValueError\u001b[0m                                Traceback (most recent call last)",
      "\u001b[1;32m~\\AppData\\Local\\Temp/ipykernel_19080/1583699718.py\u001b[0m in \u001b[0;36m<module>\u001b[1;34m\u001b[0m\n\u001b[0;32m      1\u001b[0m \u001b[0mtupla\u001b[0m \u001b[1;33m=\u001b[0m  \u001b[1;33m(\u001b[0m\u001b[1;34m'python'\u001b[0m\u001b[1;33m,\u001b[0m \u001b[1;34m'java'\u001b[0m\u001b[1;33m,\u001b[0m \u001b[1;34m'javascript'\u001b[0m\u001b[1;33m,\u001b[0m \u001b[1;34m'php'\u001b[0m\u001b[1;33m,\u001b[0m \u001b[1;34m'c'\u001b[0m\u001b[1;33m,\u001b[0m \u001b[1;34m'delphi'\u001b[0m\u001b[1;33m)\u001b[0m\u001b[1;33m\u001b[0m\u001b[1;33m\u001b[0m\u001b[0m\n\u001b[1;32m----> 2\u001b[1;33m \u001b[0mling_01\u001b[0m\u001b[1;33m,\u001b[0m \u001b[0mling_02\u001b[0m\u001b[1;33m,\u001b[0m \u001b[0mling_03\u001b[0m \u001b[1;33m=\u001b[0m \u001b[0mtupla\u001b[0m\u001b[1;33m\u001b[0m\u001b[1;33m\u001b[0m\u001b[0m\n\u001b[0m",
      "\u001b[1;31mValueError\u001b[0m: too many values to unpack (expected 3)"
     ]
    }
   ],
   "source": [
    "tupla =  ('python', 'java', 'javascript', 'php', 'c', 'delphi')\n",
    "ling_01, ling_02, ling_03 = tupla"
   ]
  },
  {
   "cell_type": "code",
   "execution_count": 39,
   "metadata": {},
   "outputs": [],
   "source": [
    "tupla =  ('python', 'java', 'javascript', 'php', 'c', 'delphi')\n",
    "ling_01, ling_02, ling_03, ling_04, ling_05, ling_06 = tupla\n"
   ]
  },
  {
   "cell_type": "code",
   "execution_count": 40,
   "metadata": {},
   "outputs": [
    {
     "name": "stdout",
     "output_type": "stream",
     "text": [
      "1 2 3\n"
     ]
    }
   ],
   "source": [
    "# é possível fazer desempacotamento de listas\n",
    "lista = [1, 2, 3]\n",
    "a, b, c = lista\n",
    "print(a, b, c)"
   ]
  },
  {
   "cell_type": "markdown",
   "metadata": {},
   "source": [
    "<h4 style=\"color: #2bb3cc\">Trabalhando com tuplas</h4>\n",
    "\n",
    "Crie uma função que recebe dois números e retorne o resultado das seguintes operações:\n",
    "\n",
    "- soma\n",
    "- multiplicação\n",
    "- subtração `(se os números forem diferentes, fazer o maior menos o menor)`\n",
    "- divisão `(se os números forem diferentes, fazer o maior dividido pelo menor)`"
   ]
  },
  {
   "cell_type": "code",
   "execution_count": 3,
   "metadata": {},
   "outputs": [
    {
     "name": "stdout",
     "output_type": "stream",
     "text": [
      "A soma é: 25\n",
      "A multiplicação é: 150\n",
      "A subtração é: 5\n",
      "A divisão é: 1.5\n"
     ]
    }
   ],
   "source": [
    "def conta(num1,numn2):\n",
    "    soma = num1+num2\n",
    "    vezes = num1 * num2\n",
    "\n",
    "    if num1>num2:\n",
    "        menos = num1-num2\n",
    "    elif num2>num1:\n",
    "        menos = num2-num1\n",
    "\n",
    "    if num1>num2:\n",
    "        divisao = num1/num2\n",
    "    elif num2>num1:\n",
    "        divisao = num2/num1\n",
    "\n",
    "    return soma,vezes,menos,divisao\n",
    "\n",
    "num1 = int(input(\"Informe o primeiro valor: \"))\n",
    "num2 = int(input(\"Informe o segundo valor: \"))\n",
    "\n",
    "soma,vezes,menos,divisao = conta(num1,num2)\n",
    "\n",
    "print(f\"A soma é: {soma}\")\n",
    "print(f\"A multiplicação é: {vezes}\")\n",
    "print(f\"A subtração é: {menos}\")\n",
    "print(f\"A divisão é: {divisao}\")"
   ]
  },
  {
   "cell_type": "code",
   "execution_count": 60,
   "metadata": {},
   "outputs": [
    {
     "name": "stdout",
     "output_type": "stream",
     "text": [
      "193\n",
      "5280\n",
      "127\n",
      "4.848484848484849\n"
     ]
    }
   ],
   "source": [
    "soma, multiplicacao, subtracao, divisao = operacoes(160, 33)\n",
    "print(soma)\n",
    "print(multiplicacao)\n",
    "print(subtracao)\n",
    "print(divisao)"
   ]
  },
  {
   "cell_type": "code",
   "execution_count": null,
   "metadata": {},
   "outputs": [],
   "source": []
  }
 ],
 "metadata": {
  "kernelspec": {
   "display_name": "Python 3.11.1 64-bit",
   "language": "python",
   "name": "python3"
  },
  "language_info": {
   "codemirror_mode": {
    "name": "ipython",
    "version": 3
   },
   "file_extension": ".py",
   "mimetype": "text/x-python",
   "name": "python",
   "nbconvert_exporter": "python",
   "pygments_lexer": "ipython3",
   "version": "3.11.1"
  },
  "orig_nbformat": 4,
  "vscode": {
   "interpreter": {
    "hash": "95b2d1448bacf9f989af12da1c4c6e35fea5360a0c5347ef00d932450680c179"
   }
  }
 },
 "nbformat": 4,
 "nbformat_minor": 2
}
