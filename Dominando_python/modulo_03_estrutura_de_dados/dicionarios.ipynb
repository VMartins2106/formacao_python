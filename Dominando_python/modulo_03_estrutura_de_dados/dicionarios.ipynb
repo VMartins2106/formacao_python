{
 "cells": [
  {
   "cell_type": "markdown",
   "metadata": {},
   "source": [
    "<h4 style=\"color: #2bb3cc\">Copiando dicionários</h4>\n",
    "Como o Python trabalha com dicionários em memória"
   ]
  },
  {
   "cell_type": "code",
   "execution_count": 1,
   "metadata": {},
   "outputs": [
    {
     "name": "stdout",
     "output_type": "stream",
     "text": [
      "{'nome': 'Empowerdata', 'linguagem': 'Python', 'status': True}\n",
      "{'nome': 'Empowerdata', 'linguagem': 'Python'}\n"
     ]
    }
   ],
   "source": [
    "dict_a = {\n",
    "    'nome': 'Empowerdata',\n",
    "    'linguagem': 'Python'\n",
    "}\n",
    "\n",
    "dict_b = dict_a.copy()\n",
    "\n",
    "dict_a.update({'status': True})\n",
    "\n",
    "print(dict_a)\n",
    "print(dict_b)"
   ]
  },
  {
   "cell_type": "markdown",
   "metadata": {},
   "source": [
    "<h4 style=\"color: #2bb3cc\">Função dict()</h4>"
   ]
  },
  {
   "cell_type": "code",
   "execution_count": 3,
   "metadata": {},
   "outputs": [
    {
     "name": "stdout",
     "output_type": "stream",
     "text": [
      "<class 'dict'>\n",
      "{'nome': 'Empowerdata', 'linguagem': 'Python', 'status': True}\n"
     ]
    }
   ],
   "source": [
    "dados = dict(nome = 'Empowerdata', linguagem = 'Python', status = True)\n",
    "print(type(dados))\n",
    "print(dados)"
   ]
  },
  {
   "cell_type": "code",
   "execution_count": 5,
   "metadata": {},
   "outputs": [
    {
     "data": {
      "text/plain": [
       "{'nome': 'Empowerdata', 'linguagem': 'Python', 'status': True}"
      ]
     },
     "execution_count": 5,
     "metadata": {},
     "output_type": "execute_result"
    }
   ],
   "source": [
    "lista = [ ('nome', 'Empowerdata'), ['linguagem', 'Python'], ('status', True) ]\n",
    "dict(lista)"
   ]
  },
  {
   "cell_type": "code",
   "execution_count": 7,
   "metadata": {},
   "outputs": [],
   "source": [
    "#criando dicionário vazio\n",
    "dados = dict()\n",
    "dados = {}\n"
   ]
  },
  {
   "cell_type": "markdown",
   "metadata": {},
   "source": [
    "<h4 style=\"color: #2bb3cc\">Função fromkeys()</h4>"
   ]
  },
  {
   "cell_type": "code",
   "execution_count": 10,
   "metadata": {},
   "outputs": [
    {
     "name": "stdout",
     "output_type": "stream",
     "text": [
      "{'nome': ['Empowerdata', 'Python', True], 'linguagem': ['Empowerdata', 'Python', True], 'status': ['Empowerdata', 'Python', True]}\n"
     ]
    }
   ],
   "source": [
    "# atenção com essa função!\n",
    "\n",
    "dados = {}.fromkeys(['nome', 'linguagem', 'status'], ['Empowerdata', 'Python', True])\n",
    "print(dados)"
   ]
  },
  {
   "cell_type": "markdown",
   "metadata": {},
   "source": [
    "<h4 style=\"color: #2bb3cc\">Métodos importantes</h4>\n",
    "get(), update()\n"
   ]
  },
  {
   "cell_type": "code",
   "execution_count": 11,
   "metadata": {},
   "outputs": [],
   "source": [
    "# get\n",
    "dados = {'nome': 'Empowerdata', 'linguagem': 'Python', 'status': True}"
   ]
  },
  {
   "cell_type": "code",
   "execution_count": 16,
   "metadata": {},
   "outputs": [
    {
     "data": {
      "text/plain": [
       "'Empowerdata'"
      ]
     },
     "execution_count": 16,
     "metadata": {},
     "output_type": "execute_result"
    }
   ],
   "source": [
    "dados.get('nome')"
   ]
  },
  {
   "cell_type": "code",
   "execution_count": 17,
   "metadata": {},
   "outputs": [],
   "source": [
    "dados.get('none')"
   ]
  },
  {
   "cell_type": "code",
   "execution_count": 22,
   "metadata": {},
   "outputs": [
    {
     "name": "stdout",
     "output_type": "stream",
     "text": [
      "Nome: Empowerdata\n"
     ]
    }
   ],
   "source": [
    "# exemplo\n",
    "if dados.get('nome'):\n",
    "    print(f\"Nome: {dados['nome']}\")"
   ]
  },
  {
   "cell_type": "code",
   "execution_count": 24,
   "metadata": {},
   "outputs": [
    {
     "data": {
      "text/plain": [
       "{'nome': 'Empowerdata',\n",
       " 'linguagem': 'Python',\n",
       " 'status': False,\n",
       " 'login': 'Empowerpython'}"
      ]
     },
     "execution_count": 24,
     "metadata": {},
     "output_type": "execute_result"
    }
   ],
   "source": [
    "# update\n",
    "dados = {'nome': 'Empowerdata', 'linguagem': 'Python', 'status': True}\n",
    "dados2 = {'login': 'Empowerpython', 'status': False}\n",
    "\n",
    "dados.update(dados2)\n",
    "dados\n"
   ]
  },
  {
   "cell_type": "markdown",
   "metadata": {},
   "source": [
    "<h4 style=\"color: #2bb3cc\">Iterando em dicionários</h4>"
   ]
  },
  {
   "cell_type": "code",
   "execution_count": 29,
   "metadata": {},
   "outputs": [
    {
     "name": "stdout",
     "output_type": "stream",
     "text": [
      "nome Empowerdata\n",
      "linguagem Python\n",
      "status True\n"
     ]
    }
   ],
   "source": [
    "# chaves --> keys()\n",
    "dados = {'nome': 'Empowerdata', 'linguagem': 'Python', 'status': True}\n",
    "\n",
    "for chave in dados.keys():\n",
    "    print(chave, dados[chave])\n"
   ]
  },
  {
   "cell_type": "code",
   "execution_count": 31,
   "metadata": {},
   "outputs": [
    {
     "name": "stdout",
     "output_type": "stream",
     "text": [
      "Empowerdata\n",
      "Python\n",
      "True\n"
     ]
    }
   ],
   "source": [
    "# valores --> valores()\n",
    "dados = {'nome': 'Empowerdata', 'linguagem': 'Python', 'status': True}\n",
    "\n",
    "for valor in dados.values():\n",
    "    print(valor)\n"
   ]
  },
  {
   "cell_type": "code",
   "execution_count": 34,
   "metadata": {},
   "outputs": [
    {
     "name": "stdout",
     "output_type": "stream",
     "text": [
      "dict_items([('nome', 'Empowerdata'), ('linguagem', 'Python'), ('status', True)])\n",
      "nome Empowerdata\n",
      "linguagem Python\n",
      "status True\n"
     ]
    }
   ],
   "source": [
    "# items --> ()\n",
    "dados = {'nome': 'Empowerdata', 'linguagem': 'Python', 'status': True}\n",
    "\n",
    "print(dados.items())\n",
    "\n",
    "for chave, valor in dados.items():\n",
    "    print(chave, valor)"
   ]
  },
  {
   "cell_type": "markdown",
   "metadata": {},
   "source": [
    "<h4 style=\"color: #2bb3cc\">Trabalhando com dicionários</h4>\n",
    "\n",
    "Dado o dicionário abaixo, crie uma função que receba a sigla de um país e imprima o nome, a sigla e sua capital.\n",
    "\n"
   ]
  },
  {
   "cell_type": "code",
   "execution_count": 40,
   "metadata": {},
   "outputs": [],
   "source": [
    "paises = {\n",
    "    'sigla': ['BRA', 'EUA', 'JPN', 'CHN'],\n",
    "    'nome': ['Brasil', 'Estados Unidos', 'Japão', 'China'],\n",
    "    'capital': ['Brasilia', 'Washington', 'Tokyo', 'Pequim']\n",
    "}"
   ]
  },
  {
   "cell_type": "code",
   "execution_count": 61,
   "metadata": {},
   "outputs": [],
   "source": [
    "def info_paises(sigla):\n",
    "    \n",
    "    if sigla in paises['sigla']:\n",
    "        indice = paises['sigla'].index(sigla)\n",
    "        nome = paises['nome'][indice]\n",
    "        capital = paises['capital'][indice]\n",
    "        \n",
    "        print(f'A sigla do {nome} é {sigla} e sua capital é {capital}!')\n",
    "    else:\n",
    "        print(f'Nenhuma informação encontrada sobre a sigla {sigla}')\n",
    "    \n",
    "    "
   ]
  },
  {
   "cell_type": "code",
   "execution_count": 63,
   "metadata": {},
   "outputs": [
    {
     "name": "stdout",
     "output_type": "stream",
     "text": [
      "A sigla do Brasil é BRA e sua capital é Brasilia!\n"
     ]
    }
   ],
   "source": [
    "info_paises('BRA')"
   ]
  }
 ],
 "metadata": {
  "kernelspec": {
   "display_name": "Python 3.11.1 64-bit",
   "language": "python",
   "name": "python3"
  },
  "language_info": {
   "codemirror_mode": {
    "name": "ipython",
    "version": 3
   },
   "file_extension": ".py",
   "mimetype": "text/x-python",
   "name": "python",
   "nbconvert_exporter": "python",
   "pygments_lexer": "ipython3",
   "version": "3.11.1"
  },
  "orig_nbformat": 4,
  "vscode": {
   "interpreter": {
    "hash": "95b2d1448bacf9f989af12da1c4c6e35fea5360a0c5347ef00d932450680c179"
   }
  }
 },
 "nbformat": 4,
 "nbformat_minor": 2
}
