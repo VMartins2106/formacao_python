{
 "cells": [
  {
   "cell_type": "markdown",
   "metadata": {},
   "source": [
    "<h4 style=\"color: #2bb3cc\">Módulo <code>datetime</code></h4>\n",
    "\n",
    "O Python possui um módulo nativo para trabalharmos com datas e horas: o `datetime`.\n",
    "\n",
    "Com ele podemos criar:\n",
    "\n",
    "- objetos de data\n",
    "- objetos de data e hora\n",
    "- realizar cálculos entre datas e horas\n",
    "- configurar timezone\n",
    "- entre outros..."
   ]
  },
  {
   "cell_type": "markdown",
   "metadata": {},
   "source": [
    "<h4 style=\"color: #2bb3cc\">Classe <code>date</code></h4>"
   ]
  },
  {
   "cell_type": "code",
   "execution_count": 3,
   "metadata": {},
   "outputs": [],
   "source": [
    "# precisamos importar o módulo datetime para trabalhar com datas e horas\n",
    "import datetime"
   ]
  },
  {
   "cell_type": "code",
   "execution_count": 6,
   "metadata": {},
   "outputs": [],
   "source": [
    "data = datetime.date(year=2022, month=1, day=1)"
   ]
  },
  {
   "cell_type": "code",
   "execution_count": 3,
   "metadata": {},
   "outputs": [],
   "source": [
    "data = datetime.date(2022, 12, 16)"
   ]
  },
  {
   "cell_type": "code",
   "execution_count": 4,
   "metadata": {},
   "outputs": [
    {
     "name": "stdout",
     "output_type": "stream",
     "text": [
      "2022-12-16\n"
     ]
    }
   ],
   "source": [
    "print(data)"
   ]
  },
  {
   "cell_type": "code",
   "execution_count": 5,
   "metadata": {},
   "outputs": [
    {
     "data": {
      "text/plain": [
       "datetime.date"
      ]
     },
     "execution_count": 5,
     "metadata": {},
     "output_type": "execute_result"
    }
   ],
   "source": [
    "type(data)"
   ]
  },
  {
   "cell_type": "code",
   "execution_count": 6,
   "metadata": {},
   "outputs": [
    {
     "name": "stdout",
     "output_type": "stream",
     "text": [
      "2022\n"
     ]
    }
   ],
   "source": [
    "# acessando apenas o ano\n",
    "print(data.year)"
   ]
  },
  {
   "cell_type": "code",
   "execution_count": 7,
   "metadata": {},
   "outputs": [
    {
     "name": "stdout",
     "output_type": "stream",
     "text": [
      "12\n"
     ]
    }
   ],
   "source": [
    "# acessando o mês\n",
    "print(data.month)"
   ]
  },
  {
   "cell_type": "code",
   "execution_count": 8,
   "metadata": {},
   "outputs": [
    {
     "name": "stdout",
     "output_type": "stream",
     "text": [
      "16\n"
     ]
    }
   ],
   "source": [
    "# acessando o dia\n",
    "print(data.day)"
   ]
  },
  {
   "cell_type": "code",
   "execution_count": 9,
   "metadata": {},
   "outputs": [],
   "source": [
    "# método today()\n",
    "dia_atual = datetime.date.today()"
   ]
  },
  {
   "cell_type": "code",
   "execution_count": 12,
   "metadata": {},
   "outputs": [
    {
     "name": "stdout",
     "output_type": "stream",
     "text": [
      "data atual: 2022-12-16\n"
     ]
    }
   ],
   "source": [
    "print(f'data atual: {dia_atual}')"
   ]
  },
  {
   "cell_type": "code",
   "execution_count": 13,
   "metadata": {},
   "outputs": [
    {
     "name": "stdout",
     "output_type": "stream",
     "text": [
      "Ano: 2022 - Mês: 12 - Dia: 16\n"
     ]
    }
   ],
   "source": [
    "print(f\"Ano: {data.year} - Mês: {data.month} - Dia: {data.day}\")"
   ]
  },
  {
   "cell_type": "markdown",
   "metadata": {},
   "source": [
    "<h4 style=\"color: #2bb3cc\">Classe <code>datetime</code></h4>"
   ]
  },
  {
   "cell_type": "code",
   "execution_count": 23,
   "metadata": {},
   "outputs": [
    {
     "data": {
      "text/plain": [
       "datetime.datetime(2022, 12, 16, 15, 16, 54, 408773)"
      ]
     },
     "execution_count": 23,
     "metadata": {},
     "output_type": "execute_result"
    }
   ],
   "source": [
    "# EXEMPLO PRONTO:\n",
    "#datetime.datetime(year=2022, month=6, day=29, hour=19, minute=30, second=15, microsecond=0)\n",
    "\n",
    "#EXEMPLO PARA PEGAR O ATUAL\n",
    "datetime.datetime.now()"
   ]
  },
  {
   "cell_type": "code",
   "execution_count": 28,
   "metadata": {},
   "outputs": [],
   "source": [
    "# EXEMPLO PRONTO:\n",
    "#data_hora = datetime.datetime(2022, 5, 1, 21, 45, 30)\n",
    "\n",
    "#EXEMPLO PARA PEGAR O ATUAL\n",
    "data_hora = datetime.datetime.now()"
   ]
  },
  {
   "cell_type": "code",
   "execution_count": 25,
   "metadata": {},
   "outputs": [
    {
     "name": "stdout",
     "output_type": "stream",
     "text": [
      "2022-12-16 15:17:10.512112\n"
     ]
    }
   ],
   "source": [
    "print(data_hora)"
   ]
  },
  {
   "cell_type": "code",
   "execution_count": 32,
   "metadata": {},
   "outputs": [
    {
     "name": "stdout",
     "output_type": "stream",
     "text": [
      "Ano: 2022 - Mês: 12 - Dia: 16\n",
      "Hora: 15 - Minuto: 17 - Segundo: 47\n"
     ]
    }
   ],
   "source": [
    "data_hora = datetime.datetime.now()\n",
    "print(f\"Ano: {data_hora.year} - Mês: {data_hora.month} - Dia: {data_hora.day}\")\n",
    "print(f\"Hora: {data_hora.hour} - Minuto: {data_hora.minute} - Segundo: {data_hora.second}\")"
   ]
  },
  {
   "cell_type": "markdown",
   "metadata": {},
   "source": [
    "<h4 style=\"color: #2bb3cc\">Extraindo apenas a data de um objeto <code>datetime</code></h4>"
   ]
  },
  {
   "cell_type": "code",
   "execution_count": 33,
   "metadata": {},
   "outputs": [
    {
     "name": "stdout",
     "output_type": "stream",
     "text": [
      "2022-12-16\n"
     ]
    }
   ],
   "source": [
    "# método date()\n",
    "print(data_hora.date())"
   ]
  },
  {
   "cell_type": "markdown",
   "metadata": {},
   "source": [
    "<h4 style=\"color: #2bb3cc\">Extraindo apenas o horário de um objeto <code>datetime</code></h4>"
   ]
  },
  {
   "cell_type": "code",
   "execution_count": 34,
   "metadata": {},
   "outputs": [
    {
     "name": "stdout",
     "output_type": "stream",
     "text": [
      "15:17:47.545121\n"
     ]
    }
   ],
   "source": [
    "# método time()\n",
    "print(data_hora.time())"
   ]
  },
  {
   "cell_type": "markdown",
   "metadata": {},
   "source": [
    "<h4 style=\"color: #2bb3cc\">Dia da semana</code></h4>"
   ]
  },
  {
   "cell_type": "code",
   "execution_count": 35,
   "metadata": {},
   "outputs": [
    {
     "data": {
      "text/plain": [
       "4"
      ]
     },
     "execution_count": 35,
     "metadata": {},
     "output_type": "execute_result"
    }
   ],
   "source": [
    "# método weekday()\n",
    "\"\"\" \n",
    "0 - segunda\n",
    "1 - terça\n",
    "2 - quarta\n",
    "3 - quinta\n",
    "4 - sexta\n",
    "5 - sábado\n",
    "6 - domingo\n",
    "\"\"\"\n",
    "\n",
    "#EXEMPLO PRONTO\n",
    "#data_hora = datetime.datetime(2021, 6, 29, 17)\n",
    "\n",
    "# HOJE:\n",
    "data_hora = datetime.datetime.now()\n",
    "data_hora.weekday()"
   ]
  },
  {
   "cell_type": "code",
   "execution_count": 36,
   "metadata": {},
   "outputs": [
    {
     "data": {
      "text/plain": [
       "datetime.datetime(2022, 12, 16, 15, 19, 1, 840003)"
      ]
     },
     "execution_count": 36,
     "metadata": {},
     "output_type": "execute_result"
    }
   ],
   "source": [
    "# método now()\n",
    "datetime.datetime.now()"
   ]
  },
  {
   "cell_type": "markdown",
   "metadata": {},
   "source": [
    "<h4 style=\"color: #2bb3cc\">Classe <code>timezone</code></h4>"
   ]
  },
  {
   "cell_type": "code",
   "execution_count": 38,
   "metadata": {},
   "outputs": [],
   "source": [
    "import pytz"
   ]
  },
  {
   "cell_type": "code",
   "execution_count": 45,
   "metadata": {},
   "outputs": [
    {
     "name": "stdout",
     "output_type": "stream",
     "text": [
      "['America/Sao_Paulo']\n",
      "['Brazil/Acre', 'Brazil/DeNoronha', 'Brazil/East', 'Brazil/West']\n"
     ]
    }
   ],
   "source": [
    "print(list(filter(lambda x: 'Sao_Paulo' in x, pytz.all_timezones)))\n",
    "print(list(filter(lambda x: 'Brazil' in x, pytz.all_timezones)))"
   ]
  },
  {
   "cell_type": "code",
   "execution_count": 47,
   "metadata": {},
   "outputs": [
    {
     "data": {
      "text/plain": [
       "<DstTzInfo 'America/Sao_Paulo' LMT-1 day, 20:54:00 STD>"
      ]
     },
     "execution_count": 47,
     "metadata": {},
     "output_type": "execute_result"
    }
   ],
   "source": [
    "timezone = pytz.timezone('America/Sao_Paulo')\n",
    "timezone"
   ]
  },
  {
   "cell_type": "markdown",
   "metadata": {},
   "source": [
    "<h4 style=\"color: #2bb3cc\">Configurando timezone</code></h4>\n",
    "\n",
    "O Python sempre irá trabalhar com timezone que está configurado no sistema operacional que está sendo utilizado. Porém, conseguimos configurar o timezone para outras regiões.\n",
    "\n",
    "[Clique aqui para saber mais sobre o UTC (Tempo Universal Coordenado)](https://pt.wikipedia.org/wiki/Tempo_Universal_Coordenado)\n",
    "\n",
    "[Clique aqui para ver a lista de todas timezone (tz database)](https://en.wikipedia.org/wiki/List_of_tz_database_time_zones)\n",
    "\n"
   ]
  },
  {
   "cell_type": "code",
   "execution_count": 50,
   "metadata": {},
   "outputs": [
    {
     "data": {
      "text/plain": [
       "datetime.datetime(2022, 12, 16, 15, 24, 26, 844751, tzinfo=<DstTzInfo 'America/Sao_Paulo' -03-1 day, 21:00:00 STD>)"
      ]
     },
     "execution_count": 50,
     "metadata": {},
     "output_type": "execute_result"
    }
   ],
   "source": [
    "datetime.datetime.now().astimezone(timezone)    "
   ]
  },
  {
   "cell_type": "markdown",
   "metadata": {},
   "source": [
    "<h4 style=\"color: #2bb3cc\">Realizando cálculos com datas e horas</h4>"
   ]
  },
  {
   "cell_type": "code",
   "execution_count": 58,
   "metadata": {},
   "outputs": [],
   "source": [
    "data_ini = datetime.date(2022, 1, 1)\n",
    "data_fim = datetime.date(2022, 2, 15)"
   ]
  },
  {
   "cell_type": "code",
   "execution_count": 59,
   "metadata": {},
   "outputs": [
    {
     "data": {
      "text/plain": [
       "datetime.timedelta(days=45)"
      ]
     },
     "execution_count": 59,
     "metadata": {},
     "output_type": "execute_result"
    }
   ],
   "source": [
    "data_fim - data_ini"
   ]
  },
  {
   "cell_type": "code",
   "execution_count": 61,
   "metadata": {},
   "outputs": [
    {
     "data": {
      "text/plain": [
       "datetime.timedelta"
      ]
     },
     "execution_count": 61,
     "metadata": {},
     "output_type": "execute_result"
    }
   ],
   "source": [
    "diferenca_dias = data_fim - data_ini\n",
    "type(diferenca_dias)"
   ]
  },
  {
   "cell_type": "code",
   "execution_count": 62,
   "metadata": {},
   "outputs": [
    {
     "data": {
      "text/plain": [
       "int"
      ]
     },
     "execution_count": 62,
     "metadata": {},
     "output_type": "execute_result"
    }
   ],
   "source": [
    "type(diferenca_dias.days)"
   ]
  },
  {
   "cell_type": "code",
   "execution_count": 63,
   "metadata": {},
   "outputs": [
    {
     "name": "stdout",
     "output_type": "stream",
     "text": [
      "45 days, 0:00:00\n"
     ]
    }
   ],
   "source": [
    "print(diferenca_dias)"
   ]
  },
  {
   "cell_type": "code",
   "execution_count": 64,
   "metadata": {},
   "outputs": [],
   "source": [
    "soma_1_dia =  datetime.timedelta(days=1)"
   ]
  },
  {
   "cell_type": "code",
   "execution_count": 65,
   "metadata": {},
   "outputs": [
    {
     "data": {
      "text/plain": [
       "datetime.date(2022, 12, 17)"
      ]
     },
     "execution_count": 65,
     "metadata": {},
     "output_type": "execute_result"
    }
   ],
   "source": [
    "datetime.date.today() + datetime.timedelta(days=1)"
   ]
  },
  {
   "cell_type": "code",
   "execution_count": 66,
   "metadata": {},
   "outputs": [
    {
     "data": {
      "text/plain": [
       "datetime.datetime(2022, 6, 1, 22, 15)"
      ]
     },
     "execution_count": 66,
     "metadata": {},
     "output_type": "execute_result"
    }
   ],
   "source": [
    "# adicionando 3 horas a um datetime\n",
    "datetime.datetime(2022, 6, 1, 19, 15) + datetime.timedelta(hours=3)"
   ]
  },
  {
   "cell_type": "code",
   "execution_count": 73,
   "metadata": {},
   "outputs": [
    {
     "data": {
      "text/plain": [
       "datetime.datetime(2022, 5, 29, 17, 15)"
      ]
     },
     "execution_count": 73,
     "metadata": {},
     "output_type": "execute_result"
    }
   ],
   "source": [
    "# subtrindo 3 dias e 2 horas a um datetime\n",
    "datetime.datetime(2022, 6, 1, 19, 15) + datetime.timedelta(days=-3, hours=-2)"
   ]
  },
  {
   "cell_type": "code",
   "execution_count": 79,
   "metadata": {},
   "outputs": [],
   "source": [
    "data_ini = datetime.datetime(2022, 6, 29, 21, 50, 10)\n",
    "data_fim = datetime.datetime(2022, 6, 30, 19, 30, 5)"
   ]
  },
  {
   "cell_type": "code",
   "execution_count": 82,
   "metadata": {},
   "outputs": [],
   "source": [
    "diferenca = data_fim - data_ini"
   ]
  },
  {
   "cell_type": "code",
   "execution_count": 71,
   "metadata": {},
   "outputs": [
    {
     "data": {
      "text/plain": [
       "datetime.timedelta"
      ]
     },
     "execution_count": 71,
     "metadata": {},
     "output_type": "execute_result"
    }
   ],
   "source": [
    "type(diferenca)"
   ]
  },
  {
   "cell_type": "code",
   "execution_count": 89,
   "metadata": {},
   "outputs": [
    {
     "data": {
      "text/plain": [
       "77995"
      ]
     },
     "execution_count": 89,
     "metadata": {},
     "output_type": "execute_result"
    }
   ],
   "source": [
    "diferenca.seconds"
   ]
  },
  {
   "cell_type": "markdown",
   "metadata": {},
   "source": [
    "<h4 style=\"color: #2bb3cc\">Convertendo strings para datetime</code></h4>"
   ]
  },
  {
   "cell_type": "code",
   "execution_count": 92,
   "metadata": {},
   "outputs": [],
   "source": [
    "data_string = '01/06/2022'"
   ]
  },
  {
   "cell_type": "code",
   "execution_count": 93,
   "metadata": {},
   "outputs": [],
   "source": [
    "data_datetime = datetime.datetime.strptime(data_string, \"%d/%m/%Y\")"
   ]
  },
  {
   "cell_type": "code",
   "execution_count": 94,
   "metadata": {},
   "outputs": [
    {
     "data": {
      "text/plain": [
       "datetime.datetime"
      ]
     },
     "execution_count": 94,
     "metadata": {},
     "output_type": "execute_result"
    }
   ],
   "source": [
    "type(data_datetime)"
   ]
  },
  {
   "cell_type": "code",
   "execution_count": 95,
   "metadata": {},
   "outputs": [
    {
     "name": "stdout",
     "output_type": "stream",
     "text": [
      "2022-06-01 00:00:00\n"
     ]
    }
   ],
   "source": [
    "print(data_datetime)"
   ]
  },
  {
   "cell_type": "code",
   "execution_count": 101,
   "metadata": {},
   "outputs": [
    {
     "name": "stdout",
     "output_type": "stream",
     "text": [
      "2022-06-01 00:00:00\n"
     ]
    }
   ],
   "source": [
    "data_string = '01-06-2022'\n",
    "data_datetime = datetime.datetime.strptime(data_string, \"%d-%m-%Y\")\n",
    "print(data_datetime)\n"
   ]
  },
  {
   "cell_type": "markdown",
   "metadata": {},
   "source": [
    "<h4 style=\"color: #2bb3cc\">Convertendo datetime para strings</code></h4>"
   ]
  },
  {
   "cell_type": "code",
   "execution_count": 147,
   "metadata": {},
   "outputs": [],
   "source": [
    "data = datetime.datetime(2022, 6, 29, 19, 30, 15)"
   ]
  },
  {
   "cell_type": "code",
   "execution_count": 104,
   "metadata": {},
   "outputs": [
    {
     "name": "stdout",
     "output_type": "stream",
     "text": [
      "16-12-2022\n"
     ]
    }
   ],
   "source": [
    "print(data.strftime(\"%d-%m-%Y\"))"
   ]
  },
  {
   "cell_type": "markdown",
   "metadata": {},
   "source": [
    "<h4 style=\"color: #2bb3cc\">Modificando a localidade</code></h4>"
   ]
  },
  {
   "cell_type": "code",
   "execution_count": 112,
   "metadata": {},
   "outputs": [],
   "source": [
    "import locale"
   ]
  },
  {
   "cell_type": "code",
   "execution_count": 113,
   "metadata": {},
   "outputs": [
    {
     "name": "stdout",
     "output_type": "stream",
     "text": [
      "sexta-feira\n"
     ]
    }
   ],
   "source": [
    "locale.setlocale(locale.LC_ALL, \"pt_BR\")\n",
    "print(data.strftime(\"%A\"))"
   ]
  },
  {
   "cell_type": "code",
   "execution_count": 114,
   "metadata": {},
   "outputs": [
    {
     "name": "stdout",
     "output_type": "stream",
     "text": [
      "Friday\n"
     ]
    }
   ],
   "source": [
    "locale.setlocale(locale.LC_ALL, \"us\")\n",
    "print(data.strftime(\"%A\"))"
   ]
  },
  {
   "cell_type": "code",
   "execution_count": 116,
   "metadata": {},
   "outputs": [
    {
     "name": "stdout",
     "output_type": "stream",
     "text": [
      "16/12/2022 - sexta-feira - dezembro\n"
     ]
    }
   ],
   "source": [
    "locale.setlocale(locale.LC_ALL, \"pt_BR\")\n",
    "print(data.strftime(\"%d/%m/%Y - %A - %B\"))"
   ]
  },
  {
   "cell_type": "markdown",
   "metadata": {},
   "source": [
    "<h4 style=\"color: #2bb3cc\">Format Codes para <code>strftime</code> e <code>strptime</code></h4>\n",
    "\n",
    "[>>> Clique aqui para acessar a documentação](https://docs.python.org/pt-br/3/library/datetime.html#strftime-and-strptime-format-codes)\n",
    "\n",
    "-Alguns exemplos:\n"
   ]
  },
  {
   "cell_type": "code",
   "execution_count": 52,
   "metadata": {},
   "outputs": [
    {
     "name": "stdout",
     "output_type": "stream",
     "text": [
      "Fri\n",
      "Friday\n",
      "5\n",
      "16\n",
      "Dec\n",
      "December\n",
      "12\n",
      "22\n",
      "2022\n",
      "15\n",
      "03\n",
      "PM\n",
      "26\n",
      "58\n",
      "969444\n",
      "350\n",
      "50\n"
     ]
    }
   ],
   "source": [
    "nasc = datetime.datetime.now()\n",
    "\n",
    "print(nasc.strftime(\"%a\")) # DESCOBRINDO O DIA DA SEMANA ABREVIADO (TEXTO)\n",
    "print(nasc.strftime(\"%A\")) # DESCOBRINDO O DIA DA SEMANA (TEXTO)\n",
    "print(nasc.strftime(\"%w\")) # DESCOBRINDO O DIA (numero) DA SEMANA RELATIVO A ...-feira\n",
    "print(nasc.strftime(\"%d\")) # DESCORBINDO O DIA (numero) DO MÊS\n",
    "print(nasc.strftime(\"%b\")) # DESCOBRINDO O MES (TEXTO) ABREVIADO\n",
    "print(nasc.strftime(\"%B\")) # DESCOBRINDO O MES (TEXTO) \n",
    "print(nasc.strftime(\"%m\")) # DESCOBRINDO O DIA DO MES (NUMERO)\n",
    "print(nasc.strftime(\"%y\")) # DESCOBRINDO O ANO COM 2 DIGITOS\n",
    "print(nasc.strftime(\"%Y\")) # DESCOBRINDO O ANO COM 4 DIGITOS\n",
    "print(nasc.strftime(\"%H\")) # DESCOBRINDO A HORA COM 2 DIGITOS (00:00-23:00)\n",
    "print(nasc.strftime(\"%I\")) # DESCOBRINDO A HORA COM TODOS OS DIGITOS (00:00 - 12:00)\n",
    "print(nasc.strftime(\"%p\")) # DESCOBRINDO SE É MANHÃ OU TARDE\n",
    "print(nasc.strftime(\"%M\")) # DESCOBRINDO OS MINUTOS\n",
    "print(nasc.strftime(\"%S\")) # DESCOBRINDO OS SEGUNDOS\n",
    "print(nasc.strftime(\"%f\")) # DESCOBRINDO OS MICROSEGUNDOS\n",
    "print(nasc.strftime(\"%j\")) # DESCOBRINDO O DIA DO ANO (ATÉ 365)\n",
    "print(nasc.strftime(\"%W\"))"
   ]
  }
 ],
 "metadata": {
  "kernelspec": {
   "display_name": "Python 3.11.1 64-bit",
   "language": "python",
   "name": "python3"
  },
  "language_info": {
   "codemirror_mode": {
    "name": "ipython",
    "version": 3
   },
   "file_extension": ".py",
   "mimetype": "text/x-python",
   "name": "python",
   "nbconvert_exporter": "python",
   "pygments_lexer": "ipython3",
   "version": "3.11.1"
  },
  "orig_nbformat": 4,
  "vscode": {
   "interpreter": {
    "hash": "95b2d1448bacf9f989af12da1c4c6e35fea5360a0c5347ef00d932450680c179"
   }
  }
 },
 "nbformat": 4,
 "nbformat_minor": 2
}
