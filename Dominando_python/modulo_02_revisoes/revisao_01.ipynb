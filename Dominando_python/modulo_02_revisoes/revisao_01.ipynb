{
 "cells": [
  {
   "cell_type": "markdown",
   "id": "7469d92a",
   "metadata": {},
   "source": [
    "# Revisão conceitos básicos"
   ]
  },
  {
   "cell_type": "code",
   "execution_count": 2,
   "id": "6173c425",
   "metadata": {},
   "outputs": [
    {
     "name": "stdout",
     "output_type": "stream",
     "text": [
      "Vinicius\n"
     ]
    },
    {
     "data": {
      "text/plain": [
       "str"
      ]
     },
     "execution_count": 2,
     "metadata": {},
     "output_type": "execute_result"
    }
   ],
   "source": [
    "# variáveis\n",
    "\n",
    "nome_aluno = 'Vinicius'\n",
    "print(nome_aluno)\n",
    "type(nome_aluno)"
   ]
  },
  {
   "cell_type": "code",
   "execution_count": 3,
   "id": "0039e4d9",
   "metadata": {},
   "outputs": [
    {
     "name": "stdout",
     "output_type": "stream",
     "text": [
      "123.44\n",
      "<class 'float'>\n"
     ]
    }
   ],
   "source": [
    "numero = 123.44\n",
    "print(numero)\n",
    "print(type(numero))"
   ]
  },
  {
   "cell_type": "markdown",
   "id": "950d2f5a",
   "metadata": {},
   "source": [
    "# Tipos de dados"
   ]
  },
  {
   "cell_type": "markdown",
   "id": "20839869",
   "metadata": {},
   "source": [
    "## Strings"
   ]
  },
  {
   "cell_type": "code",
   "execution_count": 6,
   "id": "79910f9f",
   "metadata": {},
   "outputs": [
    {
     "name": "stdout",
     "output_type": "stream",
     "text": [
      "<class 'str'>\n"
     ]
    }
   ],
   "source": [
    "# string\n",
    "print(type(nome_aluno))\n"
   ]
  },
  {
   "cell_type": "code",
   "execution_count": 7,
   "id": "79b60fa7",
   "metadata": {},
   "outputs": [
    {
     "name": "stdout",
     "output_type": "stream",
     "text": [
      "['__add__', '__class__', '__contains__', '__delattr__', '__dir__', '__doc__', '__eq__', '__format__', '__ge__', '__getattribute__', '__getitem__', '__getnewargs__', '__gt__', '__hash__', '__init__', '__init_subclass__', '__iter__', '__le__', '__len__', '__lt__', '__mod__', '__mul__', '__ne__', '__new__', '__reduce__', '__reduce_ex__', '__repr__', '__rmod__', '__rmul__', '__setattr__', '__sizeof__', '__str__', '__subclasshook__', 'capitalize', 'casefold', 'center', 'count', 'encode', 'endswith', 'expandtabs', 'find', 'format', 'format_map', 'index', 'isalnum', 'isalpha', 'isascii', 'isdecimal', 'isdigit', 'isidentifier', 'islower', 'isnumeric', 'isprintable', 'isspace', 'istitle', 'isupper', 'join', 'ljust', 'lower', 'lstrip', 'maketrans', 'partition', 'removeprefix', 'removesuffix', 'replace', 'rfind', 'rindex', 'rjust', 'rpartition', 'rsplit', 'rstrip', 'split', 'splitlines', 'startswith', 'strip', 'swapcase', 'title', 'translate', 'upper', 'zfill']\n"
     ]
    }
   ],
   "source": [
    "print(dir(nome_aluno))"
   ]
  },
  {
   "cell_type": "code",
   "execution_count": 10,
   "id": "6cf3547b",
   "metadata": {},
   "outputs": [
    {
     "data": {
      "text/plain": [
       "'Vxnxcxus'"
      ]
     },
     "execution_count": 10,
     "metadata": {},
     "output_type": "execute_result"
    }
   ],
   "source": [
    "nome_aluno.replace('i', 'x')"
   ]
  },
  {
   "cell_type": "code",
   "execution_count": 12,
   "id": "371c14dc",
   "metadata": {},
   "outputs": [
    {
     "name": "stdout",
     "output_type": "stream",
     "text": [
      "Help on method_descriptor:\n",
      "\n",
      "replace(self, old, new, count=-1, /)\n",
      "    Return a copy with all occurrences of substring old replaced by new.\n",
      "    \n",
      "      count\n",
      "        Maximum number of occurrences to replace.\n",
      "        -1 (the default value) means replace all occurrences.\n",
      "    \n",
      "    If the optional argument count is given, only the first count occurrences are\n",
      "    replaced.\n",
      "\n"
     ]
    }
   ],
   "source": [
    "help(str.replace)"
   ]
  },
  {
   "cell_type": "markdown",
   "id": "404f4b6b",
   "metadata": {},
   "source": [
    "## Tipos numéricos"
   ]
  },
  {
   "cell_type": "code",
   "execution_count": 17,
   "id": "18cd92b6",
   "metadata": {},
   "outputs": [
    {
     "name": "stdout",
     "output_type": "stream",
     "text": [
      "123.34\n",
      "<class 'float'>\n",
      "123\n",
      "<class 'int'>\n"
     ]
    }
   ],
   "source": [
    "# numéricos\n",
    "\n",
    "#float\n",
    "numero_float = 123.34\n",
    "print(numero_float)\n",
    "print(type(numero_float))\n",
    "\n",
    "#int\n",
    "numero_int = 123\n",
    "print(numero_int)\n",
    "print(type(numero_int))"
   ]
  },
  {
   "cell_type": "code",
   "execution_count": 21,
   "id": "3da17815",
   "metadata": {},
   "outputs": [
    {
     "name": "stdout",
     "output_type": "stream",
     "text": [
      "57\n",
      "0b111001\n",
      "<class 'int'>\n"
     ]
    }
   ],
   "source": [
    "# binário (começam com 0b)\n",
    "binario = 0b111001\n",
    "print(binario)\n",
    "\n",
    "print(bin(57))\n",
    "print(type(binario))"
   ]
  },
  {
   "cell_type": "code",
   "execution_count": 24,
   "id": "8b4f361c",
   "metadata": {},
   "outputs": [
    {
     "name": "stdout",
     "output_type": "stream",
     "text": [
      "156\n",
      "0o234\n",
      "<class 'int'>\n"
     ]
    }
   ],
   "source": [
    "# octal (começam com 0o)\n",
    "octal = 0o234\n",
    "print(octal)\n",
    "print(oct(156))\n",
    "print(type(octal))"
   ]
  },
  {
   "cell_type": "code",
   "execution_count": 33,
   "id": "94c76e29",
   "metadata": {},
   "outputs": [
    {
     "name": "stdout",
     "output_type": "stream",
     "text": [
      "362\n"
     ]
    },
    {
     "data": {
      "text/plain": [
       "int"
      ]
     },
     "execution_count": 33,
     "metadata": {},
     "output_type": "execute_result"
    }
   ],
   "source": [
    "# hexadecimal (começam com 0x)\n",
    "hexa = 0x16A\n",
    "print(hexa)\n",
    "type(hexa)"
   ]
  },
  {
   "cell_type": "markdown",
   "id": "1fb74e4f",
   "metadata": {},
   "source": [
    "## Números complexos"
   ]
  },
  {
   "cell_type": "code",
   "execution_count": 27,
   "id": "e498f907",
   "metadata": {},
   "outputs": [
    {
     "name": "stdout",
     "output_type": "stream",
     "text": [
      "(12+3j)\n",
      "<class 'complex'>\n"
     ]
    }
   ],
   "source": [
    "# números complexos\n",
    "complexos = 12 + 3j\n",
    "print(complexos)\n",
    "print(type(complexos))"
   ]
  },
  {
   "cell_type": "markdown",
   "id": "938deed1",
   "metadata": {},
   "source": [
    "## Booleanos"
   ]
  },
  {
   "cell_type": "code",
   "execution_count": 29,
   "id": "0bcedcac",
   "metadata": {},
   "outputs": [
    {
     "data": {
      "text/plain": [
       "bool"
      ]
     },
     "execution_count": 29,
     "metadata": {},
     "output_type": "execute_result"
    }
   ],
   "source": [
    "# Boolenos\n",
    "teste = False\n",
    "type(teste)"
   ]
  },
  {
   "cell_type": "code",
   "execution_count": 30,
   "id": "cc035ffb",
   "metadata": {},
   "outputs": [
    {
     "data": {
      "text/plain": [
       "NoneType"
      ]
     },
     "execution_count": 30,
     "metadata": {},
     "output_type": "execute_result"
    }
   ],
   "source": [
    "# indefinido --> None\n",
    "indefinido = None\n",
    "type(indefinido)"
   ]
  },
  {
   "cell_type": "code",
   "execution_count": null,
   "id": "6df36cd3",
   "metadata": {},
   "outputs": [],
   "source": []
  }
 ],
 "metadata": {
  "kernelspec": {
   "display_name": "Python 3.11.1 64-bit",
   "language": "python",
   "name": "python3"
  },
  "language_info": {
   "codemirror_mode": {
    "name": "ipython",
    "version": 3
   },
   "file_extension": ".py",
   "mimetype": "text/x-python",
   "name": "python",
   "nbconvert_exporter": "python",
   "pygments_lexer": "ipython3",
   "version": "3.11.1"
  },
  "vscode": {
   "interpreter": {
    "hash": "95b2d1448bacf9f989af12da1c4c6e35fea5360a0c5347ef00d932450680c179"
   }
  }
 },
 "nbformat": 4,
 "nbformat_minor": 5
}
