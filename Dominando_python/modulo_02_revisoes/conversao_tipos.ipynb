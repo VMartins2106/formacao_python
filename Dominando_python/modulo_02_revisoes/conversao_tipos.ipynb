{
 "cells": [
  {
   "cell_type": "markdown",
   "id": "c13e8e4f",
   "metadata": {},
   "source": [
    "# Conversão de tipos (casting)"
   ]
  },
  {
   "cell_type": "code",
   "execution_count": 1,
   "id": "109068fb",
   "metadata": {},
   "outputs": [
    {
     "data": {
      "text/plain": [
       "6"
      ]
     },
     "execution_count": 1,
     "metadata": {},
     "output_type": "execute_result"
    }
   ],
   "source": [
    "3 + 3"
   ]
  },
  {
   "cell_type": "code",
   "execution_count": 2,
   "id": "3463a4d6",
   "metadata": {},
   "outputs": [
    {
     "data": {
      "text/plain": [
       "'vinicius python'"
      ]
     },
     "execution_count": 2,
     "metadata": {},
     "output_type": "execute_result"
    }
   ],
   "source": [
    "'vinicius ' + 'python'"
   ]
  },
  {
   "cell_type": "code",
   "execution_count": 3,
   "id": "0850fd6e",
   "metadata": {},
   "outputs": [
    {
     "data": {
      "text/plain": [
       "'33'"
      ]
     },
     "execution_count": 3,
     "metadata": {},
     "output_type": "execute_result"
    }
   ],
   "source": [
    "'3' + '3'"
   ]
  },
  {
   "cell_type": "code",
   "execution_count": 5,
   "id": "4896c190",
   "metadata": {},
   "outputs": [
    {
     "data": {
      "text/plain": [
       "6"
      ]
     },
     "execution_count": 5,
     "metadata": {},
     "output_type": "execute_result"
    }
   ],
   "source": [
    "3 + int('3')"
   ]
  },
  {
   "cell_type": "markdown",
   "id": "1cd15671",
   "metadata": {},
   "source": [
    "# Convertendo para int --> int()"
   ]
  },
  {
   "cell_type": "code",
   "execution_count": 27,
   "id": "0fcadb55",
   "metadata": {},
   "outputs": [
    {
     "name": "stdout",
     "output_type": "stream",
     "text": [
      "0\n",
      "10\n",
      "1\n",
      "0\n"
     ]
    }
   ],
   "source": [
    "print(int('0'))\n",
    "\n",
    "# print(int('0.1')) vai dar erro!\n",
    "print(int(10.9))  # quando convertemos um float para int, ele pega apenas a parte INTEIRA!!!!\n",
    "\n",
    "print(int(True))\n",
    "print(int(False))\n",
    "\n"
   ]
  },
  {
   "cell_type": "markdown",
   "id": "df584eaf",
   "metadata": {},
   "source": [
    "# Convertendo para float --> float()"
   ]
  },
  {
   "cell_type": "code",
   "execution_count": 28,
   "id": "e82dc720",
   "metadata": {},
   "outputs": [
    {
     "name": "stdout",
     "output_type": "stream",
     "text": [
      "0.1\n",
      "10.0\n",
      "10.0\n",
      "1.0\n",
      "0.0\n"
     ]
    }
   ],
   "source": [
    "print(float('0.1'))\n",
    "\n",
    "print(float('10'))\n",
    "\n",
    "print(float(10))\n",
    "\n",
    "print(float(True))\n",
    "print(float(False))"
   ]
  },
  {
   "cell_type": "markdown",
   "id": "ba738128",
   "metadata": {},
   "source": [
    "# Convertendo para booleano --bool()"
   ]
  },
  {
   "cell_type": "code",
   "execution_count": 19,
   "id": "a5f50127",
   "metadata": {},
   "outputs": [
    {
     "data": {
      "text/plain": [
       "True"
      ]
     },
     "execution_count": 19,
     "metadata": {},
     "output_type": "execute_result"
    }
   ],
   "source": [
    "bool(1)"
   ]
  },
  {
   "cell_type": "code",
   "execution_count": 20,
   "id": "8009cbb2",
   "metadata": {},
   "outputs": [
    {
     "data": {
      "text/plain": [
       "False"
      ]
     },
     "execution_count": 20,
     "metadata": {},
     "output_type": "execute_result"
    }
   ],
   "source": [
    "bool(0)"
   ]
  },
  {
   "cell_type": "code",
   "execution_count": 21,
   "id": "48a84ea9",
   "metadata": {},
   "outputs": [
    {
     "data": {
      "text/plain": [
       "True"
      ]
     },
     "execution_count": 21,
     "metadata": {},
     "output_type": "execute_result"
    }
   ],
   "source": [
    "bool(-25)"
   ]
  },
  {
   "cell_type": "code",
   "execution_count": 22,
   "id": "b0a0725e",
   "metadata": {},
   "outputs": [
    {
     "data": {
      "text/plain": [
       "True"
      ]
     },
     "execution_count": 22,
     "metadata": {},
     "output_type": "execute_result"
    }
   ],
   "source": [
    "bool(1.0)"
   ]
  },
  {
   "cell_type": "code",
   "execution_count": 23,
   "id": "dc3cc78c",
   "metadata": {},
   "outputs": [
    {
     "data": {
      "text/plain": [
       "False"
      ]
     },
     "execution_count": 23,
     "metadata": {},
     "output_type": "execute_result"
    }
   ],
   "source": [
    "bool(0.0)"
   ]
  },
  {
   "cell_type": "code",
   "execution_count": 24,
   "id": "34d14e62",
   "metadata": {},
   "outputs": [
    {
     "data": {
      "text/plain": [
       "True"
      ]
     },
     "execution_count": 24,
     "metadata": {},
     "output_type": "execute_result"
    }
   ],
   "source": [
    "bool('vinicius')"
   ]
  },
  {
   "cell_type": "code",
   "execution_count": 25,
   "id": "345a50cf",
   "metadata": {},
   "outputs": [
    {
     "data": {
      "text/plain": [
       "False"
      ]
     },
     "execution_count": 25,
     "metadata": {},
     "output_type": "execute_result"
    }
   ],
   "source": [
    "bool('')"
   ]
  },
  {
   "cell_type": "markdown",
   "id": "4cfcf552",
   "metadata": {},
   "source": [
    "# Convertendo para string --> str()"
   ]
  },
  {
   "cell_type": "code",
   "execution_count": 32,
   "id": "7cff7107",
   "metadata": {},
   "outputs": [
    {
     "name": "stdout",
     "output_type": "stream",
     "text": [
      "10\n",
      "12.3\n"
     ]
    }
   ],
   "source": [
    "print(str(10))\n",
    "print(str(12.3))"
   ]
  },
  {
   "cell_type": "markdown",
   "id": "2b774278",
   "metadata": {},
   "source": [
    "# F-strings"
   ]
  },
  {
   "cell_type": "code",
   "execution_count": 31,
   "id": "44c0b30e",
   "metadata": {},
   "outputs": [
    {
     "name": "stdout",
     "output_type": "stream",
     "text": [
      "O Valor do número é 10\n"
     ]
    }
   ],
   "source": [
    "numero = 10\n",
    "print('O Valor do número é ' + str(numero))"
   ]
  },
  {
   "cell_type": "code",
   "execution_count": 33,
   "id": "54a1b8b3",
   "metadata": {},
   "outputs": [
    {
     "name": "stdout",
     "output_type": "stream",
     "text": [
      "O valor do número é: 10\n"
     ]
    }
   ],
   "source": [
    "print(f'O valor do número é: {numero}')"
   ]
  }
 ],
 "metadata": {
  "kernelspec": {
   "display_name": "Python 3 (ipykernel)",
   "language": "python",
   "name": "python3"
  },
  "language_info": {
   "codemirror_mode": {
    "name": "ipython",
    "version": 3
   },
   "file_extension": ".py",
   "mimetype": "text/x-python",
   "name": "python",
   "nbconvert_exporter": "python",
   "pygments_lexer": "ipython3",
   "version": "3.9.7"
  }
 },
 "nbformat": 4,
 "nbformat_minor": 5
}
