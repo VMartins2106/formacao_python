{
 "cells": [
  {
   "cell_type": "markdown",
   "id": "e4b7feb9",
   "metadata": {},
   "source": [
    "# Operadores Aritméticos"
   ]
  },
  {
   "cell_type": "code",
   "execution_count": 5,
   "id": "6f6856f0",
   "metadata": {},
   "outputs": [
    {
     "name": "stdout",
     "output_type": "stream",
     "text": [
      "3\n",
      "5\n",
      "5.0\n",
      "3\n",
      "1\n",
      "100\n",
      "1000\n"
     ]
    }
   ],
   "source": [
    "# aritméticos\n",
    "\n",
    "# soma\n",
    "print(1 + 2)\n",
    "\n",
    "# subtração\n",
    "print( 10 - 5)\n",
    "\n",
    "# divsão \n",
    "print(10 / 2)\n",
    "\n",
    "# divisão (parte inteira)\n",
    "print( 10 // 3)\n",
    "\n",
    "# módulo (resto de uma divisão)\n",
    "print( 10 % 3)\n",
    "\n",
    "# multiplicação\n",
    "print(10 * 10)\n",
    "\n",
    "# exponenciação\n",
    "print(10 ** 3)\n"
   ]
  },
  {
   "cell_type": "markdown",
   "id": "c719ae7e",
   "metadata": {},
   "source": [
    "# Operadores relacionais"
   ]
  },
  {
   "cell_type": "code",
   "execution_count": 30,
   "id": "b85a7fae",
   "metadata": {},
   "outputs": [
    {
     "name": "stdout",
     "output_type": "stream",
     "text": [
      "True\n",
      "False\n",
      "True\n",
      "True\n",
      "True\n",
      "True\n"
     ]
    }
   ],
   "source": [
    "# relacionais\n",
    "\n",
    "# igualdade\n",
    "print(10 == 10)\n",
    "\n",
    "# maior que\n",
    "print( 10 > 40)\n",
    "\n",
    "# menor que\n",
    "print( 10 < 40)\n",
    "\n",
    "# maior igual que\n",
    "print( 10 >= 10)\n",
    "\n",
    "# menor igual que\n",
    "print( 10 <= 20)\n",
    "\n",
    "# diferente\n",
    "print( 100 != 1000)"
   ]
  },
  {
   "cell_type": "markdown",
   "id": "d1c1abd6",
   "metadata": {},
   "source": [
    "# Operadores lógicos"
   ]
  },
  {
   "cell_type": "code",
   "execution_count": 18,
   "id": "61639e40",
   "metadata": {},
   "outputs": [
    {
     "name": "stdout",
     "output_type": "stream",
     "text": [
      "True\n",
      "True\n",
      "True\n"
     ]
    }
   ],
   "source": [
    "# lógicos (AND, OR, NOT)\n",
    "\n",
    "# AND\n",
    "print( 10 > 9 and 10 < 100)\n",
    "\n",
    "# OR\n",
    "print( 10 > 1000 or 10 < 100)\n",
    "\n",
    "# NOT\n",
    "print( not 10 > 1000)\n"
   ]
  },
  {
   "cell_type": "code",
   "execution_count": 23,
   "id": "b6db965f",
   "metadata": {},
   "outputs": [
    {
     "name": "stdout",
     "output_type": "stream",
     "text": [
      "True\n",
      "True\n",
      "True\n",
      "False\n",
      "True\n"
     ]
    },
    {
     "name": "stderr",
     "output_type": "stream",
     "text": [
      "<>:3: SyntaxWarning: \"is\" with a literal. Did you mean \"==\"?\n",
      "<>:4: SyntaxWarning: \"is\" with a literal. Did you mean \"==\"?\n",
      "<>:3: SyntaxWarning: \"is\" with a literal. Did you mean \"==\"?\n",
      "<>:4: SyntaxWarning: \"is\" with a literal. Did you mean \"==\"?\n",
      "C:\\Users\\vinil\\AppData\\Local\\Temp/ipykernel_51708/1003423059.py:3: SyntaxWarning: \"is\" with a literal. Did you mean \"==\"?\n",
      "  print(10 is 10)\n",
      "C:\\Users\\vinil\\AppData\\Local\\Temp/ipykernel_51708/1003423059.py:4: SyntaxWarning: \"is\" with a literal. Did you mean \"==\"?\n",
      "  print('Vinicius' is 'Vinicius')\n"
     ]
    }
   ],
   "source": [
    "# identidade (IS e NOT IS) e membro (IN e NOT IN)\n",
    "\n",
    "print(10 is 10)\n",
    "print('Vinicius' is 'Vinicius')\n",
    "\n",
    "print('i' in 'Vinicius')\n",
    "print('o' in 'Vinicius')\n",
    "print('o' not in 'Vinicius')"
   ]
  },
  {
   "cell_type": "markdown",
   "id": "842597d5",
   "metadata": {},
   "source": [
    "# Operadores podem ser:"
   ]
  },
  {
   "cell_type": "code",
   "execution_count": 24,
   "id": "f4b24dbe",
   "metadata": {},
   "outputs": [
    {
     "data": {
      "text/plain": [
       "False"
      ]
     },
     "execution_count": 24,
     "metadata": {},
     "output_type": "execute_result"
    }
   ],
   "source": [
    "# unários\n",
    "not True"
   ]
  },
  {
   "cell_type": "code",
   "execution_count": 25,
   "id": "4970765a",
   "metadata": {},
   "outputs": [
    {
     "name": "stdout",
     "output_type": "stream",
     "text": [
      "12\n"
     ]
    }
   ],
   "source": [
    "# binários\n",
    "print(2 + 10)"
   ]
  },
  {
   "cell_type": "code",
   "execution_count": 28,
   "id": "5bcbeba4",
   "metadata": {},
   "outputs": [
    {
     "data": {
      "text/plain": [
       "'Minha roupa está seca!'"
      ]
     },
     "execution_count": 28,
     "metadata": {},
     "output_type": "execute_result"
    }
   ],
   "source": [
    "# ternários\n",
    "chovendo = False\n",
    "frase = 'Minha roupa está ' + ('molhada!' if chovendo else 'seca!')\n",
    "frase"
   ]
  }
 ],
 "metadata": {
  "kernelspec": {
   "display_name": "Python 3 (ipykernel)",
   "language": "python",
   "name": "python3"
  },
  "language_info": {
   "codemirror_mode": {
    "name": "ipython",
    "version": 3
   },
   "file_extension": ".py",
   "mimetype": "text/x-python",
   "name": "python",
   "nbconvert_exporter": "python",
   "pygments_lexer": "ipython3",
   "version": "3.9.7"
  }
 },
 "nbformat": 4,
 "nbformat_minor": 5
}
