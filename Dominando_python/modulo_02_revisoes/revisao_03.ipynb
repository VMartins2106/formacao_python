{
 "cells": [
  {
   "cell_type": "markdown",
   "id": "74acf6a2",
   "metadata": {},
   "source": [
    "# Estruturas de dados"
   ]
  },
  {
   "cell_type": "markdown",
   "id": "9b198366",
   "metadata": {},
   "source": [
    "## Listas"
   ]
  },
  {
   "cell_type": "code",
   "execution_count": 1,
   "id": "9dfb4123",
   "metadata": {},
   "outputs": [],
   "source": [
    "# listas\n",
    "\n",
    "minha_lista = [1, 2.34, True, 'Empowerdata', 'Empowerpython']"
   ]
  },
  {
   "cell_type": "code",
   "execution_count": 2,
   "id": "3c48024e",
   "metadata": {},
   "outputs": [
    {
     "data": {
      "text/plain": [
       "list"
      ]
     },
     "execution_count": 2,
     "metadata": {},
     "output_type": "execute_result"
    }
   ],
   "source": [
    "type(minha_lista)"
   ]
  },
  {
   "cell_type": "code",
   "execution_count": 3,
   "id": "a91286f0",
   "metadata": {},
   "outputs": [
    {
     "name": "stdout",
     "output_type": "stream",
     "text": [
      "['__add__', '__class__', '__class_getitem__', '__contains__', '__delattr__', '__delitem__', '__dir__', '__doc__', '__eq__', '__format__', '__ge__', '__getattribute__', '__getitem__', '__gt__', '__hash__', '__iadd__', '__imul__', '__init__', '__init_subclass__', '__iter__', '__le__', '__len__', '__lt__', '__mul__', '__ne__', '__new__', '__reduce__', '__reduce_ex__', '__repr__', '__reversed__', '__rmul__', '__setattr__', '__setitem__', '__sizeof__', '__str__', '__subclasshook__', 'append', 'clear', 'copy', 'count', 'extend', 'index', 'insert', 'pop', 'remove', 'reverse', 'sort']\n"
     ]
    }
   ],
   "source": [
    "print(dir(minha_lista))"
   ]
  },
  {
   "cell_type": "code",
   "execution_count": 6,
   "id": "50247403",
   "metadata": {},
   "outputs": [],
   "source": [
    "# alterar um elemento \n",
    "minha_lista[0] = 'Vinicius'"
   ]
  },
  {
   "cell_type": "code",
   "execution_count": 7,
   "id": "434bac61",
   "metadata": {},
   "outputs": [
    {
     "data": {
      "text/plain": [
       "['Vinicius', 2.34, True, 'Empowerdata', 'Empowerpython']"
      ]
     },
     "execution_count": 7,
     "metadata": {},
     "output_type": "execute_result"
    }
   ],
   "source": [
    "minha_lista"
   ]
  },
  {
   "cell_type": "code",
   "execution_count": 8,
   "id": "b91f7550",
   "metadata": {},
   "outputs": [],
   "source": [
    "# adicionar elementos\n",
    "minha_lista.append('Jupyter Notebook')"
   ]
  },
  {
   "cell_type": "code",
   "execution_count": 9,
   "id": "025cdf09",
   "metadata": {},
   "outputs": [
    {
     "data": {
      "text/plain": [
       "['Vinicius', 2.34, True, 'Empowerdata', 'Empowerpython', 'Jupyter Notebook']"
      ]
     },
     "execution_count": 9,
     "metadata": {},
     "output_type": "execute_result"
    }
   ],
   "source": [
    "minha_lista"
   ]
  },
  {
   "cell_type": "code",
   "execution_count": 10,
   "id": "cc3b87d2",
   "metadata": {},
   "outputs": [],
   "source": [
    "# apagar elementos\n",
    "minha_lista.remove('Empowerdata')"
   ]
  },
  {
   "cell_type": "code",
   "execution_count": 11,
   "id": "3a7d2409",
   "metadata": {},
   "outputs": [
    {
     "data": {
      "text/plain": [
       "['Vinicius', 2.34, True, 'Empowerpython', 'Jupyter Notebook']"
      ]
     },
     "execution_count": 11,
     "metadata": {},
     "output_type": "execute_result"
    }
   ],
   "source": [
    "minha_lista"
   ]
  },
  {
   "cell_type": "code",
   "execution_count": 12,
   "id": "292b7df2",
   "metadata": {},
   "outputs": [
    {
     "name": "stdout",
     "output_type": "stream",
     "text": [
      "Help on method_descriptor:\n",
      "\n",
      "remove(self, value, /)\n",
      "    Remove first occurrence of value.\n",
      "    \n",
      "    Raises ValueError if the value is not present.\n",
      "\n"
     ]
    }
   ],
   "source": [
    "help(list.remove)"
   ]
  },
  {
   "cell_type": "markdown",
   "id": "6dec3cad",
   "metadata": {},
   "source": [
    "## Tuplas"
   ]
  },
  {
   "cell_type": "code",
   "execution_count": 13,
   "id": "c1192e6c",
   "metadata": {},
   "outputs": [],
   "source": [
    "# tuplas\n",
    "\n",
    "minha_tupla = (1, 3, 4.5, 'Vinicius', 'Python')\n"
   ]
  },
  {
   "cell_type": "code",
   "execution_count": 14,
   "id": "1f981c5c",
   "metadata": {},
   "outputs": [
    {
     "data": {
      "text/plain": [
       "tuple"
      ]
     },
     "execution_count": 14,
     "metadata": {},
     "output_type": "execute_result"
    }
   ],
   "source": [
    "type(minha_tupla)"
   ]
  },
  {
   "cell_type": "code",
   "execution_count": 18,
   "id": "c60a9744",
   "metadata": {},
   "outputs": [],
   "source": [
    "tupla_unico_elemento = (1,)"
   ]
  },
  {
   "cell_type": "code",
   "execution_count": 19,
   "id": "ebae0848",
   "metadata": {},
   "outputs": [
    {
     "data": {
      "text/plain": [
       "tuple"
      ]
     },
     "execution_count": 19,
     "metadata": {},
     "output_type": "execute_result"
    }
   ],
   "source": [
    "type(tupla_unico_elemento)"
   ]
  },
  {
   "cell_type": "code",
   "execution_count": 20,
   "id": "b3aea75c",
   "metadata": {},
   "outputs": [],
   "source": [
    "minha_segunda_tupla = 1, 2, 4, 'Vinicius'"
   ]
  },
  {
   "cell_type": "code",
   "execution_count": 22,
   "id": "d8e35c6d",
   "metadata": {},
   "outputs": [
    {
     "data": {
      "text/plain": [
       "tuple"
      ]
     },
     "execution_count": 22,
     "metadata": {},
     "output_type": "execute_result"
    }
   ],
   "source": [
    "type(minha_segunda_tupla)"
   ]
  },
  {
   "cell_type": "code",
   "execution_count": 28,
   "id": "b179c626",
   "metadata": {},
   "outputs": [],
   "source": [
    "tupla_unico_elemento = 4,"
   ]
  },
  {
   "cell_type": "code",
   "execution_count": 29,
   "id": "1359c28f",
   "metadata": {},
   "outputs": [
    {
     "data": {
      "text/plain": [
       "tuple"
      ]
     },
     "execution_count": 29,
     "metadata": {},
     "output_type": "execute_result"
    }
   ],
   "source": [
    "type(tupla_unico_elemento)"
   ]
  },
  {
   "cell_type": "code",
   "execution_count": 30,
   "id": "e1acaae8",
   "metadata": {},
   "outputs": [
    {
     "data": {
      "text/plain": [
       "'Vinicius'"
      ]
     },
     "execution_count": 30,
     "metadata": {},
     "output_type": "execute_result"
    }
   ],
   "source": [
    "minha_tupla[3]"
   ]
  },
  {
   "cell_type": "code",
   "execution_count": 31,
   "id": "be7b0d53",
   "metadata": {},
   "outputs": [
    {
     "data": {
      "text/plain": [
       "(3, 4.5)"
      ]
     },
     "execution_count": 31,
     "metadata": {},
     "output_type": "execute_result"
    }
   ],
   "source": [
    "minha_tupla[1:3]"
   ]
  },
  {
   "cell_type": "markdown",
   "id": "3b02de1d",
   "metadata": {},
   "source": [
    "## Dicionários"
   ]
  },
  {
   "cell_type": "code",
   "execution_count": 32,
   "id": "b842a4e9",
   "metadata": {},
   "outputs": [],
   "source": [
    "# dicionários\n",
    "\n",
    "meu_dicionario = {\n",
    "    'nome': 'Vinicius',\n",
    "    'linguagem': 'Python'\n",
    "}"
   ]
  },
  {
   "cell_type": "code",
   "execution_count": 34,
   "id": "5f00bff5",
   "metadata": {},
   "outputs": [
    {
     "data": {
      "text/plain": [
       "dict"
      ]
     },
     "execution_count": 34,
     "metadata": {},
     "output_type": "execute_result"
    }
   ],
   "source": [
    "type(meu_dicionario)"
   ]
  },
  {
   "cell_type": "code",
   "execution_count": 35,
   "id": "fab9a715",
   "metadata": {},
   "outputs": [
    {
     "data": {
      "text/plain": [
       "dict_keys(['nome', 'linguagem'])"
      ]
     },
     "execution_count": 35,
     "metadata": {},
     "output_type": "execute_result"
    }
   ],
   "source": [
    "# chaves do dict\n",
    "meu_dicionario.keys()"
   ]
  },
  {
   "cell_type": "code",
   "execution_count": 36,
   "id": "aab8c254",
   "metadata": {},
   "outputs": [
    {
     "data": {
      "text/plain": [
       "dict_values(['Vinicius', 'Python'])"
      ]
     },
     "execution_count": 36,
     "metadata": {},
     "output_type": "execute_result"
    }
   ],
   "source": [
    "# valores do dict\n",
    "meu_dicionario.values()"
   ]
  },
  {
   "cell_type": "code",
   "execution_count": 37,
   "id": "58e38d55",
   "metadata": {},
   "outputs": [
    {
     "data": {
      "text/plain": [
       "dict_items([('nome', 'Vinicius'), ('linguagem', 'Python')])"
      ]
     },
     "execution_count": 37,
     "metadata": {},
     "output_type": "execute_result"
    }
   ],
   "source": [
    "# items\n",
    "meu_dicionario.items()"
   ]
  },
  {
   "cell_type": "markdown",
   "id": "d50a8a42",
   "metadata": {},
   "source": [
    "## Conjuntos"
   ]
  },
  {
   "cell_type": "code",
   "execution_count": 41,
   "id": "d00a584a",
   "metadata": {},
   "outputs": [],
   "source": [
    "# Conjuntos (set)\n",
    "\n",
    "meu_conjunto = {1, 2, 3, 4}"
   ]
  },
  {
   "cell_type": "code",
   "execution_count": 43,
   "id": "e8a03a98",
   "metadata": {},
   "outputs": [
    {
     "data": {
      "text/plain": [
       "set"
      ]
     },
     "execution_count": 43,
     "metadata": {},
     "output_type": "execute_result"
    }
   ],
   "source": [
    "type(meu_conjunto)"
   ]
  },
  {
   "cell_type": "code",
   "execution_count": 44,
   "id": "5e27ad1c",
   "metadata": {},
   "outputs": [],
   "source": [
    "meu_conjunto = {1, 1, 1, 2, 2, 2, 3, 3, 3, 4, 4, 4}"
   ]
  },
  {
   "cell_type": "code",
   "execution_count": 45,
   "id": "1d052360",
   "metadata": {},
   "outputs": [
    {
     "data": {
      "text/plain": [
       "{1, 2, 3, 4}"
      ]
     },
     "execution_count": 45,
     "metadata": {},
     "output_type": "execute_result"
    }
   ],
   "source": [
    "meu_conjunto"
   ]
  }
 ],
 "metadata": {
  "kernelspec": {
   "display_name": "Python 3 (ipykernel)",
   "language": "python",
   "name": "python3"
  },
  "language_info": {
   "codemirror_mode": {
    "name": "ipython",
    "version": 3
   },
   "file_extension": ".py",
   "mimetype": "text/x-python",
   "name": "python",
   "nbconvert_exporter": "python",
   "pygments_lexer": "ipython3",
   "version": "3.9.7"
  }
 },
 "nbformat": 4,
 "nbformat_minor": 5
}
