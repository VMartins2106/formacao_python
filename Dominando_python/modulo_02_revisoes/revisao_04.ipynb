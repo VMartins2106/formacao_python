{
 "cells": [
  {
   "cell_type": "markdown",
   "id": "1831631d",
   "metadata": {},
   "source": [
    "# Estruturas de controle"
   ]
  },
  {
   "cell_type": "markdown",
   "id": "1196e0b4",
   "metadata": {},
   "source": [
    "## while"
   ]
  },
  {
   "cell_type": "code",
   "execution_count": 1,
   "id": "dd080209",
   "metadata": {},
   "outputs": [
    {
     "name": "stdout",
     "output_type": "stream",
     "text": [
      "0\n",
      "1\n",
      "2\n",
      "3\n",
      "4\n",
      "5\n",
      "6\n",
      "7\n",
      "8\n",
      "9\n"
     ]
    }
   ],
   "source": [
    "# while\n",
    "\n",
    "contador = 0\n",
    "while contador < 10:\n",
    "    print(contador)\n",
    "    contador += 1\n",
    "#     contador = contador + 1"
   ]
  },
  {
   "cell_type": "markdown",
   "id": "458e7a6e",
   "metadata": {},
   "source": [
    "## for"
   ]
  },
  {
   "cell_type": "code",
   "execution_count": 4,
   "id": "4db77d82",
   "metadata": {},
   "outputs": [
    {
     "name": "stdout",
     "output_type": "stream",
     "text": [
      "1\n",
      "2\n",
      "3\n",
      "4\n",
      "5\n",
      "6\n",
      "7\n",
      "8\n",
      "9\n"
     ]
    }
   ],
   "source": [
    "# for\n",
    "\n",
    "lista = (1, 2, 3, 4, 5, 6, 7, 8, 9)\n",
    "for i in lista:\n",
    "    print(i)\n"
   ]
  },
  {
   "cell_type": "markdown",
   "id": "bb909dba",
   "metadata": {},
   "source": [
    "## if else"
   ]
  },
  {
   "cell_type": "code",
   "execution_count": 8,
   "id": "e48d218d",
   "metadata": {},
   "outputs": [
    {
     "name": "stdout",
     "output_type": "stream",
     "text": [
      "Minha roupa está seca!\n"
     ]
    }
   ],
   "source": [
    "# if else\n",
    "\n",
    "chovendo = False\n",
    "\n",
    "if chovendo:\n",
    "    print('Minha roupa está molhada!')\n",
    "else:\n",
    "    print('Minha roupa está seca!')\n"
   ]
  },
  {
   "cell_type": "code",
   "execution_count": 9,
   "id": "97b4edeb",
   "metadata": {},
   "outputs": [],
   "source": [
    "chovendo = False\n",
    "\n",
    "if chovendo:\n",
    "    print('Minha roupa está molhada!')"
   ]
  },
  {
   "cell_type": "markdown",
   "id": "7e435056",
   "metadata": {},
   "source": [
    "# Funções"
   ]
  },
  {
   "cell_type": "code",
   "execution_count": 17,
   "id": "e3b2d5cb",
   "metadata": {},
   "outputs": [],
   "source": [
    "def minha_funcao(nome = 'Vinicius'):\n",
    "    return 'Meu nome é: ' + nome"
   ]
  },
  {
   "cell_type": "code",
   "execution_count": 19,
   "id": "954171f3",
   "metadata": {},
   "outputs": [
    {
     "data": {
      "text/plain": [
       "'Meu nome é: Maria'"
      ]
     },
     "execution_count": 19,
     "metadata": {},
     "output_type": "execute_result"
    }
   ],
   "source": [
    "minha_funcao('Maria')"
   ]
  },
  {
   "cell_type": "code",
   "execution_count": 20,
   "id": "1f26c4dc",
   "metadata": {},
   "outputs": [
    {
     "data": {
      "text/plain": [
       "'Meu nome é: Vinicius'"
      ]
     },
     "execution_count": 20,
     "metadata": {},
     "output_type": "execute_result"
    }
   ],
   "source": [
    "minha_funcao('Vinicius')"
   ]
  },
  {
   "cell_type": "code",
   "execution_count": 22,
   "id": "b13d2a43",
   "metadata": {},
   "outputs": [
    {
     "name": "stdout",
     "output_type": "stream",
     "text": [
      "Meu nome é: Gabriel\n"
     ]
    }
   ],
   "source": [
    "print(minha_funcao('Gabriel'))"
   ]
  }
 ],
 "metadata": {
  "kernelspec": {
   "display_name": "Python 3 (ipykernel)",
   "language": "python",
   "name": "python3"
  },
  "language_info": {
   "codemirror_mode": {
    "name": "ipython",
    "version": 3
   },
   "file_extension": ".py",
   "mimetype": "text/x-python",
   "name": "python",
   "nbconvert_exporter": "python",
   "pygments_lexer": "ipython3",
   "version": "3.9.7"
  }
 },
 "nbformat": 4,
 "nbformat_minor": 5
}
