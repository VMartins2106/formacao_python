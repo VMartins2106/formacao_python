{
 "cells": [
  {
   "cell_type": "code",
   "execution_count": 1,
   "metadata": {},
   "outputs": [
    {
     "name": "stdout",
     "output_type": "stream",
     "text": [
      "Teste no AMBIENTE VIRTUAL\n"
     ]
    }
   ],
   "source": [
    "print('Teste no AMBIENTE VIRTUAL')"
   ]
  }
 ],
 "metadata": {
  "kernelspec": {
   "display_name": "Python 3.11.1 ('venv': venv)",
   "language": "python",
   "name": "python3"
  },
  "language_info": {
   "codemirror_mode": {
    "name": "ipython",
    "version": 3
   },
   "file_extension": ".py",
   "mimetype": "text/x-python",
   "name": "python",
   "nbconvert_exporter": "python",
   "pygments_lexer": "ipython3",
   "version": "3.11.1"
  },
  "orig_nbformat": 4,
  "vscode": {
   "interpreter": {
    "hash": "3580a7437da8df9e2d62e7c38c74a0ff37cccba9ca0d4da35688eb2677b4cea9"
   }
  }
 },
 "nbformat": 4,
 "nbformat_minor": 2
}
