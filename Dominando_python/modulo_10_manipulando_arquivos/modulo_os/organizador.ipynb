{
 "cells": [
  {
   "cell_type": "code",
   "execution_count": 1,
   "metadata": {},
   "outputs": [],
   "source": [
    "import os"
   ]
  },
  {
   "cell_type": "code",
   "execution_count": 18,
   "metadata": {},
   "outputs": [],
   "source": [
    "os.chdir(r\"C:\\Users\\Win10\\Desktop\\download_organizado\")\n",
    "# EXEMPLO DE TESTE\n",
    "# SELECIONAR CAMINHO ABSOLUTO ATÉ A PASTA QUE VOCÊ DESEJA ORGANIZAR\n"
   ]
  },
  {
   "cell_type": "code",
   "execution_count": 19,
   "metadata": {},
   "outputs": [],
   "source": [
    "lista_arquivos = [arquivo.lower() for arquivo in os.listdir() if os.path.isfile(arquivo)]\n",
    "# COLOCA O NOME DOS ARQUVIOS EM MINUSCULO\n",
    "# UM FOR PARA LISTAR TODOS OS ARQUIVOS QUE EXISTIREM COMO ARQUIVOS MESMO, PRA ISSO O 'IF'"
   ]
  },
  {
   "cell_type": "code",
   "execution_count": null,
   "metadata": {},
   "outputs": [],
   "source": [
    "lista_arquivos"
   ]
  },
  {
   "cell_type": "code",
   "execution_count": 21,
   "metadata": {},
   "outputs": [
    {
     "data": {
      "text/plain": [
       "'jpg'"
      ]
     },
     "execution_count": 21,
     "metadata": {},
     "output_type": "execute_result"
    }
   ],
   "source": [
    "'1670779134925.jpg'.split(\".\")[-1]\n",
    "# -1 PRA PEGAR A EXTENSÃO, EVITANDO PEGAR ALGO ERRADO"
   ]
  },
  {
   "cell_type": "code",
   "execution_count": 22,
   "metadata": {},
   "outputs": [],
   "source": [
    "lista_tipos = {tipo.split(\".\")[-1] for tipo in lista_arquivos}\n",
    "# É USADO AS CHAVES PARA FAZER UM SET, NÃO DEIXANDO NADA SE REPETIR"
   ]
  },
  {
   "cell_type": "code",
   "execution_count": 23,
   "metadata": {},
   "outputs": [
    {
     "name": "stdout",
     "output_type": "stream",
     "text": [
      "<class 'set'>\n",
      "{'pdf', 'sql', 'docx', 'ipynb', 'ico', 'exe', 'jpg', 'json', 'msi', 'py', 'ogg', 'txt', 'doc', 'webp', 'dia', 'mov', 'zip', 'psd', 'pptm', 'md', 'php', 'mp3', 'png', 'html', 'cs', 'css', 'jar', 'svg', 'plist', 'mp4', 'xlsx', 'pug', 'jpeg', 'rar', 'ino', 'jfif', 'gif'}\n"
     ]
    }
   ],
   "source": [
    "print(type(lista_tipos))\n",
    "print(lista_tipos)\n"
   ]
  },
  {
   "cell_type": "code",
   "execution_count": 24,
   "metadata": {},
   "outputs": [],
   "source": [
    "for tipo in lista_tipos:\n",
    "    if os.path.exists(tipo):\n",
    "        pass\n",
    "    else:\n",
    "        os.mkdir(tipo)"
   ]
  },
  {
   "cell_type": "code",
   "execution_count": 25,
   "metadata": {},
   "outputs": [],
   "source": [
    "for arquivo in lista_arquivos:\n",
    "    pasta_destino = arquivo.split(\".\")[-1]\n",
    "    de = os.path.join(os.getcwd(), arquivo)\n",
    "    para = os.path.join(os.getcwd(), pasta_destino, arquivo)\n",
    "    if os.path.exists(de):\n",
    "        os.replace(de, para)"
   ]
  },
  {
   "cell_type": "markdown",
   "metadata": {},
   "source": [
    "# ORGANIZADOR.PY FAZ TUDO EM UMA APLICAÇÃO"
   ]
  }
 ],
 "metadata": {
  "kernelspec": {
   "display_name": "Python 3.11.1 64-bit",
   "language": "python",
   "name": "python3"
  },
  "language_info": {
   "codemirror_mode": {
    "name": "ipython",
    "version": 3
   },
   "file_extension": ".py",
   "mimetype": "text/x-python",
   "name": "python",
   "nbconvert_exporter": "python",
   "pygments_lexer": "ipython3",
   "version": "3.11.1"
  },
  "orig_nbformat": 4,
  "vscode": {
   "interpreter": {
    "hash": "95b2d1448bacf9f989af12da1c4c6e35fea5360a0c5347ef00d932450680c179"
   }
  }
 },
 "nbformat": 4,
 "nbformat_minor": 2
}
