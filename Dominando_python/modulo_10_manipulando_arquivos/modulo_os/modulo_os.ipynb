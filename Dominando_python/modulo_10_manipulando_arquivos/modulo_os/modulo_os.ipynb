{
 "cells": [
  {
   "cell_type": "markdown",
   "metadata": {},
   "source": [
    "<h4 style=\"color: #2bb3cc\">Módulo OS (Operational System)</h4>\n",
    "\n",
    "- O módulo `os` fornece diversas funções e métodos para interagirmos com o Sistema Operacional.\n",
    "- Com ele podemos manipular pastas e arquivos\n",
    "- É nativo da linguagem Python"
   ]
  },
  {
   "cell_type": "code",
   "execution_count": 1,
   "metadata": {},
   "outputs": [],
   "source": [
    "import os"
   ]
  },
  {
   "cell_type": "markdown",
   "metadata": {},
   "source": [
    "<h4 style=\"color: #2bb3cc\">Verificar pasta atual de trabalho</h4>\n",
    "\n",
    "Método `getcwd()`"
   ]
  },
  {
   "cell_type": "code",
   "execution_count": 2,
   "metadata": {},
   "outputs": [
    {
     "name": "stdout",
     "output_type": "stream",
     "text": [
      "c:\\Users\\Win10\\Desktop\\python_empowerdata\\Dominando_python\\modulo_10_manipulando_arquivos\\modulo_os\n"
     ]
    }
   ],
   "source": [
    "print(os.getcwd()) # TRAZ O PATH (CAMINHO) INTEIRO ATÉ ESTE ARQUIVO"
   ]
  },
  {
   "cell_type": "markdown",
   "metadata": {},
   "source": [
    "<h4 style=\"color: #2bb3cc\">Listar arquivos e pastas</h4>\n",
    "\n",
    "Método `listdir()`"
   ]
  },
  {
   "cell_type": "code",
   "execution_count": 3,
   "metadata": {},
   "outputs": [
    {
     "data": {
      "text/plain": [
       "['comando_os.py',\n",
       " 'modulo_os.ipynb',\n",
       " 'organizador.ipynb',\n",
       " 'organizador.py',\n",
       " 'pasta10']"
      ]
     },
     "execution_count": 3,
     "metadata": {},
     "output_type": "execute_result"
    }
   ],
   "source": [
    "os.listdir() # TUDO QUE TEM DENTRO DESTA PASTA\n",
    "# RETORNA EM LISTA"
   ]
  },
  {
   "cell_type": "markdown",
   "metadata": {},
   "source": [
    "<h4 style=\"color: #2bb3cc\">Path</h4>\n",
    "\n",
    "Métodos `join()` e `basename()`"
   ]
  },
  {
   "cell_type": "code",
   "execution_count": 4,
   "metadata": {},
   "outputs": [
    {
     "data": {
      "text/plain": [
       "'c:\\\\Users\\\\Win10\\\\Desktop\\\\python_empowerdata\\\\Dominando_python\\\\modulo_10_manipulando_arquivos\\\\modulo_os\\\\texto2.txt'"
      ]
     },
     "execution_count": 4,
     "metadata": {},
     "output_type": "execute_result"
    }
   ],
   "source": [
    "os.path.join(os.getcwd(), \"texto2.txt\")\n",
    "# NÃO ESTÁ CRIANDO O ARQUIVO.\n",
    "# ESTÁ APENAS PEGANO O CAMINHO ABSOLUTO ATÉ O NOME DO ARQUIVO INFORMADO"
   ]
  },
  {
   "cell_type": "code",
   "execution_count": 5,
   "metadata": {},
   "outputs": [
    {
     "data": {
      "text/plain": [
       "'modulo_os'"
      ]
     },
     "execution_count": 5,
     "metadata": {},
     "output_type": "execute_result"
    }
   ],
   "source": [
    "os.path.basename(os.getcwd())\n",
    "# PEGA O CAMINHO RELATIVO"
   ]
  },
  {
   "cell_type": "markdown",
   "metadata": {},
   "source": [
    "<h4 style=\"color: #2bb3cc\">Verificar se é arquivo ou se é pasta</h4>\n",
    "\n",
    "Métodos `isfile()` e `isdir()`"
   ]
  },
  {
   "cell_type": "code",
   "execution_count": 6,
   "metadata": {},
   "outputs": [
    {
     "data": {
      "text/plain": [
       "True"
      ]
     },
     "execution_count": 6,
     "metadata": {},
     "output_type": "execute_result"
    }
   ],
   "source": [
    "os.path.isfile(os.path.join(os.getcwd(), \"texto02.txt\"))\n",
    "# VERIFICA SE TUDO ISSO É UM ARQUIVO"
   ]
  },
  {
   "cell_type": "code",
   "execution_count": 9,
   "metadata": {},
   "outputs": [
    {
     "data": {
      "text/plain": [
       "False"
      ]
     },
     "execution_count": 9,
     "metadata": {},
     "output_type": "execute_result"
    }
   ],
   "source": [
    "os.path.isdir(os.path.join(os.getcwd(), \"pasta01\"))\n",
    "# VERIFICA SE TUDO ISSO É UMA PASTA"
   ]
  },
  {
   "cell_type": "markdown",
   "metadata": {},
   "source": [
    "<h4 style=\"color: #2bb3cc\">Alterar o diretório padrão</h4>\n",
    "\n",
    "Método `chdir()`"
   ]
  },
  {
   "cell_type": "code",
   "execution_count": 20,
   "metadata": {},
   "outputs": [
    {
     "data": {
      "text/plain": [
       "'c:\\\\Users\\\\Win10\\\\Desktop\\\\python_empowerdata\\\\Dominando_python\\\\modulo_10_manipulando_arquivos\\\\modulo_os'"
      ]
     },
     "execution_count": 20,
     "metadata": {},
     "output_type": "execute_result"
    }
   ],
   "source": [
    "os.getcwd()"
   ]
  },
  {
   "cell_type": "code",
   "execution_count": 19,
   "metadata": {},
   "outputs": [],
   "source": [
    "# MUDANDO O SCRIPT DO PYTHON PARA OUTRA PASTA\n",
    "os.chdir(r'c:\\Users\\Win10\\Desktop\\python_empowerdata\\Dominando_python\\modulo_10_manipulando_arquivos\\modulo_os')"
   ]
  },
  {
   "cell_type": "code",
   "execution_count": 21,
   "metadata": {},
   "outputs": [
    {
     "data": {
      "text/plain": [
       "['comando_os.py',\n",
       " 'modulo_os.ipynb',\n",
       " 'organizador.ipynb',\n",
       " 'organizador.py',\n",
       " 'pasta10',\n",
       " 'texto02.txt']"
      ]
     },
     "execution_count": 21,
     "metadata": {},
     "output_type": "execute_result"
    }
   ],
   "source": [
    "os.listdir()"
   ]
  },
  {
   "cell_type": "markdown",
   "metadata": {},
   "source": [
    "<h4 style=\"color: #2bb3cc\">Criar e deletar pastas</h4>\n",
    "\n",
    "Métodos `mkdir()` e `rmdir()`"
   ]
  },
  {
   "cell_type": "code",
   "execution_count": 22,
   "metadata": {},
   "outputs": [],
   "source": [
    "os.mkdir(\"pasta02\")"
   ]
  },
  {
   "cell_type": "code",
   "execution_count": 23,
   "metadata": {},
   "outputs": [],
   "source": [
    "os.rmdir(\"pasta02\")"
   ]
  },
  {
   "cell_type": "markdown",
   "metadata": {},
   "source": [
    "<h4 style=\"color: #2bb3cc\">Renomear arquivos e pastas</h4>\n",
    "\n",
    "Métodos `rename()` e `replace()`"
   ]
  },
  {
   "cell_type": "code",
   "execution_count": 30,
   "metadata": {},
   "outputs": [],
   "source": [
    "os.replace(\"texto02.txt\", \"texto20.txt\")\n",
    "# ALTERA O NOME DO ARQUVIO"
   ]
  },
  {
   "cell_type": "code",
   "execution_count": 27,
   "metadata": {},
   "outputs": [],
   "source": [
    "os.replace(\"pasta01\", \"pasta10\")"
   ]
  },
  {
   "cell_type": "markdown",
   "metadata": {},
   "source": [
    "<h4 style=\"color: #2bb3cc\">Mover arquivos e pastas</h4>\n",
    "\n",
    "Métodos `rename()` e `replace()`"
   ]
  },
  {
   "cell_type": "code",
   "execution_count": 35,
   "metadata": {},
   "outputs": [],
   "source": [
    "# MOVENDO DE UM LUGAR PARA OUTRO\n",
    "\n",
    "de = os.path.join(os.getcwd(), \"texto20.txt\")\n",
    "para = 'c:\\\\Users\\\\Win10\\\\Desktop\\\\python_empowerdata\\\\Dominando_python\\\\modulo_10_manipulando_arquivos\\\\modulo_os\\\\pasta10'"
   ]
  },
  {
   "cell_type": "code",
   "execution_count": null,
   "metadata": {},
   "outputs": [],
   "source": [
    "os.replace(de, para)"
   ]
  },
  {
   "cell_type": "markdown",
   "metadata": {},
   "source": [
    "<h4 style=\"color: #2bb3cc\">Remover arquivos e pastas</h4>\n",
    "\n",
    "Método `remove()`"
   ]
  },
  {
   "cell_type": "code",
   "execution_count": 38,
   "metadata": {},
   "outputs": [],
   "source": [
    "os.remove('c:\\\\Users\\\\Win10\\\\Desktop\\\\python_empowerdata\\\\Dominando_python\\\\modulo_10_manipulando_arquivos\\\\modulo_os\\\\texto20.txt')"
   ]
  },
  {
   "cell_type": "markdown",
   "metadata": {},
   "source": [
    "<h4 style=\"color: #2bb3cc\">Executando comandos no Sistema Operacional</h4>"
   ]
  },
  {
   "cell_type": "code",
   "execution_count": 40,
   "metadata": {},
   "outputs": [
    {
     "data": {
      "text/plain": [
       "0"
      ]
     },
     "execution_count": 40,
     "metadata": {},
     "output_type": "execute_result"
    }
   ],
   "source": [
    "os.system(\"mkdir teste\")"
   ]
  }
 ],
 "metadata": {
  "kernelspec": {
   "display_name": "Python 3.11.1 64-bit",
   "language": "python",
   "name": "python3"
  },
  "language_info": {
   "codemirror_mode": {
    "name": "ipython",
    "version": 3
   },
   "file_extension": ".py",
   "mimetype": "text/x-python",
   "name": "python",
   "nbconvert_exporter": "python",
   "pygments_lexer": "ipython3",
   "version": "3.11.1"
  },
  "orig_nbformat": 4,
  "vscode": {
   "interpreter": {
    "hash": "95b2d1448bacf9f989af12da1c4c6e35fea5360a0c5347ef00d932450680c179"
   }
  }
 },
 "nbformat": 4,
 "nbformat_minor": 2
}
