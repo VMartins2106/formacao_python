{
 "cells": [
  {
   "cell_type": "markdown",
   "metadata": {},
   "source": [
    "<h4 style=\"color: #2bb3cc\">Trabalhando com arquivos CSV</h4>\n",
    "\n",
    "- CSV - **C**omma **S**eparated **V**alues (valores separados por vírgula)\n",
    "- podemos utilizar o módulo CSV para trabalhar com esse tipo de arquivo\n",
    "    - retorna um objeto _csv.reader"
   ]
  },
  {
   "cell_type": "code",
   "execution_count": 3,
   "metadata": {},
   "outputs": [
    {
     "name": "stdout",
     "output_type": "stream",
     "text": [
      "jose;30\n",
      "gabriel;25\n",
      "lucas;15\n",
      "ana;45\n",
      "maria;60\n",
      "victor;70\n"
     ]
    }
   ],
   "source": [
    "with open('dados.csv') as arquivo:\n",
    "    print(arquivo.read())"
   ]
  },
  {
   "cell_type": "code",
   "execution_count": 6,
   "metadata": {},
   "outputs": [
    {
     "name": "stdout",
     "output_type": "stream",
     "text": [
      "Nome: jose - Idade: 30\n",
      "Nome: gabriel - Idade: 25\n",
      "Nome: lucas - Idade: 15\n",
      "Nome: ana - Idade: 45\n",
      "Nome: maria - Idade: 60\n",
      "Nome: victor - Idade: 70\n"
     ]
    }
   ],
   "source": [
    "import csv\n",
    "\n",
    "with open('dados.csv', 'r') as arquivo:\n",
    "    arquivo_csv = csv.reader(arquivo, delimiter=';') # USA O 'csv.reader()' PARA LER O ARQUIVO\n",
    "    # PODEMOS DELIMITAR O SEPARADOR QUE QUEREMOS USAR COM O 'delimiter'\n",
    "    for dado in arquivo_csv:\n",
    "        print(f'Nome: {dado[0]} - Idade: {dado[1]}')"
   ]
  },
  {
   "cell_type": "markdown",
   "metadata": {},
   "source": [
    "<h4 style=\"color: #2bb3cc\">Trabalhando com arquivos JSON</h4>\n",
    "\n",
    "- JSON - **J**ava**S**cript **O**bject **N**otation\n",
    "- formato padrão para troca de mensagens entre sistemas web\n",
    "- muito utilizados em bancos de dados não relacionais\n",
    "- podemos utilizar o módulo JSON para trabalhar com esse tipo de arquivo\n",
    "    - retorna uma lista"
   ]
  },
  {
   "cell_type": "code",
   "execution_count": 14,
   "metadata": {},
   "outputs": [
    {
     "name": "stdout",
     "output_type": "stream",
     "text": [
      "Nome: Jose - Idade: 25\n",
      "Nome: Maria - Idade: 19\n",
      "Nome: Gabriel - Idade: 21\n",
      "Nome: Lucas - Idade: 16\n"
     ]
    }
   ],
   "source": [
    "import json\n",
    "\n",
    "with open('dados.json', 'r') as arquivo:\n",
    "    arquivo_json = json.load(arquivo)\n",
    "    for dado in arquivo_json:\n",
    "        print(f\"Nome: {dado['nome']} - Idade: {dado['idade']}\")\n"
   ]
  },
  {
   "cell_type": "markdown",
   "metadata": {},
   "source": [
    "<h4 style=\"color: #2bb3cc\">Apresentando o Pandas</h4>\n",
    "\n",
    "- Biblioteca mais popular para tratamento e análise de dados\n",
    "- consegue trabalhar facilmente com vários formatos de arquivos (CSV, JSON, XLSX....)\n",
    "- vamos trabalhar MUITO com a biblioteca Pandas ao longo da nossa Formação!"
   ]
  },
  {
   "cell_type": "code",
   "execution_count": 17,
   "metadata": {},
   "outputs": [],
   "source": [
    "import pandas as pd"
   ]
  },
  {
   "cell_type": "markdown",
   "metadata": {},
   "source": [
    "<h4 style=\"color: #2bb3cc\">Método <code>read_csv()</code></h4>\n",
    "\n",
    "- Lê arquivos no formato CSV \n",
    "- Coloca os dados em um formato tabular chamadado DataFrame"
   ]
  },
  {
   "cell_type": "code",
   "execution_count": 26,
   "metadata": {},
   "outputs": [],
   "source": [
    "arquivo = pd.read_csv('dados.csv', delimiter=';', names=['nome', 'idade'])\n",
    "# COM O PANDAS, PASSAMOS O ARQUIVO, O DELIMITADOR E OS NOMES DAS TABELAS"
   ]
  },
  {
   "cell_type": "code",
   "execution_count": 19,
   "metadata": {},
   "outputs": [
    {
     "data": {
      "text/html": [
       "<div>\n",
       "<style scoped>\n",
       "    .dataframe tbody tr th:only-of-type {\n",
       "        vertical-align: middle;\n",
       "    }\n",
       "\n",
       "    .dataframe tbody tr th {\n",
       "        vertical-align: top;\n",
       "    }\n",
       "\n",
       "    .dataframe thead th {\n",
       "        text-align: right;\n",
       "    }\n",
       "</style>\n",
       "<table border=\"1\" class=\"dataframe\">\n",
       "  <thead>\n",
       "    <tr style=\"text-align: right;\">\n",
       "      <th></th>\n",
       "      <th>nome</th>\n",
       "      <th>idade</th>\n",
       "    </tr>\n",
       "  </thead>\n",
       "  <tbody>\n",
       "    <tr>\n",
       "      <th>0</th>\n",
       "      <td>jose</td>\n",
       "      <td>30</td>\n",
       "    </tr>\n",
       "    <tr>\n",
       "      <th>1</th>\n",
       "      <td>gabriel</td>\n",
       "      <td>25</td>\n",
       "    </tr>\n",
       "    <tr>\n",
       "      <th>2</th>\n",
       "      <td>lucas</td>\n",
       "      <td>15</td>\n",
       "    </tr>\n",
       "    <tr>\n",
       "      <th>3</th>\n",
       "      <td>ana</td>\n",
       "      <td>45</td>\n",
       "    </tr>\n",
       "    <tr>\n",
       "      <th>4</th>\n",
       "      <td>maria</td>\n",
       "      <td>60</td>\n",
       "    </tr>\n",
       "    <tr>\n",
       "      <th>5</th>\n",
       "      <td>victor</td>\n",
       "      <td>70</td>\n",
       "    </tr>\n",
       "  </tbody>\n",
       "</table>\n",
       "</div>"
      ],
      "text/plain": [
       "      nome  idade\n",
       "0     jose     30\n",
       "1  gabriel     25\n",
       "2    lucas     15\n",
       "3      ana     45\n",
       "4    maria     60\n",
       "5   victor     70"
      ]
     },
     "execution_count": 19,
     "metadata": {},
     "output_type": "execute_result"
    }
   ],
   "source": [
    "arquivo"
   ]
  },
  {
   "cell_type": "markdown",
   "metadata": {},
   "source": [
    "<h4 style=\"color: #2bb3cc\">Método <code>read_json()</code></h4>\n",
    "\n",
    "- Lê arquivos no formato JSON \n",
    "- Coloca os dados em um formato tabular chamadado DataFrame"
   ]
  },
  {
   "cell_type": "code",
   "execution_count": 28,
   "metadata": {},
   "outputs": [],
   "source": [
    "arquivo = pd.read_json('dados.json') # COM JSON, SÓ DAMOS O NOME DO ARQUIVO E JÁ FUNCIONA"
   ]
  },
  {
   "cell_type": "code",
   "execution_count": 22,
   "metadata": {},
   "outputs": [
    {
     "data": {
      "text/html": [
       "<div>\n",
       "<style scoped>\n",
       "    .dataframe tbody tr th:only-of-type {\n",
       "        vertical-align: middle;\n",
       "    }\n",
       "\n",
       "    .dataframe tbody tr th {\n",
       "        vertical-align: top;\n",
       "    }\n",
       "\n",
       "    .dataframe thead th {\n",
       "        text-align: right;\n",
       "    }\n",
       "</style>\n",
       "<table border=\"1\" class=\"dataframe\">\n",
       "  <thead>\n",
       "    <tr style=\"text-align: right;\">\n",
       "      <th></th>\n",
       "      <th>nome</th>\n",
       "      <th>idade</th>\n",
       "    </tr>\n",
       "  </thead>\n",
       "  <tbody>\n",
       "    <tr>\n",
       "      <th>0</th>\n",
       "      <td>Jose</td>\n",
       "      <td>25</td>\n",
       "    </tr>\n",
       "    <tr>\n",
       "      <th>1</th>\n",
       "      <td>Maria</td>\n",
       "      <td>19</td>\n",
       "    </tr>\n",
       "    <tr>\n",
       "      <th>2</th>\n",
       "      <td>Gabriel</td>\n",
       "      <td>21</td>\n",
       "    </tr>\n",
       "    <tr>\n",
       "      <th>3</th>\n",
       "      <td>Lucas</td>\n",
       "      <td>16</td>\n",
       "    </tr>\n",
       "  </tbody>\n",
       "</table>\n",
       "</div>"
      ],
      "text/plain": [
       "      nome  idade\n",
       "0     Jose     25\n",
       "1    Maria     19\n",
       "2  Gabriel     21\n",
       "3    Lucas     16"
      ]
     },
     "execution_count": 22,
     "metadata": {},
     "output_type": "execute_result"
    }
   ],
   "source": [
    "arquivo"
   ]
  },
  {
   "cell_type": "markdown",
   "metadata": {},
   "source": [
    "<h4 style=\"color: #2bb3cc\">Salvando um arquivo com o Pandas</code></h4>"
   ]
  },
  {
   "cell_type": "code",
   "execution_count": 29,
   "metadata": {},
   "outputs": [],
   "source": [
    "arquivo.to_csv('dados_json_em_csv.csv', index=False) \n",
    "# COM ISSO, SALVAMOS UM ARQUIVO JSON EM CSV"
   ]
  }
 ],
 "metadata": {
  "kernelspec": {
   "display_name": "Python 3.11.1 64-bit",
   "language": "python",
   "name": "python3"
  },
  "language_info": {
   "codemirror_mode": {
    "name": "ipython",
    "version": 3
   },
   "file_extension": ".py",
   "mimetype": "text/x-python",
   "name": "python",
   "nbconvert_exporter": "python",
   "pygments_lexer": "ipython3",
   "version": "3.11.1"
  },
  "orig_nbformat": 4,
  "vscode": {
   "interpreter": {
    "hash": "95b2d1448bacf9f989af12da1c4c6e35fea5360a0c5347ef00d932450680c179"
   }
  }
 },
 "nbformat": 4,
 "nbformat_minor": 2
}
