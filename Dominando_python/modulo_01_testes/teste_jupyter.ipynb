{
 "cells": [
  {
   "cell_type": "code",
   "execution_count": 1,
   "metadata": {},
   "outputs": [
    {
     "name": "stdout",
     "output_type": "stream",
     "text": [
      "Testando o jupyter notebook dentro do VS code\n"
     ]
    }
   ],
   "source": [
    "print('Testando o jupyter notebook dentro do VS code')"
   ]
  }
 ],
 "metadata": {
  "kernelspec": {
   "display_name": "Python 3.9.13 ('base')",
   "language": "python",
   "name": "python3"
  },
  "language_info": {
   "codemirror_mode": {
    "name": "ipython",
    "version": 3
   },
   "file_extension": ".py",
   "mimetype": "text/x-python",
   "name": "python",
   "nbconvert_exporter": "python",
   "pygments_lexer": "ipython3",
   "version": "3.9.13"
  },
  "orig_nbformat": 4,
  "vscode": {
   "interpreter": {
    "hash": "8bd85b9f08aaa5135c8387a0c1e096579749b0a2e64b071c4a34f95dfb0716ad"
   }
  }
 },
 "nbformat": 4,
 "nbformat_minor": 2
}
