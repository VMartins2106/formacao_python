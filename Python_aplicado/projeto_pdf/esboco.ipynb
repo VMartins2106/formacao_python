{
 "cells": [
  {
   "cell_type": "code",
   "execution_count": 3,
   "metadata": {},
   "outputs": [],
   "source": [
    "import pdfplumber\n",
    "import openpyxl as xl"
   ]
  },
  {
   "cell_type": "code",
   "execution_count": 14,
   "metadata": {},
   "outputs": [],
   "source": [
    "# Funcionalidades básicas do openpyxl\n",
    "\n",
    "excel = xl.load_workbook('Banco de Inspeções.xlsx')"
   ]
  },
  {
   "cell_type": "code",
   "execution_count": 15,
   "metadata": {},
   "outputs": [],
   "source": [
    "# ATIVANDO ABAS NO EXCEL\n",
    "aba = excel.active"
   ]
  },
  {
   "cell_type": "code",
   "execution_count": 11,
   "metadata": {},
   "outputs": [
    {
     "name": "stdout",
     "output_type": "stream",
     "text": [
      "Data da Inspeção\n",
      "Empresa\n",
      "Departamento\n",
      "Setor\n",
      "Status\n"
     ]
    }
   ],
   "source": [
    "print(aba['A1'].value)\n",
    "print(aba['B1'].value)\n",
    "print(aba['C1'].value)\n",
    "print(aba['D1'].value)\n",
    "print(aba['E1'].value)"
   ]
  },
  {
   "cell_type": "code",
   "execution_count": 16,
   "metadata": {},
   "outputs": [
    {
     "data": {
      "text/plain": [
       "1"
      ]
     },
     "execution_count": 16,
     "metadata": {},
     "output_type": "execute_result"
    }
   ],
   "source": [
    "len(aba['A'])"
   ]
  },
  {
   "cell_type": "code",
   "execution_count": 21,
   "metadata": {},
   "outputs": [
    {
     "data": {
      "text/plain": [
       "'Empresa'"
      ]
     },
     "execution_count": 21,
     "metadata": {},
     "output_type": "execute_result"
    }
   ],
   "source": [
    "# NO EXCEL O ÍNDICE COMEÇA EM 1, TOMAR MUITO CUIDADO\n",
    "aba.cell(row=1, column=2).value\n",
    "# PARA VER O CONTEÚDO DE UMA CÉLULA"
   ]
  },
  {
   "cell_type": "code",
   "execution_count": 23,
   "metadata": {},
   "outputs": [],
   "source": [
    "#ADICIONAR ALGO NA TABELA\n",
    "aba.cell(row=2, column=1).value = 'Empowerdata'\n",
    "#SALVANDO ARQUIVO\n",
    "excel.save('Banco de Inspeções.xlsx')"
   ]
  },
  {
   "cell_type": "code",
   "execution_count": 24,
   "metadata": {},
   "outputs": [
    {
     "data": {
      "text/plain": [
       "pdfplumber.pdf.PDF"
      ]
     },
     "execution_count": 24,
     "metadata": {},
     "output_type": "execute_result"
    }
   ],
   "source": [
    "# FUNCIONALIDADES BÁSICAS DO PDFPLUMBER\n",
    "\n",
    "pdf = pdfplumber.open('pdfs\\Relatório de Inspeção Empresa A.pdf')\n",
    "type(pdf)"
   ]
  },
  {
   "cell_type": "code",
   "execution_count": 26,
   "metadata": {},
   "outputs": [],
   "source": [
    "# TRAZ A LISTA DE PAGINAS -> pdf.pages\n",
    "\n",
    "pagina = pdf.pages[0]"
   ]
  },
  {
   "cell_type": "code",
   "execution_count": 33,
   "metadata": {},
   "outputs": [
    {
     "data": {
      "text/plain": [
       "list"
      ]
     },
     "execution_count": 33,
     "metadata": {},
     "output_type": "execute_result"
    }
   ],
   "source": [
    "dados = pagina.extract_table() # RETORNA UMA LISTA\n",
    "type(dados)"
   ]
  },
  {
   "cell_type": "code",
   "execution_count": 34,
   "metadata": {},
   "outputs": [
    {
     "data": {
      "text/plain": [
       "40"
      ]
     },
     "execution_count": 34,
     "metadata": {},
     "output_type": "execute_result"
    }
   ],
   "source": [
    "len(dados)"
   ]
  },
  {
   "cell_type": "code",
   "execution_count": 35,
   "metadata": {},
   "outputs": [
    {
     "data": {
      "text/plain": [
       "[['Data da inspeção', 'Empresa', 'Departamento', 'Setor', 'Status'],\n",
       " ['01/01/2022', 'Empresa A', 'Recursos Humanos', 'Sala 1', 'Aprovado'],\n",
       " ['01/01/2022', 'Empresa A', 'Recursos Humanos', 'Sala 2', 'Aprovado'],\n",
       " ['01/01/2022', 'Empresa A', 'Recursos Humanos', 'Sala3', 'Aprovado'],\n",
       " ['01/01/2022', 'Empresa A', 'Recursos Humanos', 'Sala 4', 'Aprovado'],\n",
       " ['01/01/2022', 'Empresa A', 'Recursos Humanos', 'Banheiro', 'Reprovado'],\n",
       " ['01/01/2022', 'Empresa A', 'Recursos Humanos', 'Refeitório', 'Aprovado'],\n",
       " ['01/01/2022', 'Empresa A', 'Recursos Humanos', 'Sala 5', 'Aprovado'],\n",
       " ['02/02/2022', 'Empresa A', 'Tecnologia da Informação', 'Sala 1', 'Aprovado'],\n",
       " ['02/02/2022', 'Empresa A', 'Tecnologia da Informação', 'Sala 2', 'Aprovado'],\n",
       " ['02/02/2022', 'Empresa A', 'Tecnologia da Informação', 'Sala 3', 'Aprovado'],\n",
       " ['02/02/2022',\n",
       "  'Empresa A',\n",
       "  'Tecnologia da Informação',\n",
       "  'Banheiro',\n",
       "  'Reprovado'],\n",
       " ['02/02/2022',\n",
       "  'Empresa A',\n",
       "  'Tecnologia da Informação',\n",
       "  'Refeitório',\n",
       "  'Aprovado'],\n",
       " ['03/02/2022', 'Empresa A', 'Galpão I', 'Aréa descarga', 'Aprovado'],\n",
       " ['03/02/2022', 'Empresa A', 'Galpão I', 'Sala 1', 'Aprovado'],\n",
       " ['03/02/2022', 'Empresa A', 'Galpão I', 'Sala 2', 'Aprovado'],\n",
       " ['03/02/2022', 'Empresa A', 'Galpão I', 'Sala 3', 'Aprovado'],\n",
       " ['03/02/2022', 'Empresa A', 'Galpão I', 'Área carga', 'Aprovado'],\n",
       " ['03/02/2022', 'Empresa A', 'Galpão I', 'Refeitório', 'Aprovado'],\n",
       " ['03/02/2022', 'Empresa A', 'Galpão I', 'Banheiro', 'Reprovado'],\n",
       " ['', '', '', '', ''],\n",
       " ['', '', '', '', ''],\n",
       " ['', '', '', '', ''],\n",
       " ['', '', '', '', ''],\n",
       " ['', '', '', '', ''],\n",
       " ['', '', '', '', ''],\n",
       " ['', '', '', '', ''],\n",
       " ['', '', '', '', ''],\n",
       " ['', '', '', '', ''],\n",
       " ['', '', '', '', ''],\n",
       " ['', '', '', '', ''],\n",
       " ['', '', '', '', ''],\n",
       " ['', '', '', '', ''],\n",
       " ['', '', '', '', ''],\n",
       " ['', '', '', '', ''],\n",
       " ['', '', '', '', ''],\n",
       " ['', '', '', '', ''],\n",
       " ['', '', '', '', ''],\n",
       " ['', '', '', '', ''],\n",
       " ['', '', '', '', '']]"
      ]
     },
     "execution_count": 35,
     "metadata": {},
     "output_type": "execute_result"
    }
   ],
   "source": [
    "dados"
   ]
  },
  {
   "cell_type": "code",
   "execution_count": null,
   "metadata": {},
   "outputs": [],
   "source": []
  }
 ],
 "metadata": {
  "kernelspec": {
   "display_name": "Python 3.11.1 ('venv': venv)",
   "language": "python",
   "name": "python3"
  },
  "language_info": {
   "codemirror_mode": {
    "name": "ipython",
    "version": 3
   },
   "file_extension": ".py",
   "mimetype": "text/x-python",
   "name": "python",
   "nbconvert_exporter": "python",
   "pygments_lexer": "ipython3",
   "version": "3.11.1"
  },
  "orig_nbformat": 4,
  "vscode": {
   "interpreter": {
    "hash": "6eba628d33a82005058fa76a85f81a17d85affe3a5e5b7f35abe9079f50b4609"
   }
  }
 },
 "nbformat": 4,
 "nbformat_minor": 2
}
