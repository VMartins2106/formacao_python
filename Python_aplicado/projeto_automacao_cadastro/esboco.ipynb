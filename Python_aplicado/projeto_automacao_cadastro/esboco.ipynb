{
 "cells": [
  {
   "cell_type": "markdown",
   "metadata": {},
   "source": [
    "### Entendendo o funcionamento do 'Selenium'"
   ]
  },
  {
   "cell_type": "code",
   "execution_count": 30,
   "metadata": {},
   "outputs": [],
   "source": [
    "from selenium import webdriver\n",
    "from selenium.webdriver.common.keys import Keys\n",
    "from selenium.webdriver.common.by import By\n",
    "import time"
   ]
  },
  {
   "cell_type": "code",
   "execution_count": 32,
   "metadata": {},
   "outputs": [],
   "source": [
    "browser = webdriver.Chrome() # Abertura do chrome\n",
    "browser.maximize_window() # Maximizando a janela do chrome\n",
    "browser.get('http://automacao.empowerdata.com.br/') # Entra no site desejado\n",
    "\n",
    "email = browser.find_element(By.XPATH, '//*[@id=\"email\"]') # Acha o input do email a ser informado no site\n",
    "email.send_keys('aluno@empowerdata.com.br') # Cola o email no campo selecionado\n",
    "time.sleep(1)\n",
    "# email.send_keys(Keys.TAB) Isto dá tab, para ir o próximo input\n",
    "login = browser.find_element(By.XPATH, '//*[@id=\"password\"]') # Acha o input da senha a ser informado no site\n",
    "login.send_keys('empowerpython') # Cola a senha no campo selecionado\n",
    "\n",
    "botao_entrar = browser.find_element(By.XPATH, '//*[@id=\"submit\"]') # Acha o input do botão a ser clicado no site\n",
    "botao_entrar.click() # Clica no botão"
   ]
  },
  {
   "cell_type": "code",
   "execution_count": null,
   "metadata": {},
   "outputs": [],
   "source": [
    "# Com o mesmo sistema para logar, iremos preencher os campos\n",
    "\n",
    "nome_cliente = browser.find_element(By.XPATH, '//*[@id=\"nome\"]')\n",
    "nome_cliente.send_keys('Victor')\n",
    "\n",
    "email_cliente = browser.find_element(By.XPATH, '//*[@id=\"email\"]')\n",
    "email_cliente.send_keys('victor.martins21@gmail.com')\n",
    "\n",
    "telefone_cliente = browser.find_element(By.XPATH, '//*[@id=\"telefone\"]')\n",
    "telefone_cliente.send_keys('(11)960586785')\n",
    "\n",
    "cidade_cliente = browser.find_element(By.XPATH, '//*[@id=\"cidade\"]')\n",
    "cidade_cliente.send_keys('Caieiras')\n",
    "\n",
    "estado_cliente = browser.find_element(By.XPATH, '//*[@id=\"estado\"]')\n",
    "estado_cliente.send_keys('São Paulo')"
   ]
  },
  {
   "cell_type": "code",
   "execution_count": null,
   "metadata": {},
   "outputs": [],
   "source": [
    "# Efetuando o cadastro\n",
    "\n",
    "botao_cadastrar = browser.find_element(By.XPATH, '//*[@id=\"submit\"]')\n",
    "botao_cadastrar.click()"
   ]
  },
  {
   "cell_type": "code",
   "execution_count": null,
   "metadata": {},
   "outputs": [],
   "source": [
    "import pandas as pd"
   ]
  },
  {
   "cell_type": "code",
   "execution_count": null,
   "metadata": {},
   "outputs": [],
   "source": [
    "df = pd.read_excel('cadastro_clientes.xlsx')"
   ]
  },
  {
   "cell_type": "code",
   "execution_count": null,
   "metadata": {},
   "outputs": [
    {
     "data": {
      "text/html": [
       "<div>\n",
       "<style scoped>\n",
       "    .dataframe tbody tr th:only-of-type {\n",
       "        vertical-align: middle;\n",
       "    }\n",
       "\n",
       "    .dataframe tbody tr th {\n",
       "        vertical-align: top;\n",
       "    }\n",
       "\n",
       "    .dataframe thead th {\n",
       "        text-align: right;\n",
       "    }\n",
       "</style>\n",
       "<table border=\"1\" class=\"dataframe\">\n",
       "  <thead>\n",
       "    <tr style=\"text-align: right;\">\n",
       "      <th></th>\n",
       "      <th>Nome</th>\n",
       "      <th>E-mail</th>\n",
       "      <th>Telefone</th>\n",
       "      <th>Cidade</th>\n",
       "      <th>Estado</th>\n",
       "    </tr>\n",
       "  </thead>\n",
       "  <tbody>\n",
       "    <tr>\n",
       "      <th>0</th>\n",
       "      <td>Joana Cardoso</td>\n",
       "      <td>joana.cardoso@exemplo.com.br</td>\n",
       "      <td>(11) 9218-5801</td>\n",
       "      <td>São Bernardo</td>\n",
       "      <td>São Paulo</td>\n",
       "    </tr>\n",
       "    <tr>\n",
       "      <th>1</th>\n",
       "      <td>Bryan Duarte</td>\n",
       "      <td>bryan.duarte@exemplo.com.br</td>\n",
       "      <td>(21) 3547-3474</td>\n",
       "      <td>Niterói</td>\n",
       "      <td>Rio de Janeiro</td>\n",
       "    </tr>\n",
       "    <tr>\n",
       "      <th>2</th>\n",
       "      <td>Fernanda Nogueira</td>\n",
       "      <td>fernanda.nogueira@exemplo.com.br</td>\n",
       "      <td>(31) 1090-7993</td>\n",
       "      <td>Belo Horizonte</td>\n",
       "      <td>Minas Gerais</td>\n",
       "    </tr>\n",
       "    <tr>\n",
       "      <th>3</th>\n",
       "      <td>Juan Azevedo</td>\n",
       "      <td>juan.azevedo@exemplo.com.br</td>\n",
       "      <td>(41) 3452-3039</td>\n",
       "      <td>Curitiba</td>\n",
       "      <td>Paraná</td>\n",
       "    </tr>\n",
       "    <tr>\n",
       "      <th>4</th>\n",
       "      <td>Lucca Duarte</td>\n",
       "      <td>lucca.duarte@exemplo.com.br</td>\n",
       "      <td>(51) 3456-3454</td>\n",
       "      <td>Porto Alegre</td>\n",
       "      <td>Rio Grande do Sul</td>\n",
       "    </tr>\n",
       "  </tbody>\n",
       "</table>\n",
       "</div>"
      ],
      "text/plain": [
       "                Nome                            E-mail        Telefone  \\\n",
       "0      Joana Cardoso      joana.cardoso@exemplo.com.br  (11) 9218-5801   \n",
       "1       Bryan Duarte       bryan.duarte@exemplo.com.br  (21) 3547-3474   \n",
       "2  Fernanda Nogueira  fernanda.nogueira@exemplo.com.br  (31) 1090-7993   \n",
       "3       Juan Azevedo       juan.azevedo@exemplo.com.br  (41) 3452-3039   \n",
       "4       Lucca Duarte       lucca.duarte@exemplo.com.br  (51) 3456-3454   \n",
       "\n",
       "           Cidade             Estado  \n",
       "0    São Bernardo          São Paulo  \n",
       "1         Niterói     Rio de Janeiro  \n",
       "2  Belo Horizonte       Minas Gerais  \n",
       "3        Curitiba             Paraná  \n",
       "4    Porto Alegre  Rio Grande do Sul  "
      ]
     },
     "execution_count": 26,
     "metadata": {},
     "output_type": "execute_result"
    }
   ],
   "source": [
    "df.head() # Testando"
   ]
  },
  {
   "cell_type": "code",
   "execution_count": 33,
   "metadata": {},
   "outputs": [],
   "source": [
    "for _, linha in df.iterrows():\n",
    "    nome_cliente = browser.find_element(By.XPATH, '//*[@id=\"nome\"]')\n",
    "    nome_cliente.send_keys(linha['Nome'])\n",
    "\n",
    "    email_cliente = browser.find_element(By.XPATH, '//*[@id=\"email\"]')\n",
    "    email_cliente.send_keys(linha['E-mail'])\n",
    "\n",
    "    telefone_cliente = browser.find_element(By.XPATH, '//*[@id=\"telefone\"]')\n",
    "    telefone_cliente.send_keys(linha['Telefone'])\n",
    "\n",
    "    cidade_cliente = browser.find_element(By.XPATH, '//*[@id=\"cidade\"]')\n",
    "    cidade_cliente.send_keys(linha['Cidade'])\n",
    "\n",
    "    estado_cliente = browser.find_element(By.XPATH, '//*[@id=\"estado\"]')\n",
    "    estado_cliente.send_keys(linha['Estado'])\n",
    "\n",
    "    time.sleep(3)\n",
    "\n",
    "    botao_cadastrar = browser.find_element(By.XPATH, '//*[@id=\"submit\"]')\n",
    "    botao_cadastrar.click()\n",
    "\n",
    "    break"
   ]
  },
  {
   "cell_type": "code",
   "execution_count": null,
   "metadata": {},
   "outputs": [],
   "source": []
  }
 ],
 "metadata": {
  "kernelspec": {
   "display_name": "Python 3.11.1 ('venv': venv)",
   "language": "python",
   "name": "python3"
  },
  "language_info": {
   "codemirror_mode": {
    "name": "ipython",
    "version": 3
   },
   "file_extension": ".py",
   "mimetype": "text/x-python",
   "name": "python",
   "nbconvert_exporter": "python",
   "pygments_lexer": "ipython3",
   "version": "3.11.1"
  },
  "orig_nbformat": 4,
  "vscode": {
   "interpreter": {
    "hash": "0ed3e37d6b0fb7c75240ee53e65367712cc716780fb07cd0229950463fb4a134"
   }
  }
 },
 "nbformat": 4,
 "nbformat_minor": 2
}
