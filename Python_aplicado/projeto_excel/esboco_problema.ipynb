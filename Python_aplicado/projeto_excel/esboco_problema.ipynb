{
 "cells": [
  {
   "cell_type": "markdown",
   "metadata": {},
   "source": [
    "# Duvidas\n",
    "\n",
    "## Esboço e estudo do problema"
   ]
  },
  {
   "cell_type": "markdown",
   "metadata": {},
   "source": [
    "-Planilhas excel:"
   ]
  },
  {
   "cell_type": "markdown",
   "metadata": {},
   "source": [
    "5 'tipos' de arquivos diferentes: \n",
    "- **governo**\n",
    "- **grandes empresas**\n",
    "- **medias empresas**\n",
    "- **pequenas empresas**\n",
    "- **vendas online**"
   ]
  },
  {
   "cell_type": "markdown",
   "metadata": {},
   "source": [
    "Explorando os arquivos:\n",
    "\n",
    "( selecione toda a planilha, vá em alguma coluna, botão direito -> re-exibir )\n",
    "(pra ver se tem alguma coluna oculta)\n",
    "\n",
    "(exemplo de perguntas e respostas fictícias sobre o problema)\n",
    "- **total de colunas: 11**\n",
    "- \n",
    "- a data é a data de que? lançamento? realização da venda? ou outra coisa?\n",
    "    - RESPOSTA: **Data significa data de realização da venda**\n",
    "- \n",
    "- nome da aba é sempre dados?\n",
    "    - RESPOSTA: **Sim**\n",
    "- \n",
    "- quem são os compradores?\n",
    "    - o nome do arquivo é esta resposta?\n",
    "    - RESPOSTA: **Nome do arquivo é configurado da seguinte forma:**:\n",
    "        - *nome do segmento - país onde foi realizada a venda*\n",
    "- \n",
    "- qual é a origem desses relatórios?\n",
    "    - RESPOSTA: **São extraídos do sistema de vendas**\n",
    "- \n",
    "Ir conversar com quem forneceu os dados "
   ]
  },
  {
   "cell_type": "markdown",
   "metadata": {},
   "source": [
    "# Passo a passo:\n",
    "\n",
    "- Criar uma planilha em branco\n",
    "- Replicar as colunas existentes nos relatórios (11 colunas)\n",
    "- Inserir duas novas colunas: Segmento e país\n",
    "- Percorrer todos os arquivos, copiar os dados, colar na planilha consolidade e preencher\n",
    "as informações de segmento e país"
   ]
  },
  {
   "cell_type": "code",
   "execution_count": 3,
   "metadata": {},
   "outputs": [],
   "source": [
    "import pandas as pd\n",
    "import os\n",
    "import datetime"
   ]
  },
  {
   "cell_type": "code",
   "execution_count": 4,
   "metadata": {},
   "outputs": [],
   "source": [
    "data = datetime.datetime.now()"
   ]
  },
  {
   "cell_type": "code",
   "execution_count": 19,
   "metadata": {},
   "outputs": [],
   "source": [
    "colunas = [\n",
    "    'Segmento',\n",
    "    'País',\n",
    "    'Produto',\n",
    "    'Qtde de Unidades Vendidas',\n",
    "    'Preço Unitário',\n",
    "    'Valor Total',\n",
    "    'Desconto',\n",
    "    'Valor Total c/ Desconto',\n",
    "    'Custo Total',\n",
    "    'Lucro',\n",
    "    'Data',\n",
    "    'Mês',\n",
    "    'Ano'\n",
    "]\n",
    "consolidado = pd.DataFrame(columns=colunas,dtype=float)"
   ]
  },
  {
   "cell_type": "code",
   "execution_count": 3,
   "metadata": {},
   "outputs": [
    {
     "data": {
      "text/plain": [
       "pandas.core.frame.DataFrame"
      ]
     },
     "execution_count": 3,
     "metadata": {},
     "output_type": "execute_result"
    }
   ],
   "source": [
    "type(consolidado)"
   ]
  },
  {
   "cell_type": "code",
   "execution_count": 4,
   "metadata": {},
   "outputs": [
    {
     "data": {
      "text/html": [
       "<div>\n",
       "<style scoped>\n",
       "    .dataframe tbody tr th:only-of-type {\n",
       "        vertical-align: middle;\n",
       "    }\n",
       "\n",
       "    .dataframe tbody tr th {\n",
       "        vertical-align: top;\n",
       "    }\n",
       "\n",
       "    .dataframe thead th {\n",
       "        text-align: right;\n",
       "    }\n",
       "</style>\n",
       "<table border=\"1\" class=\"dataframe\">\n",
       "  <thead>\n",
       "    <tr style=\"text-align: right;\">\n",
       "      <th></th>\n",
       "      <th>Segmento</th>\n",
       "      <th>País</th>\n",
       "      <th>Produto</th>\n",
       "      <th>Qtde de Unidades Vendidas</th>\n",
       "      <th>Preço Unitário</th>\n",
       "      <th>Valor Total</th>\n",
       "      <th>Desconto</th>\n",
       "      <th>Valor Total c/ Desconto</th>\n",
       "      <th>Custo Total</th>\n",
       "      <th>Lucro</th>\n",
       "      <th>Data</th>\n",
       "      <th>Mês</th>\n",
       "      <th>Ano</th>\n",
       "    </tr>\n",
       "  </thead>\n",
       "  <tbody>\n",
       "  </tbody>\n",
       "</table>\n",
       "</div>"
      ],
      "text/plain": [
       "Empty DataFrame\n",
       "Columns: [Segmento, País, Produto, Qtde de Unidades Vendidas, Preço Unitário, Valor Total, Desconto, Valor Total c/ Desconto, Custo Total, Lucro, Data, Mês, Ano]\n",
       "Index: []"
      ]
     },
     "execution_count": 4,
     "metadata": {},
     "output_type": "execute_result"
    }
   ],
   "source": [
    "consolidado"
   ]
  },
  {
   "cell_type": "code",
   "execution_count": 6,
   "metadata": {},
   "outputs": [],
   "source": [
    "arquivos = os.listdir(r\"C:\\Users\\Win10\\Desktop\\python_empowerdata\\Python_aplicado\\projeto_excel\\planilhas\")\n",
    "# COM ESTE CAMINHO:\n",
    "# C:\\Users\\Win10\\Desktop\\python_empowerdata\\Python_aplicado\\projeto_excel\\planilhas\n",
    "# OU COLOCA O  'r' NA FRENTE, OU DUPLICA AS CONTRA BARRAS, PARA NÃO VIRAR ESCAPE"
   ]
  },
  {
   "cell_type": "code",
   "execution_count": 21,
   "metadata": {},
   "outputs": [
    {
     "name": "stderr",
     "output_type": "stream",
     "text": [
      "C:\\Users\\Win10\\AppData\\Local\\Temp\\ipykernel_13780\\2629949253.py:18: FutureWarning: The frame.append method is deprecated and will be removed from pandas in a future version. Use pandas.concat instead.\n",
      "  consolidado = consolidado.append(df)\n",
      "C:\\Users\\Win10\\AppData\\Local\\Temp\\ipykernel_13780\\2629949253.py:18: FutureWarning: The frame.append method is deprecated and will be removed from pandas in a future version. Use pandas.concat instead.\n",
      "  consolidado = consolidado.append(df)\n",
      "C:\\Users\\Win10\\AppData\\Local\\Temp\\ipykernel_13780\\2629949253.py:18: FutureWarning: The frame.append method is deprecated and will be removed from pandas in a future version. Use pandas.concat instead.\n",
      "  consolidado = consolidado.append(df)\n",
      "C:\\Users\\Win10\\AppData\\Local\\Temp\\ipykernel_13780\\2629949253.py:18: FutureWarning: The frame.append method is deprecated and will be removed from pandas in a future version. Use pandas.concat instead.\n",
      "  consolidado = consolidado.append(df)\n",
      "C:\\Users\\Win10\\AppData\\Local\\Temp\\ipykernel_13780\\2629949253.py:18: FutureWarning: The frame.append method is deprecated and will be removed from pandas in a future version. Use pandas.concat instead.\n",
      "  consolidado = consolidado.append(df)\n",
      "C:\\Users\\Win10\\AppData\\Local\\Temp\\ipykernel_13780\\2629949253.py:18: FutureWarning: The frame.append method is deprecated and will be removed from pandas in a future version. Use pandas.concat instead.\n",
      "  consolidado = consolidado.append(df)\n",
      "C:\\Users\\Win10\\AppData\\Local\\Temp\\ipykernel_13780\\2629949253.py:18: FutureWarning: The frame.append method is deprecated and will be removed from pandas in a future version. Use pandas.concat instead.\n",
      "  consolidado = consolidado.append(df)\n",
      "C:\\Users\\Win10\\AppData\\Local\\Temp\\ipykernel_13780\\2629949253.py:18: FutureWarning: The frame.append method is deprecated and will be removed from pandas in a future version. Use pandas.concat instead.\n",
      "  consolidado = consolidado.append(df)\n",
      "C:\\Users\\Win10\\AppData\\Local\\Temp\\ipykernel_13780\\2629949253.py:18: FutureWarning: The frame.append method is deprecated and will be removed from pandas in a future version. Use pandas.concat instead.\n",
      "  consolidado = consolidado.append(df)\n",
      "C:\\Users\\Win10\\AppData\\Local\\Temp\\ipykernel_13780\\2629949253.py:18: FutureWarning: The frame.append method is deprecated and will be removed from pandas in a future version. Use pandas.concat instead.\n",
      "  consolidado = consolidado.append(df)\n",
      "C:\\Users\\Win10\\AppData\\Local\\Temp\\ipykernel_13780\\2629949253.py:18: FutureWarning: The frame.append method is deprecated and will be removed from pandas in a future version. Use pandas.concat instead.\n",
      "  consolidado = consolidado.append(df)\n",
      "C:\\Users\\Win10\\AppData\\Local\\Temp\\ipykernel_13780\\2629949253.py:18: FutureWarning: The frame.append method is deprecated and will be removed from pandas in a future version. Use pandas.concat instead.\n",
      "  consolidado = consolidado.append(df)\n",
      "C:\\Users\\Win10\\AppData\\Local\\Temp\\ipykernel_13780\\2629949253.py:18: FutureWarning: The frame.append method is deprecated and will be removed from pandas in a future version. Use pandas.concat instead.\n",
      "  consolidado = consolidado.append(df)\n",
      "C:\\Users\\Win10\\AppData\\Local\\Temp\\ipykernel_13780\\2629949253.py:18: FutureWarning: The frame.append method is deprecated and will be removed from pandas in a future version. Use pandas.concat instead.\n",
      "  consolidado = consolidado.append(df)\n",
      "C:\\Users\\Win10\\AppData\\Local\\Temp\\ipykernel_13780\\2629949253.py:18: FutureWarning: The frame.append method is deprecated and will be removed from pandas in a future version. Use pandas.concat instead.\n",
      "  consolidado = consolidado.append(df)\n",
      "C:\\Users\\Win10\\AppData\\Local\\Temp\\ipykernel_13780\\2629949253.py:18: FutureWarning: The frame.append method is deprecated and will be removed from pandas in a future version. Use pandas.concat instead.\n",
      "  consolidado = consolidado.append(df)\n",
      "C:\\Users\\Win10\\AppData\\Local\\Temp\\ipykernel_13780\\2629949253.py:18: FutureWarning: The frame.append method is deprecated and will be removed from pandas in a future version. Use pandas.concat instead.\n",
      "  consolidado = consolidado.append(df)\n",
      "C:\\Users\\Win10\\AppData\\Local\\Temp\\ipykernel_13780\\2629949253.py:18: FutureWarning: The frame.append method is deprecated and will be removed from pandas in a future version. Use pandas.concat instead.\n",
      "  consolidado = consolidado.append(df)\n",
      "C:\\Users\\Win10\\AppData\\Local\\Temp\\ipykernel_13780\\2629949253.py:18: FutureWarning: The frame.append method is deprecated and will be removed from pandas in a future version. Use pandas.concat instead.\n",
      "  consolidado = consolidado.append(df)\n",
      "C:\\Users\\Win10\\AppData\\Local\\Temp\\ipykernel_13780\\2629949253.py:18: FutureWarning: The frame.append method is deprecated and will be removed from pandas in a future version. Use pandas.concat instead.\n",
      "  consolidado = consolidado.append(df)\n",
      "C:\\Users\\Win10\\AppData\\Local\\Temp\\ipykernel_13780\\2629949253.py:18: FutureWarning: The frame.append method is deprecated and will be removed from pandas in a future version. Use pandas.concat instead.\n",
      "  consolidado = consolidado.append(df)\n",
      "C:\\Users\\Win10\\AppData\\Local\\Temp\\ipykernel_13780\\2629949253.py:18: FutureWarning: The frame.append method is deprecated and will be removed from pandas in a future version. Use pandas.concat instead.\n",
      "  consolidado = consolidado.append(df)\n",
      "C:\\Users\\Win10\\AppData\\Local\\Temp\\ipykernel_13780\\2629949253.py:18: FutureWarning: The frame.append method is deprecated and will be removed from pandas in a future version. Use pandas.concat instead.\n",
      "  consolidado = consolidado.append(df)\n",
      "C:\\Users\\Win10\\AppData\\Local\\Temp\\ipykernel_13780\\2629949253.py:18: FutureWarning: The frame.append method is deprecated and will be removed from pandas in a future version. Use pandas.concat instead.\n",
      "  consolidado = consolidado.append(df)\n",
      "C:\\Users\\Win10\\AppData\\Local\\Temp\\ipykernel_13780\\2629949253.py:18: FutureWarning: The frame.append method is deprecated and will be removed from pandas in a future version. Use pandas.concat instead.\n",
      "  consolidado = consolidado.append(df)\n"
     ]
    }
   ],
   "source": [
    "for arquivo in arquivos:\n",
    "\n",
    "    if arquivo.endswith('.xlsx'):\n",
    "    \n",
    "        dados_arquivo = arquivo.split('-') # SEPARA O SEGMENTO DO PAÍS COM O 'SPLIT'\n",
    "        segmento = dados_arquivo[0] # ATRIBUI O SEGMENTO SEPARADO PARA VARIÁVEL\n",
    "        pais = dados_arquivo[1].replace(\".xlsx\", \"\") # TIRA O '.XLSX' E SALVA OS PAÍSES\n",
    "        # OU lista_pais = dados_arquivo[1].split(\".\")\n",
    "        # pais = lista_pais[0]\n",
    "        # OU df = pd.read_excel(f'planilhas\\\\{segmento}-{pais}.xlsx')\n",
    "\n",
    "        try:\n",
    "            df = pd.read_excel(f'planilhas\\\\{arquivo}')\n",
    "            # INSTALAR BIBLIOTECA 'openxly', alguma coisa assim\n",
    "            df.insert(0,\"Segmento\", segmento)\n",
    "            df.insert(1,\"País\", pais)\n",
    "\n",
    "            consolidado = consolidado.append(df)\n",
    "        except:\n",
    "            with open('log_erros.txt','w') as file:\n",
    "                file.write(f'Erro ao tentar consolidar o arquivo \"{arquivo}\"')\n",
    "    else: \n",
    "        with open('log_erros.txt','w') as file:\n",
    "                file.write(f'O arquivo \"{arquivo}\" não é um arquivo Excel Válido!')"
   ]
  },
  {
   "cell_type": "code",
   "execution_count": null,
   "metadata": {},
   "outputs": [],
   "source": []
  },
  {
   "cell_type": "code",
   "execution_count": 28,
   "metadata": {},
   "outputs": [
    {
     "data": {
      "text/plain": [
       "pandas.core.frame.DataFrame"
      ]
     },
     "execution_count": 28,
     "metadata": {},
     "output_type": "execute_result"
    }
   ],
   "source": [
    "type(consolidado)"
   ]
  },
  {
   "cell_type": "code",
   "execution_count": 20,
   "metadata": {},
   "outputs": [
    {
     "data": {
      "text/plain": [
       "(0, 13)"
      ]
     },
     "execution_count": 20,
     "metadata": {},
     "output_type": "execute_result"
    }
   ],
   "source": [
    "consolidado.shape\n"
   ]
  },
  {
   "cell_type": "code",
   "execution_count": 22,
   "metadata": {},
   "outputs": [],
   "source": [
    "consolidado.to_excel(f\"Report-consolidado-{data.strftime('%d-%m-%Y')}.xlsx\",\n",
    "                    index=False,\n",
    "                    sheet_name=\"Report consolidado\"                    \n",
    "                    )"
   ]
  },
  {
   "cell_type": "code",
   "execution_count": null,
   "metadata": {},
   "outputs": [],
   "source": []
  }
 ],
 "metadata": {
  "kernelspec": {
   "display_name": "Python 3.11.1 64-bit",
   "language": "python",
   "name": "python3"
  },
  "language_info": {
   "codemirror_mode": {
    "name": "ipython",
    "version": 3
   },
   "file_extension": ".py",
   "mimetype": "text/x-python",
   "name": "python",
   "nbconvert_exporter": "python",
   "pygments_lexer": "ipython3",
   "version": "3.11.1"
  },
  "orig_nbformat": 4,
  "vscode": {
   "interpreter": {
    "hash": "95b2d1448bacf9f989af12da1c4c6e35fea5360a0c5347ef00d932450680c179"
   }
  }
 },
 "nbformat": 4,
 "nbformat_minor": 2
}
