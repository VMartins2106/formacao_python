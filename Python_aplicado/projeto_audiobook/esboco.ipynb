{
 "cells": [
  {
   "cell_type": "code",
   "execution_count": 2,
   "metadata": {},
   "outputs": [],
   "source": [
    "import pyttsx3"
   ]
  },
  {
   "cell_type": "code",
   "execution_count": 3,
   "metadata": {},
   "outputs": [],
   "source": [
    "engine = pyttsx3.init() # Inicializando"
   ]
  },
  {
   "cell_type": "code",
   "execution_count": 4,
   "metadata": {},
   "outputs": [],
   "source": [
    "engine.setProperty(\"voice\",\"brazil\") # Selecionando idioma"
   ]
  },
  {
   "cell_type": "code",
   "execution_count": 9,
   "metadata": {},
   "outputs": [],
   "source": [
    "# Adicionndo texto para a fila\n",
    "\n",
    "engine.say(\"Meu nome é Victor\")\n",
    "engine.say(\"Eu estou estudando python\")\n",
    "engine.say(\"Python é demais\")"
   ]
  },
  {
   "cell_type": "code",
   "execution_count": 12,
   "metadata": {},
   "outputs": [],
   "source": [
    "# Executa tudo (em ordem) que estiver na fila\n",
    "\n",
    "engine.runAndWait()"
   ]
  },
  {
   "cell_type": "code",
   "execution_count": 11,
   "metadata": {},
   "outputs": [],
   "source": [
    "# Salva um arquivo com aquele texto informado\n",
    "engine.save_to_file(\"Meu nome é victor\", 'teste.mp3')"
   ]
  },
  {
   "cell_type": "markdown",
   "metadata": {},
   "source": [
    "### Extraindo texto do livro infantil"
   ]
  },
  {
   "cell_type": "code",
   "execution_count": 13,
   "metadata": {},
   "outputs": [],
   "source": [
    "import pdfplumber"
   ]
  },
  {
   "cell_type": "code",
   "execution_count": 14,
   "metadata": {},
   "outputs": [],
   "source": [
    "pdf = pdfplumber.open(\"O elefante em apuros.pdf\")"
   ]
  },
  {
   "cell_type": "code",
   "execution_count": 18,
   "metadata": {},
   "outputs": [],
   "source": [
    "# Retirando as paginas indesejadas\n",
    "paginas = pdf.pages[2:-3] # LIsta -> LOGO: podemos fazer slicing"
   ]
  },
  {
   "cell_type": "code",
   "execution_count": 19,
   "metadata": {},
   "outputs": [],
   "source": [
    "texto_livro = ''\n",
    "\n",
    "for pagina in paginas:\n",
    "    texto_livro += pagina.extract_text()"
   ]
  },
  {
   "cell_type": "code",
   "execution_count": 21,
   "metadata": {},
   "outputs": [
    {
     "data": {
      "text/plain": [
       "'O grande elefante estava andando na savana africana,quando viu algo se mexendo no chão e foi ver o que era.De repente, ele pisou em um chão mole.Os pés do elefante grudaram no chão, e ele começou a afundar. \\n– Oh, não! Pisei numa areia movediça! – suspirou o elefante. \\n– Por favor, alguém me ajude!Um hipopótamo ouviu o grito e resolveu ajudar o elefante.Ele puxou, puxou... mas o elefante não desatolou.Um rinoceronte passava por ali e resolveu ajudar.O rinoceronte puxou o hipopótamo, que puxou o elefante. \\nPuxaram, puxaram, mas não conseguiram desatolar o elefante.Uma girafa passava por ali e resolveu ajudar.A girafa puxou o rinoceronte, que puxou o hipopótamo, que puxou o elefante. \\nPuxaram, puxaram, mas não desatolaram o elefante.Um leão passou por ali e resolveu ajudar.O leão puxou a girafa, que puxou o rinoceronte, que puxou o hipopótamo, que \\npuxou o elefante. Puxaram, puxaram, mas não conseguiram desatolar o elefante.Uma hiena passou por ali, deu uma risada, e resolveu ajudar.A hiena puxou o leão, que puxou a girafa, que puxou o rinoceronte, que puxou \\no hipopótamo, que puxou o elefante. Puxaram, puxaram, mas não conseguiram \\ndesatolar o elefante.Um jovem suricato passou por ali e quis ajudar. Mas pensou: eu sou \\nmuito pequeno, não vou conseguir ajudar a puxar um elefante.Além disso, estou procurando a minha mãe. Ele gritou: \\n– Mamãe, onde você está? – Mas a mãe dele não respondeu.Quem respondeu foi o elefante, que já estava quase inteiro afundado na \\nareia movediça e estava desesperado. – Por favor, me ajude! – ele gritou. \\nEntão o jovem suricato resolveu ajudar.O suricato puxou a hiena, que puxou o leão, que puxou a girafa, que \\npuxou o rinoceronte, que puxou o hipopótamo, que puxou o elefante. \\nPuxaram, puxaram, mas não conseguiram desatolar o elefante.O suricato tinha dois irmãos, que também estavam procurando a mãe. \\nEles resolveram ajudar.O suricato puxou o suricato, que puxou o suricato, que puxou a hiena, que \\npuxou o leão, que puxou a girafa, que puxou o rinoceronte, que puxou o \\nhipopótamo, que puxou o elefante. Puxaram, puxaram, com toda força...E finalmente conseguiram desatolar o elefante.– Eba! – todo mundo gritou. O elefante ficou muito feliz! \\nTodos os animais ficaram muito alegres!Principalmente os jovens suricatos, quando viram alguém \\nagarrado ao rabo do elefante. Era a mamãe suricato! Ela também tinha afundado na areia movediça \\ne só conseguiu se salvar graças ao esforço de todos os animais.'"
      ]
     },
     "execution_count": 21,
     "metadata": {},
     "output_type": "execute_result"
    }
   ],
   "source": [
    "texto_livro"
   ]
  },
  {
   "cell_type": "markdown",
   "metadata": {},
   "source": [
    "#### 'PYTTSX3' IDENTIFICA MODIFICADORES DE ESTRUTURAS, TAIS COMO '\\N', '.', '!' E ETC"
   ]
  },
  {
   "cell_type": "markdown",
   "metadata": {},
   "source": [
    "##### Porém se a virgula, ponto e etc, estiver junto ao resto, ele não identifica\n",
    "- Exemplo que ele identifica:     **engine.say(\"Meu, nome é Victor\")**\n",
    "- Exemplo que ele não identifica: **engine.say(\"Meu,nome é Victor\")**"
   ]
  },
  {
   "cell_type": "code",
   "execution_count": null,
   "metadata": {},
   "outputs": [],
   "source": [
    "texto_final = texto_livro.replace('.', '. ').replace(',',', ')"
   ]
  }
 ],
 "metadata": {
  "kernelspec": {
   "display_name": "Python 3.11.1 ('venv': venv)",
   "language": "python",
   "name": "python3"
  },
  "language_info": {
   "codemirror_mode": {
    "name": "ipython",
    "version": 3
   },
   "file_extension": ".py",
   "mimetype": "text/x-python",
   "name": "python",
   "nbconvert_exporter": "python",
   "pygments_lexer": "ipython3",
   "version": "3.11.1"
  },
  "orig_nbformat": 4,
  "vscode": {
   "interpreter": {
    "hash": "845fcace94612cb289428c70c63b6df92258af2175905801312473e99dba191d"
   }
  }
 },
 "nbformat": 4,
 "nbformat_minor": 2
}
